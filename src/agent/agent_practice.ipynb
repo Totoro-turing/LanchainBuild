{
 "cells": [
  {
   "cell_type": "code",
   "execution_count": null,
   "id": "initial_id",
   "metadata": {
    "collapsed": true
   },
   "outputs": [],
   "source": [
    "from langchain.agents import initialize_agent\n",
    "from langchain.agents import AgentType\n",
    "\n",
    "from src.llm.llm_factory import LLMFactory\n",
    "\n",
    "llm = LLMFactory.create_llm()\n",
    "agent = initialize_agent(\n",
    "    tools = None,\n",
    "    llm = llm,\n",
    "    agent=AgentType.ZERO_SHOT_REACT_DESCRIPTION,  # 零样本增强生成，即在没有示例的情况下可以自主的进行对话的类型\n",
    "    verbose=True,\n",
    ")"
   ]
  },
  {
   "cell_type": "code",
   "execution_count": null,
   "outputs": [],
   "source": [
    "from langchain.agents import (\n",
    "    load_tools,\n",
    "    AgentType,\n",
    "    initialize_agent\n",
    ")\n",
    "from langchain.memory import ConversationBufferMemory\n",
    "from langchain.chat_models import ChatOpenAI\n",
    "from langchain.utilities import SerAPIWrapper\n",
    "from langchain.chains import LLMMathChain\n",
    "from langchain.prompts import MessagesPlaceholder\n",
    "\n",
    "tools = load_tools([\"serpapi\", \"llm-math\"], llm=llm)\n",
    "\n",
    "memory = ConversationBufferMemory(\n",
    "    memory_key = \"memory\",\n",
    "    return_messages = True\n",
    ")\n",
    "agent_chain = initialize_agent(\n",
    "    tools,\n",
    "    llm,\n",
    "    agent=AgentType.OPENAI_FUNCTIONS,\n",
    "    verbose=True,\n",
    "    agent_kwargs={\n",
    "        \"extra_prom_messages\": [\n",
    "            MessagesPlaceholder(variable_name=\"Memory\"),\n",
    "            MessagesPlaceholder(variable_name=\"agent_scratchpad\"),\n",
    "        ]\n",
    "    },\n",
    "    memory=memory,\n",
    ")"
   ],
   "metadata": {
    "collapsed": false
   },
   "id": "2e26d85de04d1083"
  },
  {
   "cell_type": "markdown",
   "source": [
    "工具与agent 共享记忆"
   ],
   "metadata": {
    "collapsed": false
   },
   "id": "b3b648a346a05bdb"
  },
  {
   "cell_type": "code",
   "execution_count": null,
   "outputs": [],
   "source": [],
   "metadata": {
    "collapsed": false
   },
   "id": "37e2c6af896da9e9"
  }
 ],
 "metadata": {
  "kernelspec": {
   "display_name": "Python 3",
   "language": "python",
   "name": "python3"
  },
  "language_info": {
   "codemirror_mode": {
    "name": "ipython",
    "version": 2
   },
   "file_extension": ".py",
   "mimetype": "text/x-python",
   "name": "python",
   "nbconvert_exporter": "python",
   "pygments_lexer": "ipython2",
   "version": "2.7.6"
  }
 },
 "nbformat": 4,
 "nbformat_minor": 5
}
