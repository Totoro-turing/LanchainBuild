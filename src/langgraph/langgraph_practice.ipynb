{
 "cells": [
  {
   "cell_type": "markdown",
   "source": [
    "# langgrap"
   ],
   "metadata": {
    "collapsed": false
   },
   "id": "2f4542bab8e3140f"
  },
  {
   "cell_type": "code",
   "execution_count": 4,
   "outputs": [],
   "source": [
    "from src.llm.llm_factory import LLMFactory\n",
    "\n",
    "llm = LLMFactory.create_llm()"
   ],
   "metadata": {
    "collapsed": false,
    "ExecuteTime": {
     "end_time": "2025-07-17T01:47:02.410768700Z",
     "start_time": "2025-07-17T01:46:57.744479700Z"
    }
   },
   "id": "d25a547f9391219"
  },
  {
   "cell_type": "code",
   "execution_count": null,
   "outputs": [],
   "source": [
    "# langchain 做法\n",
    "from langchain_community.chat_models import ChatTongyi\n",
    "# 构建阿里云百炼大模型客户端\n",
    "llm.invoke(\"你是谁？能帮我解决什么问题？\")"
   ],
   "metadata": {
    "collapsed": false
   },
   "id": "3799127b895192a7"
  },
  {
   "cell_type": "code",
   "execution_count": 5,
   "id": "initial_id",
   "metadata": {
    "collapsed": true,
    "ExecuteTime": {
     "end_time": "2025-07-17T01:47:06.138735300Z",
     "start_time": "2025-07-17T01:47:06.106403400Z"
    }
   },
   "outputs": [],
   "source": [
    "# langgraph 做法\n",
    "from langgraph.prebuilt import create_react_agent\n",
    "from langchain.tools import tool\n",
    "@tool\n",
    "def get_weather(city: str) -> str:\n",
    "    \"\"\"获取某个城市的天气情况\"\"\"\n",
    "    return f\"{city}今天天气热，39度\"\n",
    "\n",
    "agent = create_react_agent(\n",
    "    model = llm,\n",
    "    tools = [get_weather],\n",
    "    prompt = \"你是一个友好的小帮手\"\n",
    ")\n"
   ]
  },
  {
   "cell_type": "code",
   "execution_count": 13,
   "outputs": [],
   "source": [
    "result = agent.invoke({\n",
    "    \"messages\": [{\"role\": \"user\", \"content\": \"请问北京的天气怎么样？\"}]\n",
    "})"
   ],
   "metadata": {
    "collapsed": false,
    "ExecuteTime": {
     "end_time": "2025-07-17T01:53:03.991481600Z",
     "start_time": "2025-07-17T01:52:56.973187100Z"
    }
   },
   "id": "bd6ffc0126dfa519"
  },
  {
   "cell_type": "code",
   "execution_count": 14,
   "outputs": [
    {
     "name": "stdout",
     "output_type": "stream",
     "text": [
      "dict_values([[HumanMessage(content='请问北京的天气怎么样？', additional_kwargs={}, response_metadata={}, id='57c1c797-9985-41ad-a7fc-1ec68b8ae594'), AIMessage(content='', additional_kwargs={'tool_calls': [{'id': 'call_0_c4edc053-4c63-4c12-8a39-41ced39ab5a2', 'function': {'arguments': '{\"city\":\"北京\"}', 'name': 'get_weather'}, 'type': 'function', 'index': 0}], 'refusal': None}, response_metadata={'token_usage': {'completion_tokens': 19, 'prompt_tokens': 106, 'total_tokens': 125, 'completion_tokens_details': None, 'prompt_tokens_details': {'audio_tokens': None, 'cached_tokens': 64}, 'prompt_cache_hit_tokens': 64, 'prompt_cache_miss_tokens': 42}, 'model_name': 'deepseek-chat', 'system_fingerprint': 'fp_8802369eaa_prod0623_fp8_kvcache', 'id': 'b78df58e-7ba3-4854-948c-c2414fdc0dc5', 'service_tier': None, 'finish_reason': 'tool_calls', 'logprobs': None}, id='run--597f09a7-e72a-4885-a718-0a987f4f9fa7-0', tool_calls=[{'name': 'get_weather', 'args': {'city': '北京'}, 'id': 'call_0_c4edc053-4c63-4c12-8a39-41ced39ab5a2', 'type': 'tool_call'}], usage_metadata={'input_tokens': 106, 'output_tokens': 19, 'total_tokens': 125, 'input_token_details': {'cache_read': 64}, 'output_token_details': {}}), ToolMessage(content='北京今天天气热，39度', name='get_weather', id='a8ede2bd-9f00-4d9c-a379-22839a45c992', tool_call_id='call_0_c4edc053-4c63-4c12-8a39-41ced39ab5a2'), AIMessage(content='北京今天的天气非常热，气温高达39度，请注意防暑降温！', additional_kwargs={'refusal': None}, response_metadata={'token_usage': {'completion_tokens': 16, 'prompt_tokens': 144, 'total_tokens': 160, 'completion_tokens_details': None, 'prompt_tokens_details': {'audio_tokens': None, 'cached_tokens': 64}, 'prompt_cache_hit_tokens': 64, 'prompt_cache_miss_tokens': 80}, 'model_name': 'deepseek-chat', 'system_fingerprint': 'fp_8802369eaa_prod0623_fp8_kvcache', 'id': 'cc9f3390-f719-4607-a552-b309b4cec3b9', 'service_tier': None, 'finish_reason': 'stop', 'logprobs': None}, id='run--fe9387e2-36b3-4540-b101-f9d03c90bf7d-0', usage_metadata={'input_tokens': 144, 'output_tokens': 16, 'total_tokens': 160, 'input_token_details': {'cache_read': 64}, 'output_token_details': {}})]])\n"
     ]
    }
   ],
   "source": [
    "print(result.values())"
   ],
   "metadata": {
    "collapsed": false,
    "ExecuteTime": {
     "end_time": "2025-07-17T01:53:04.008647900Z",
     "start_time": "2025-07-17T01:53:03.993484Z"
    }
   },
   "id": "5f7476d659f331b7"
  },
  {
   "cell_type": "markdown",
   "source": [
    "这里stream_mode有三种选项：\n",
    "- updates：流式输出每个工具调用的每个步骤。\n",
    "- messages：流式输出大语言模型回复的Token。\n",
    "- values：一次拿到所有的chunk。默认值。\n",
    "- custom：自定义输出。主要是可以在工具内部使用get_stream_writer获取输入流，添加自定义的内容。\n",
    "关于流式输出的这几种选项，在后面结合Graph，会体现出更大的作用。"
   ],
   "metadata": {
    "collapsed": false
   },
   "id": "6b47179072b6ee87"
  },
  {
   "cell_type": "code",
   "execution_count": 17,
   "outputs": [
    {
     "name": "stdout",
     "output_type": "stream",
     "text": [
      "(AIMessageChunk(content='', additional_kwargs={}, response_metadata={}, id='run--ef5b139f-e234-4514-bc46-f4df8bc7e944'), {'langgraph_step': 1, 'langgraph_node': 'agent', 'langgraph_triggers': ('branch:to:agent',), 'langgraph_path': ('__pregel_pull', 'agent'), 'langgraph_checkpoint_ns': 'agent:aadc7394-5352-f191-8554-db251ad18d9d', 'checkpoint_ns': 'agent:aadc7394-5352-f191-8554-db251ad18d9d', 'ls_provider': 'openai', 'ls_model_name': 'deepseek-chat', 'ls_model_type': 'chat', 'ls_temperature': 0.0})\n",
      "\n",
      "\n",
      "(AIMessageChunk(content='我是一个', additional_kwargs={}, response_metadata={}, id='run--ef5b139f-e234-4514-bc46-f4df8bc7e944'), {'langgraph_step': 1, 'langgraph_node': 'agent', 'langgraph_triggers': ('branch:to:agent',), 'langgraph_path': ('__pregel_pull', 'agent'), 'langgraph_checkpoint_ns': 'agent:aadc7394-5352-f191-8554-db251ad18d9d', 'checkpoint_ns': 'agent:aadc7394-5352-f191-8554-db251ad18d9d', 'ls_provider': 'openai', 'ls_model_name': 'deepseek-chat', 'ls_model_type': 'chat', 'ls_temperature': 0.0})\n",
      "\n",
      "(AIMessageChunk(content='友好的', additional_kwargs={}, response_metadata={}, id='run--ef5b139f-e234-4514-bc46-f4df8bc7e944'), {'langgraph_step': 1, 'langgraph_node': 'agent', 'langgraph_triggers': ('branch:to:agent',), 'langgraph_path': ('__pregel_pull', 'agent'), 'langgraph_checkpoint_ns': 'agent:aadc7394-5352-f191-8554-db251ad18d9d', 'checkpoint_ns': 'agent:aadc7394-5352-f191-8554-db251ad18d9d', 'ls_provider': 'openai', 'ls_model_name': 'deepseek-chat', 'ls_model_type': 'chat', 'ls_temperature': 0.0})\n",
      "\n",
      "\n",
      "(AIMessageChunk(content='AI', additional_kwargs={}, response_metadata={}, id='run--ef5b139f-e234-4514-bc46-f4df8bc7e944'), {'langgraph_step': 1, 'langgraph_node': 'agent', 'langgraph_triggers': ('branch:to:agent',), 'langgraph_path': ('__pregel_pull', 'agent'), 'langgraph_checkpoint_ns': 'agent:aadc7394-5352-f191-8554-db251ad18d9d', 'checkpoint_ns': 'agent:aadc7394-5352-f191-8554-db251ad18d9d', 'ls_provider': 'openai', 'ls_model_name': 'deepseek-chat', 'ls_model_type': 'chat', 'ls_temperature': 0.0})\n",
      "\n",
      "\n",
      "(AIMessageChunk(content='助手', additional_kwargs={}, response_metadata={}, id='run--ef5b139f-e234-4514-bc46-f4df8bc7e944'), {'langgraph_step': 1, 'langgraph_node': 'agent', 'langgraph_triggers': ('branch:to:agent',), 'langgraph_path': ('__pregel_pull', 'agent'), 'langgraph_checkpoint_ns': 'agent:aadc7394-5352-f191-8554-db251ad18d9d', 'checkpoint_ns': 'agent:aadc7394-5352-f191-8554-db251ad18d9d', 'ls_provider': 'openai', 'ls_model_name': 'deepseek-chat', 'ls_model_type': 'chat', 'ls_temperature': 0.0})\n",
      "\n",
      "\n",
      "(AIMessageChunk(content='，', additional_kwargs={}, response_metadata={}, id='run--ef5b139f-e234-4514-bc46-f4df8bc7e944'), {'langgraph_step': 1, 'langgraph_node': 'agent', 'langgraph_triggers': ('branch:to:agent',), 'langgraph_path': ('__pregel_pull', 'agent'), 'langgraph_checkpoint_ns': 'agent:aadc7394-5352-f191-8554-db251ad18d9d', 'checkpoint_ns': 'agent:aadc7394-5352-f191-8554-db251ad18d9d', 'ls_provider': 'openai', 'ls_model_name': 'deepseek-chat', 'ls_model_type': 'chat', 'ls_temperature': 0.0})\n",
      "\n",
      "(AIMessageChunk(content='可以帮助', additional_kwargs={}, response_metadata={}, id='run--ef5b139f-e234-4514-bc46-f4df8bc7e944'), {'langgraph_step': 1, 'langgraph_node': 'agent', 'langgraph_triggers': ('branch:to:agent',), 'langgraph_path': ('__pregel_pull', 'agent'), 'langgraph_checkpoint_ns': 'agent:aadc7394-5352-f191-8554-db251ad18d9d', 'checkpoint_ns': 'agent:aadc7394-5352-f191-8554-db251ad18d9d', 'ls_provider': 'openai', 'ls_model_name': 'deepseek-chat', 'ls_model_type': 'chat', 'ls_temperature': 0.0})\n",
      "\n",
      "\n",
      "(AIMessageChunk(content='你', additional_kwargs={}, response_metadata={}, id='run--ef5b139f-e234-4514-bc46-f4df8bc7e944'), {'langgraph_step': 1, 'langgraph_node': 'agent', 'langgraph_triggers': ('branch:to:agent',), 'langgraph_path': ('__pregel_pull', 'agent'), 'langgraph_checkpoint_ns': 'agent:aadc7394-5352-f191-8554-db251ad18d9d', 'checkpoint_ns': 'agent:aadc7394-5352-f191-8554-db251ad18d9d', 'ls_provider': 'openai', 'ls_model_name': 'deepseek-chat', 'ls_model_type': 'chat', 'ls_temperature': 0.0})\n",
      "\n",
      "\n",
      "(AIMessageChunk(content='解决', additional_kwargs={}, response_metadata={}, id='run--ef5b139f-e234-4514-bc46-f4df8bc7e944'), {'langgraph_step': 1, 'langgraph_node': 'agent', 'langgraph_triggers': ('branch:to:agent',), 'langgraph_path': ('__pregel_pull', 'agent'), 'langgraph_checkpoint_ns': 'agent:aadc7394-5352-f191-8554-db251ad18d9d', 'checkpoint_ns': 'agent:aadc7394-5352-f191-8554-db251ad18d9d', 'ls_provider': 'openai', 'ls_model_name': 'deepseek-chat', 'ls_model_type': 'chat', 'ls_temperature': 0.0})\n",
      "\n",
      "\n",
      "(AIMessageChunk(content='各种', additional_kwargs={}, response_metadata={}, id='run--ef5b139f-e234-4514-bc46-f4df8bc7e944'), {'langgraph_step': 1, 'langgraph_node': 'agent', 'langgraph_triggers': ('branch:to:agent',), 'langgraph_path': ('__pregel_pull', 'agent'), 'langgraph_checkpoint_ns': 'agent:aadc7394-5352-f191-8554-db251ad18d9d', 'checkpoint_ns': 'agent:aadc7394-5352-f191-8554-db251ad18d9d', 'ls_provider': 'openai', 'ls_model_name': 'deepseek-chat', 'ls_model_type': 'chat', 'ls_temperature': 0.0})\n",
      "\n",
      "\n",
      "(AIMessageChunk(content='问题', additional_kwargs={}, response_metadata={}, id='run--ef5b139f-e234-4514-bc46-f4df8bc7e944'), {'langgraph_step': 1, 'langgraph_node': 'agent', 'langgraph_triggers': ('branch:to:agent',), 'langgraph_path': ('__pregel_pull', 'agent'), 'langgraph_checkpoint_ns': 'agent:aadc7394-5352-f191-8554-db251ad18d9d', 'checkpoint_ns': 'agent:aadc7394-5352-f191-8554-db251ad18d9d', 'ls_provider': 'openai', 'ls_model_name': 'deepseek-chat', 'ls_model_type': 'chat', 'ls_temperature': 0.0})\n",
      "\n",
      "\n",
      "(AIMessageChunk(content='或', additional_kwargs={}, response_metadata={}, id='run--ef5b139f-e234-4514-bc46-f4df8bc7e944'), {'langgraph_step': 1, 'langgraph_node': 'agent', 'langgraph_triggers': ('branch:to:agent',), 'langgraph_path': ('__pregel_pull', 'agent'), 'langgraph_checkpoint_ns': 'agent:aadc7394-5352-f191-8554-db251ad18d9d', 'checkpoint_ns': 'agent:aadc7394-5352-f191-8554-db251ad18d9d', 'ls_provider': 'openai', 'ls_model_name': 'deepseek-chat', 'ls_model_type': 'chat', 'ls_temperature': 0.0})\n",
      "\n",
      "(AIMessageChunk(content='提供', additional_kwargs={}, response_metadata={}, id='run--ef5b139f-e234-4514-bc46-f4df8bc7e944'), {'langgraph_step': 1, 'langgraph_node': 'agent', 'langgraph_triggers': ('branch:to:agent',), 'langgraph_path': ('__pregel_pull', 'agent'), 'langgraph_checkpoint_ns': 'agent:aadc7394-5352-f191-8554-db251ad18d9d', 'checkpoint_ns': 'agent:aadc7394-5352-f191-8554-db251ad18d9d', 'ls_provider': 'openai', 'ls_model_name': 'deepseek-chat', 'ls_model_type': 'chat', 'ls_temperature': 0.0})\n",
      "\n",
      "\n",
      "(AIMessageChunk(content='信息', additional_kwargs={}, response_metadata={}, id='run--ef5b139f-e234-4514-bc46-f4df8bc7e944'), {'langgraph_step': 1, 'langgraph_node': 'agent', 'langgraph_triggers': ('branch:to:agent',), 'langgraph_path': ('__pregel_pull', 'agent'), 'langgraph_checkpoint_ns': 'agent:aadc7394-5352-f191-8554-db251ad18d9d', 'checkpoint_ns': 'agent:aadc7394-5352-f191-8554-db251ad18d9d', 'ls_provider': 'openai', 'ls_model_name': 'deepseek-chat', 'ls_model_type': 'chat', 'ls_temperature': 0.0})\n",
      "\n",
      "\n",
      "(AIMessageChunk(content='支持', additional_kwargs={}, response_metadata={}, id='run--ef5b139f-e234-4514-bc46-f4df8bc7e944'), {'langgraph_step': 1, 'langgraph_node': 'agent', 'langgraph_triggers': ('branch:to:agent',), 'langgraph_path': ('__pregel_pull', 'agent'), 'langgraph_checkpoint_ns': 'agent:aadc7394-5352-f191-8554-db251ad18d9d', 'checkpoint_ns': 'agent:aadc7394-5352-f191-8554-db251ad18d9d', 'ls_provider': 'openai', 'ls_model_name': 'deepseek-chat', 'ls_model_type': 'chat', 'ls_temperature': 0.0})\n",
      "\n",
      "\n",
      "(AIMessageChunk(content='！', additional_kwargs={}, response_metadata={}, id='run--ef5b139f-e234-4514-bc46-f4df8bc7e944'), {'langgraph_step': 1, 'langgraph_node': 'agent', 'langgraph_triggers': ('branch:to:agent',), 'langgraph_path': ('__pregel_pull', 'agent'), 'langgraph_checkpoint_ns': 'agent:aadc7394-5352-f191-8554-db251ad18d9d', 'checkpoint_ns': 'agent:aadc7394-5352-f191-8554-db251ad18d9d', 'ls_provider': 'openai', 'ls_model_name': 'deepseek-chat', 'ls_model_type': 'chat', 'ls_temperature': 0.0})\n",
      "\n",
      "\n",
      "(AIMessageChunk(content='以下', additional_kwargs={}, response_metadata={}, id='run--ef5b139f-e234-4514-bc46-f4df8bc7e944'), {'langgraph_step': 1, 'langgraph_node': 'agent', 'langgraph_triggers': ('branch:to:agent',), 'langgraph_path': ('__pregel_pull', 'agent'), 'langgraph_checkpoint_ns': 'agent:aadc7394-5352-f191-8554-db251ad18d9d', 'checkpoint_ns': 'agent:aadc7394-5352-f191-8554-db251ad18d9d', 'ls_provider': 'openai', 'ls_model_name': 'deepseek-chat', 'ls_model_type': 'chat', 'ls_temperature': 0.0})\n",
      "\n",
      "(AIMessageChunk(content='是一些', additional_kwargs={}, response_metadata={}, id='run--ef5b139f-e234-4514-bc46-f4df8bc7e944'), {'langgraph_step': 1, 'langgraph_node': 'agent', 'langgraph_triggers': ('branch:to:agent',), 'langgraph_path': ('__pregel_pull', 'agent'), 'langgraph_checkpoint_ns': 'agent:aadc7394-5352-f191-8554-db251ad18d9d', 'checkpoint_ns': 'agent:aadc7394-5352-f191-8554-db251ad18d9d', 'ls_provider': 'openai', 'ls_model_name': 'deepseek-chat', 'ls_model_type': 'chat', 'ls_temperature': 0.0})\n",
      "\n",
      "\n",
      "(AIMessageChunk(content='我可以', additional_kwargs={}, response_metadata={}, id='run--ef5b139f-e234-4514-bc46-f4df8bc7e944'), {'langgraph_step': 1, 'langgraph_node': 'agent', 'langgraph_triggers': ('branch:to:agent',), 'langgraph_path': ('__pregel_pull', 'agent'), 'langgraph_checkpoint_ns': 'agent:aadc7394-5352-f191-8554-db251ad18d9d', 'checkpoint_ns': 'agent:aadc7394-5352-f191-8554-db251ad18d9d', 'ls_provider': 'openai', 'ls_model_name': 'deepseek-chat', 'ls_model_type': 'chat', 'ls_temperature': 0.0})\n",
      "\n",
      "\n",
      "(AIMessageChunk(content='帮', additional_kwargs={}, response_metadata={}, id='run--ef5b139f-e234-4514-bc46-f4df8bc7e944'), {'langgraph_step': 1, 'langgraph_node': 'agent', 'langgraph_triggers': ('branch:to:agent',), 'langgraph_path': ('__pregel_pull', 'agent'), 'langgraph_checkpoint_ns': 'agent:aadc7394-5352-f191-8554-db251ad18d9d', 'checkpoint_ns': 'agent:aadc7394-5352-f191-8554-db251ad18d9d', 'ls_provider': 'openai', 'ls_model_name': 'deepseek-chat', 'ls_model_type': 'chat', 'ls_temperature': 0.0})\n",
      "\n",
      "\n",
      "(AIMessageChunk(content='你的', additional_kwargs={}, response_metadata={}, id='run--ef5b139f-e234-4514-bc46-f4df8bc7e944'), {'langgraph_step': 1, 'langgraph_node': 'agent', 'langgraph_triggers': ('branch:to:agent',), 'langgraph_path': ('__pregel_pull', 'agent'), 'langgraph_checkpoint_ns': 'agent:aadc7394-5352-f191-8554-db251ad18d9d', 'checkpoint_ns': 'agent:aadc7394-5352-f191-8554-db251ad18d9d', 'ls_provider': 'openai', 'ls_model_name': 'deepseek-chat', 'ls_model_type': 'chat', 'ls_temperature': 0.0})\n",
      "\n",
      "\n",
      "(AIMessageChunk(content='方面', additional_kwargs={}, response_metadata={}, id='run--ef5b139f-e234-4514-bc46-f4df8bc7e944'), {'langgraph_step': 1, 'langgraph_node': 'agent', 'langgraph_triggers': ('branch:to:agent',), 'langgraph_path': ('__pregel_pull', 'agent'), 'langgraph_checkpoint_ns': 'agent:aadc7394-5352-f191-8554-db251ad18d9d', 'checkpoint_ns': 'agent:aadc7394-5352-f191-8554-db251ad18d9d', 'ls_provider': 'openai', 'ls_model_name': 'deepseek-chat', 'ls_model_type': 'chat', 'ls_temperature': 0.0})\n",
      "\n",
      "(AIMessageChunk(content='：\\n\\n', additional_kwargs={}, response_metadata={}, id='run--ef5b139f-e234-4514-bc46-f4df8bc7e944'), {'langgraph_step': 1, 'langgraph_node': 'agent', 'langgraph_triggers': ('branch:to:agent',), 'langgraph_path': ('__pregel_pull', 'agent'), 'langgraph_checkpoint_ns': 'agent:aadc7394-5352-f191-8554-db251ad18d9d', 'checkpoint_ns': 'agent:aadc7394-5352-f191-8554-db251ad18d9d', 'ls_provider': 'openai', 'ls_model_name': 'deepseek-chat', 'ls_model_type': 'chat', 'ls_temperature': 0.0})\n",
      "\n",
      "\n",
      "(AIMessageChunk(content='1', additional_kwargs={}, response_metadata={}, id='run--ef5b139f-e234-4514-bc46-f4df8bc7e944'), {'langgraph_step': 1, 'langgraph_node': 'agent', 'langgraph_triggers': ('branch:to:agent',), 'langgraph_path': ('__pregel_pull', 'agent'), 'langgraph_checkpoint_ns': 'agent:aadc7394-5352-f191-8554-db251ad18d9d', 'checkpoint_ns': 'agent:aadc7394-5352-f191-8554-db251ad18d9d', 'ls_provider': 'openai', 'ls_model_name': 'deepseek-chat', 'ls_model_type': 'chat', 'ls_temperature': 0.0})\n",
      "\n",
      "\n",
      "(AIMessageChunk(content='.', additional_kwargs={}, response_metadata={}, id='run--ef5b139f-e234-4514-bc46-f4df8bc7e944'), {'langgraph_step': 1, 'langgraph_node': 'agent', 'langgraph_triggers': ('branch:to:agent',), 'langgraph_path': ('__pregel_pull', 'agent'), 'langgraph_checkpoint_ns': 'agent:aadc7394-5352-f191-8554-db251ad18d9d', 'checkpoint_ns': 'agent:aadc7394-5352-f191-8554-db251ad18d9d', 'ls_provider': 'openai', 'ls_model_name': 'deepseek-chat', 'ls_model_type': 'chat', 'ls_temperature': 0.0})\n",
      "\n",
      "\n",
      "(AIMessageChunk(content=' **', additional_kwargs={}, response_metadata={}, id='run--ef5b139f-e234-4514-bc46-f4df8bc7e944'), {'langgraph_step': 1, 'langgraph_node': 'agent', 'langgraph_triggers': ('branch:to:agent',), 'langgraph_path': ('__pregel_pull', 'agent'), 'langgraph_checkpoint_ns': 'agent:aadc7394-5352-f191-8554-db251ad18d9d', 'checkpoint_ns': 'agent:aadc7394-5352-f191-8554-db251ad18d9d', 'ls_provider': 'openai', 'ls_model_name': 'deepseek-chat', 'ls_model_type': 'chat', 'ls_temperature': 0.0})\n",
      "\n",
      "\n",
      "(AIMessageChunk(content='日常生活', additional_kwargs={}, response_metadata={}, id='run--ef5b139f-e234-4514-bc46-f4df8bc7e944'), {'langgraph_step': 1, 'langgraph_node': 'agent', 'langgraph_triggers': ('branch:to:agent',), 'langgraph_path': ('__pregel_pull', 'agent'), 'langgraph_checkpoint_ns': 'agent:aadc7394-5352-f191-8554-db251ad18d9d', 'checkpoint_ns': 'agent:aadc7394-5352-f191-8554-db251ad18d9d', 'ls_provider': 'openai', 'ls_model_name': 'deepseek-chat', 'ls_model_type': 'chat', 'ls_temperature': 0.0})\n",
      "\n",
      "\n",
      "(AIMessageChunk(content='**', additional_kwargs={}, response_metadata={}, id='run--ef5b139f-e234-4514-bc46-f4df8bc7e944'), {'langgraph_step': 1, 'langgraph_node': 'agent', 'langgraph_triggers': ('branch:to:agent',), 'langgraph_path': ('__pregel_pull', 'agent'), 'langgraph_checkpoint_ns': 'agent:aadc7394-5352-f191-8554-db251ad18d9d', 'checkpoint_ns': 'agent:aadc7394-5352-f191-8554-db251ad18d9d', 'ls_provider': 'openai', 'ls_model_name': 'deepseek-chat', 'ls_model_type': 'chat', 'ls_temperature': 0.0})\n",
      "\n",
      "(AIMessageChunk(content='：\\n', additional_kwargs={}, response_metadata={}, id='run--ef5b139f-e234-4514-bc46-f4df8bc7e944'), {'langgraph_step': 1, 'langgraph_node': 'agent', 'langgraph_triggers': ('branch:to:agent',), 'langgraph_path': ('__pregel_pull', 'agent'), 'langgraph_checkpoint_ns': 'agent:aadc7394-5352-f191-8554-db251ad18d9d', 'checkpoint_ns': 'agent:aadc7394-5352-f191-8554-db251ad18d9d', 'ls_provider': 'openai', 'ls_model_name': 'deepseek-chat', 'ls_model_type': 'chat', 'ls_temperature': 0.0})\n",
      "\n",
      "\n",
      "(AIMessageChunk(content='  ', additional_kwargs={}, response_metadata={}, id='run--ef5b139f-e234-4514-bc46-f4df8bc7e944'), {'langgraph_step': 1, 'langgraph_node': 'agent', 'langgraph_triggers': ('branch:to:agent',), 'langgraph_path': ('__pregel_pull', 'agent'), 'langgraph_checkpoint_ns': 'agent:aadc7394-5352-f191-8554-db251ad18d9d', 'checkpoint_ns': 'agent:aadc7394-5352-f191-8554-db251ad18d9d', 'ls_provider': 'openai', 'ls_model_name': 'deepseek-chat', 'ls_model_type': 'chat', 'ls_temperature': 0.0})\n",
      "\n",
      "\n",
      "(AIMessageChunk(content=' -', additional_kwargs={}, response_metadata={}, id='run--ef5b139f-e234-4514-bc46-f4df8bc7e944'), {'langgraph_step': 1, 'langgraph_node': 'agent', 'langgraph_triggers': ('branch:to:agent',), 'langgraph_path': ('__pregel_pull', 'agent'), 'langgraph_checkpoint_ns': 'agent:aadc7394-5352-f191-8554-db251ad18d9d', 'checkpoint_ns': 'agent:aadc7394-5352-f191-8554-db251ad18d9d', 'ls_provider': 'openai', 'ls_model_name': 'deepseek-chat', 'ls_model_type': 'chat', 'ls_temperature': 0.0})\n",
      "\n",
      "\n",
      "(AIMessageChunk(content=' ', additional_kwargs={}, response_metadata={}, id='run--ef5b139f-e234-4514-bc46-f4df8bc7e944'), {'langgraph_step': 1, 'langgraph_node': 'agent', 'langgraph_triggers': ('branch:to:agent',), 'langgraph_path': ('__pregel_pull', 'agent'), 'langgraph_checkpoint_ns': 'agent:aadc7394-5352-f191-8554-db251ad18d9d', 'checkpoint_ns': 'agent:aadc7394-5352-f191-8554-db251ad18d9d', 'ls_provider': 'openai', 'ls_model_name': 'deepseek-chat', 'ls_model_type': 'chat', 'ls_temperature': 0.0})\n",
      "\n",
      "\n",
      "(AIMessageChunk(content='查询', additional_kwargs={}, response_metadata={}, id='run--ef5b139f-e234-4514-bc46-f4df8bc7e944'), {'langgraph_step': 1, 'langgraph_node': 'agent', 'langgraph_triggers': ('branch:to:agent',), 'langgraph_path': ('__pregel_pull', 'agent'), 'langgraph_checkpoint_ns': 'agent:aadc7394-5352-f191-8554-db251ad18d9d', 'checkpoint_ns': 'agent:aadc7394-5352-f191-8554-db251ad18d9d', 'ls_provider': 'openai', 'ls_model_name': 'deepseek-chat', 'ls_model_type': 'chat', 'ls_temperature': 0.0})\n",
      "\n",
      "\n",
      "(AIMessageChunk(content='天气', additional_kwargs={}, response_metadata={}, id='run--ef5b139f-e234-4514-bc46-f4df8bc7e944'), {'langgraph_step': 1, 'langgraph_node': 'agent', 'langgraph_triggers': ('branch:to:agent',), 'langgraph_path': ('__pregel_pull', 'agent'), 'langgraph_checkpoint_ns': 'agent:aadc7394-5352-f191-8554-db251ad18d9d', 'checkpoint_ns': 'agent:aadc7394-5352-f191-8554-db251ad18d9d', 'ls_provider': 'openai', 'ls_model_name': 'deepseek-chat', 'ls_model_type': 'chat', 'ls_temperature': 0.0})\n",
      "\n",
      "(AIMessageChunk(content='、', additional_kwargs={}, response_metadata={}, id='run--ef5b139f-e234-4514-bc46-f4df8bc7e944'), {'langgraph_step': 1, 'langgraph_node': 'agent', 'langgraph_triggers': ('branch:to:agent',), 'langgraph_path': ('__pregel_pull', 'agent'), 'langgraph_checkpoint_ns': 'agent:aadc7394-5352-f191-8554-db251ad18d9d', 'checkpoint_ns': 'agent:aadc7394-5352-f191-8554-db251ad18d9d', 'ls_provider': 'openai', 'ls_model_name': 'deepseek-chat', 'ls_model_type': 'chat', 'ls_temperature': 0.0})\n",
      "\n",
      "\n",
      "(AIMessageChunk(content='时间', additional_kwargs={}, response_metadata={}, id='run--ef5b139f-e234-4514-bc46-f4df8bc7e944'), {'langgraph_step': 1, 'langgraph_node': 'agent', 'langgraph_triggers': ('branch:to:agent',), 'langgraph_path': ('__pregel_pull', 'agent'), 'langgraph_checkpoint_ns': 'agent:aadc7394-5352-f191-8554-db251ad18d9d', 'checkpoint_ns': 'agent:aadc7394-5352-f191-8554-db251ad18d9d', 'ls_provider': 'openai', 'ls_model_name': 'deepseek-chat', 'ls_model_type': 'chat', 'ls_temperature': 0.0})\n",
      "\n",
      "\n",
      "(AIMessageChunk(content='、', additional_kwargs={}, response_metadata={}, id='run--ef5b139f-e234-4514-bc46-f4df8bc7e944'), {'langgraph_step': 1, 'langgraph_node': 'agent', 'langgraph_triggers': ('branch:to:agent',), 'langgraph_path': ('__pregel_pull', 'agent'), 'langgraph_checkpoint_ns': 'agent:aadc7394-5352-f191-8554-db251ad18d9d', 'checkpoint_ns': 'agent:aadc7394-5352-f191-8554-db251ad18d9d', 'ls_provider': 'openai', 'ls_model_name': 'deepseek-chat', 'ls_model_type': 'chat', 'ls_temperature': 0.0})\n",
      "\n",
      "\n",
      "(AIMessageChunk(content='日期', additional_kwargs={}, response_metadata={}, id='run--ef5b139f-e234-4514-bc46-f4df8bc7e944'), {'langgraph_step': 1, 'langgraph_node': 'agent', 'langgraph_triggers': ('branch:to:agent',), 'langgraph_path': ('__pregel_pull', 'agent'), 'langgraph_checkpoint_ns': 'agent:aadc7394-5352-f191-8554-db251ad18d9d', 'checkpoint_ns': 'agent:aadc7394-5352-f191-8554-db251ad18d9d', 'ls_provider': 'openai', 'ls_model_name': 'deepseek-chat', 'ls_model_type': 'chat', 'ls_temperature': 0.0})\n",
      "\n",
      "\n",
      "(AIMessageChunk(content='等', additional_kwargs={}, response_metadata={}, id='run--ef5b139f-e234-4514-bc46-f4df8bc7e944'), {'langgraph_step': 1, 'langgraph_node': 'agent', 'langgraph_triggers': ('branch:to:agent',), 'langgraph_path': ('__pregel_pull', 'agent'), 'langgraph_checkpoint_ns': 'agent:aadc7394-5352-f191-8554-db251ad18d9d', 'checkpoint_ns': 'agent:aadc7394-5352-f191-8554-db251ad18d9d', 'ls_provider': 'openai', 'ls_model_name': 'deepseek-chat', 'ls_model_type': 'chat', 'ls_temperature': 0.0})\n",
      "\n",
      "(AIMessageChunk(content='。\\n', additional_kwargs={}, response_metadata={}, id='run--ef5b139f-e234-4514-bc46-f4df8bc7e944'), {'langgraph_step': 1, 'langgraph_node': 'agent', 'langgraph_triggers': ('branch:to:agent',), 'langgraph_path': ('__pregel_pull', 'agent'), 'langgraph_checkpoint_ns': 'agent:aadc7394-5352-f191-8554-db251ad18d9d', 'checkpoint_ns': 'agent:aadc7394-5352-f191-8554-db251ad18d9d', 'ls_provider': 'openai', 'ls_model_name': 'deepseek-chat', 'ls_model_type': 'chat', 'ls_temperature': 0.0})\n",
      "\n",
      "\n",
      "(AIMessageChunk(content='  ', additional_kwargs={}, response_metadata={}, id='run--ef5b139f-e234-4514-bc46-f4df8bc7e944'), {'langgraph_step': 1, 'langgraph_node': 'agent', 'langgraph_triggers': ('branch:to:agent',), 'langgraph_path': ('__pregel_pull', 'agent'), 'langgraph_checkpoint_ns': 'agent:aadc7394-5352-f191-8554-db251ad18d9d', 'checkpoint_ns': 'agent:aadc7394-5352-f191-8554-db251ad18d9d', 'ls_provider': 'openai', 'ls_model_name': 'deepseek-chat', 'ls_model_type': 'chat', 'ls_temperature': 0.0})\n",
      "\n",
      "\n",
      "(AIMessageChunk(content=' -', additional_kwargs={}, response_metadata={}, id='run--ef5b139f-e234-4514-bc46-f4df8bc7e944'), {'langgraph_step': 1, 'langgraph_node': 'agent', 'langgraph_triggers': ('branch:to:agent',), 'langgraph_path': ('__pregel_pull', 'agent'), 'langgraph_checkpoint_ns': 'agent:aadc7394-5352-f191-8554-db251ad18d9d', 'checkpoint_ns': 'agent:aadc7394-5352-f191-8554-db251ad18d9d', 'ls_provider': 'openai', 'ls_model_name': 'deepseek-chat', 'ls_model_type': 'chat', 'ls_temperature': 0.0})\n",
      "\n",
      "\n",
      "(AIMessageChunk(content=' ', additional_kwargs={}, response_metadata={}, id='run--ef5b139f-e234-4514-bc46-f4df8bc7e944'), {'langgraph_step': 1, 'langgraph_node': 'agent', 'langgraph_triggers': ('branch:to:agent',), 'langgraph_path': ('__pregel_pull', 'agent'), 'langgraph_checkpoint_ns': 'agent:aadc7394-5352-f191-8554-db251ad18d9d', 'checkpoint_ns': 'agent:aadc7394-5352-f191-8554-db251ad18d9d', 'ls_provider': 'openai', 'ls_model_name': 'deepseek-chat', 'ls_model_type': 'chat', 'ls_temperature': 0.0})\n",
      "\n",
      "\n",
      "(AIMessageChunk(content='提供', additional_kwargs={}, response_metadata={}, id='run--ef5b139f-e234-4514-bc46-f4df8bc7e944'), {'langgraph_step': 1, 'langgraph_node': 'agent', 'langgraph_triggers': ('branch:to:agent',), 'langgraph_path': ('__pregel_pull', 'agent'), 'langgraph_checkpoint_ns': 'agent:aadc7394-5352-f191-8554-db251ad18d9d', 'checkpoint_ns': 'agent:aadc7394-5352-f191-8554-db251ad18d9d', 'ls_provider': 'openai', 'ls_model_name': 'deepseek-chat', 'ls_model_type': 'chat', 'ls_temperature': 0.0})\n",
      "\n",
      "(AIMessageChunk(content='健康', additional_kwargs={}, response_metadata={}, id='run--ef5b139f-e234-4514-bc46-f4df8bc7e944'), {'langgraph_step': 1, 'langgraph_node': 'agent', 'langgraph_triggers': ('branch:to:agent',), 'langgraph_path': ('__pregel_pull', 'agent'), 'langgraph_checkpoint_ns': 'agent:aadc7394-5352-f191-8554-db251ad18d9d', 'checkpoint_ns': 'agent:aadc7394-5352-f191-8554-db251ad18d9d', 'ls_provider': 'openai', 'ls_model_name': 'deepseek-chat', 'ls_model_type': 'chat', 'ls_temperature': 0.0})\n",
      "\n",
      "\n",
      "(AIMessageChunk(content='小', additional_kwargs={}, response_metadata={}, id='run--ef5b139f-e234-4514-bc46-f4df8bc7e944'), {'langgraph_step': 1, 'langgraph_node': 'agent', 'langgraph_triggers': ('branch:to:agent',), 'langgraph_path': ('__pregel_pull', 'agent'), 'langgraph_checkpoint_ns': 'agent:aadc7394-5352-f191-8554-db251ad18d9d', 'checkpoint_ns': 'agent:aadc7394-5352-f191-8554-db251ad18d9d', 'ls_provider': 'openai', 'ls_model_name': 'deepseek-chat', 'ls_model_type': 'chat', 'ls_temperature': 0.0})\n",
      "\n",
      "\n",
      "(AIMessageChunk(content='贴', additional_kwargs={}, response_metadata={}, id='run--ef5b139f-e234-4514-bc46-f4df8bc7e944'), {'langgraph_step': 1, 'langgraph_node': 'agent', 'langgraph_triggers': ('branch:to:agent',), 'langgraph_path': ('__pregel_pull', 'agent'), 'langgraph_checkpoint_ns': 'agent:aadc7394-5352-f191-8554-db251ad18d9d', 'checkpoint_ns': 'agent:aadc7394-5352-f191-8554-db251ad18d9d', 'ls_provider': 'openai', 'ls_model_name': 'deepseek-chat', 'ls_model_type': 'chat', 'ls_temperature': 0.0})\n",
      "\n",
      "\n",
      "(AIMessageChunk(content='士', additional_kwargs={}, response_metadata={}, id='run--ef5b139f-e234-4514-bc46-f4df8bc7e944'), {'langgraph_step': 1, 'langgraph_node': 'agent', 'langgraph_triggers': ('branch:to:agent',), 'langgraph_path': ('__pregel_pull', 'agent'), 'langgraph_checkpoint_ns': 'agent:aadc7394-5352-f191-8554-db251ad18d9d', 'checkpoint_ns': 'agent:aadc7394-5352-f191-8554-db251ad18d9d', 'ls_provider': 'openai', 'ls_model_name': 'deepseek-chat', 'ls_model_type': 'chat', 'ls_temperature': 0.0})\n",
      "\n",
      "\n",
      "(AIMessageChunk(content='或', additional_kwargs={}, response_metadata={}, id='run--ef5b139f-e234-4514-bc46-f4df8bc7e944'), {'langgraph_step': 1, 'langgraph_node': 'agent', 'langgraph_triggers': ('branch:to:agent',), 'langgraph_path': ('__pregel_pull', 'agent'), 'langgraph_checkpoint_ns': 'agent:aadc7394-5352-f191-8554-db251ad18d9d', 'checkpoint_ns': 'agent:aadc7394-5352-f191-8554-db251ad18d9d', 'ls_provider': 'openai', 'ls_model_name': 'deepseek-chat', 'ls_model_type': 'chat', 'ls_temperature': 0.0})\n",
      "\n",
      "\n",
      "(AIMessageChunk(content='生活', additional_kwargs={}, response_metadata={}, id='run--ef5b139f-e234-4514-bc46-f4df8bc7e944'), {'langgraph_step': 1, 'langgraph_node': 'agent', 'langgraph_triggers': ('branch:to:agent',), 'langgraph_path': ('__pregel_pull', 'agent'), 'langgraph_checkpoint_ns': 'agent:aadc7394-5352-f191-8554-db251ad18d9d', 'checkpoint_ns': 'agent:aadc7394-5352-f191-8554-db251ad18d9d', 'ls_provider': 'openai', 'ls_model_name': 'deepseek-chat', 'ls_model_type': 'chat', 'ls_temperature': 0.0})\n",
      "\n",
      "\n",
      "(AIMessageChunk(content='建议', additional_kwargs={}, response_metadata={}, id='run--ef5b139f-e234-4514-bc46-f4df8bc7e944'), {'langgraph_step': 1, 'langgraph_node': 'agent', 'langgraph_triggers': ('branch:to:agent',), 'langgraph_path': ('__pregel_pull', 'agent'), 'langgraph_checkpoint_ns': 'agent:aadc7394-5352-f191-8554-db251ad18d9d', 'checkpoint_ns': 'agent:aadc7394-5352-f191-8554-db251ad18d9d', 'ls_provider': 'openai', 'ls_model_name': 'deepseek-chat', 'ls_model_type': 'chat', 'ls_temperature': 0.0})\n",
      "\n",
      "\n",
      "(AIMessageChunk(content='。\\n\\n', additional_kwargs={}, response_metadata={}, id='run--ef5b139f-e234-4514-bc46-f4df8bc7e944'), {'langgraph_step': 1, 'langgraph_node': 'agent', 'langgraph_triggers': ('branch:to:agent',), 'langgraph_path': ('__pregel_pull', 'agent'), 'langgraph_checkpoint_ns': 'agent:aadc7394-5352-f191-8554-db251ad18d9d', 'checkpoint_ns': 'agent:aadc7394-5352-f191-8554-db251ad18d9d', 'ls_provider': 'openai', 'ls_model_name': 'deepseek-chat', 'ls_model_type': 'chat', 'ls_temperature': 0.0})\n",
      "\n",
      "\n",
      "(AIMessageChunk(content='2', additional_kwargs={}, response_metadata={}, id='run--ef5b139f-e234-4514-bc46-f4df8bc7e944'), {'langgraph_step': 1, 'langgraph_node': 'agent', 'langgraph_triggers': ('branch:to:agent',), 'langgraph_path': ('__pregel_pull', 'agent'), 'langgraph_checkpoint_ns': 'agent:aadc7394-5352-f191-8554-db251ad18d9d', 'checkpoint_ns': 'agent:aadc7394-5352-f191-8554-db251ad18d9d', 'ls_provider': 'openai', 'ls_model_name': 'deepseek-chat', 'ls_model_type': 'chat', 'ls_temperature': 0.0})\n",
      "\n",
      "\n",
      "(AIMessageChunk(content='.', additional_kwargs={}, response_metadata={}, id='run--ef5b139f-e234-4514-bc46-f4df8bc7e944'), {'langgraph_step': 1, 'langgraph_node': 'agent', 'langgraph_triggers': ('branch:to:agent',), 'langgraph_path': ('__pregel_pull', 'agent'), 'langgraph_checkpoint_ns': 'agent:aadc7394-5352-f191-8554-db251ad18d9d', 'checkpoint_ns': 'agent:aadc7394-5352-f191-8554-db251ad18d9d', 'ls_provider': 'openai', 'ls_model_name': 'deepseek-chat', 'ls_model_type': 'chat', 'ls_temperature': 0.0})\n",
      "\n",
      "(AIMessageChunk(content=' **', additional_kwargs={}, response_metadata={}, id='run--ef5b139f-e234-4514-bc46-f4df8bc7e944'), {'langgraph_step': 1, 'langgraph_node': 'agent', 'langgraph_triggers': ('branch:to:agent',), 'langgraph_path': ('__pregel_pull', 'agent'), 'langgraph_checkpoint_ns': 'agent:aadc7394-5352-f191-8554-db251ad18d9d', 'checkpoint_ns': 'agent:aadc7394-5352-f191-8554-db251ad18d9d', 'ls_provider': 'openai', 'ls_model_name': 'deepseek-chat', 'ls_model_type': 'chat', 'ls_temperature': 0.0})\n",
      "\n",
      "\n",
      "(AIMessageChunk(content='学习', additional_kwargs={}, response_metadata={}, id='run--ef5b139f-e234-4514-bc46-f4df8bc7e944'), {'langgraph_step': 1, 'langgraph_node': 'agent', 'langgraph_triggers': ('branch:to:agent',), 'langgraph_path': ('__pregel_pull', 'agent'), 'langgraph_checkpoint_ns': 'agent:aadc7394-5352-f191-8554-db251ad18d9d', 'checkpoint_ns': 'agent:aadc7394-5352-f191-8554-db251ad18d9d', 'ls_provider': 'openai', 'ls_model_name': 'deepseek-chat', 'ls_model_type': 'chat', 'ls_temperature': 0.0})\n",
      "\n",
      "\n",
      "(AIMessageChunk(content='与', additional_kwargs={}, response_metadata={}, id='run--ef5b139f-e234-4514-bc46-f4df8bc7e944'), {'langgraph_step': 1, 'langgraph_node': 'agent', 'langgraph_triggers': ('branch:to:agent',), 'langgraph_path': ('__pregel_pull', 'agent'), 'langgraph_checkpoint_ns': 'agent:aadc7394-5352-f191-8554-db251ad18d9d', 'checkpoint_ns': 'agent:aadc7394-5352-f191-8554-db251ad18d9d', 'ls_provider': 'openai', 'ls_model_name': 'deepseek-chat', 'ls_model_type': 'chat', 'ls_temperature': 0.0})\n",
      "\n",
      "\n",
      "(AIMessageChunk(content='工作', additional_kwargs={}, response_metadata={}, id='run--ef5b139f-e234-4514-bc46-f4df8bc7e944'), {'langgraph_step': 1, 'langgraph_node': 'agent', 'langgraph_triggers': ('branch:to:agent',), 'langgraph_path': ('__pregel_pull', 'agent'), 'langgraph_checkpoint_ns': 'agent:aadc7394-5352-f191-8554-db251ad18d9d', 'checkpoint_ns': 'agent:aadc7394-5352-f191-8554-db251ad18d9d', 'ls_provider': 'openai', 'ls_model_name': 'deepseek-chat', 'ls_model_type': 'chat', 'ls_temperature': 0.0})\n",
      "\n",
      "\n",
      "(AIMessageChunk(content='**', additional_kwargs={}, response_metadata={}, id='run--ef5b139f-e234-4514-bc46-f4df8bc7e944'), {'langgraph_step': 1, 'langgraph_node': 'agent', 'langgraph_triggers': ('branch:to:agent',), 'langgraph_path': ('__pregel_pull', 'agent'), 'langgraph_checkpoint_ns': 'agent:aadc7394-5352-f191-8554-db251ad18d9d', 'checkpoint_ns': 'agent:aadc7394-5352-f191-8554-db251ad18d9d', 'ls_provider': 'openai', 'ls_model_name': 'deepseek-chat', 'ls_model_type': 'chat', 'ls_temperature': 0.0})\n",
      "\n",
      "\n",
      "(AIMessageChunk(content='：\\n', additional_kwargs={}, response_metadata={}, id='run--ef5b139f-e234-4514-bc46-f4df8bc7e944'), {'langgraph_step': 1, 'langgraph_node': 'agent', 'langgraph_triggers': ('branch:to:agent',), 'langgraph_path': ('__pregel_pull', 'agent'), 'langgraph_checkpoint_ns': 'agent:aadc7394-5352-f191-8554-db251ad18d9d', 'checkpoint_ns': 'agent:aadc7394-5352-f191-8554-db251ad18d9d', 'ls_provider': 'openai', 'ls_model_name': 'deepseek-chat', 'ls_model_type': 'chat', 'ls_temperature': 0.0})\n",
      "\n",
      "\n",
      "(AIMessageChunk(content='  ', additional_kwargs={}, response_metadata={}, id='run--ef5b139f-e234-4514-bc46-f4df8bc7e944'), {'langgraph_step': 1, 'langgraph_node': 'agent', 'langgraph_triggers': ('branch:to:agent',), 'langgraph_path': ('__pregel_pull', 'agent'), 'langgraph_checkpoint_ns': 'agent:aadc7394-5352-f191-8554-db251ad18d9d', 'checkpoint_ns': 'agent:aadc7394-5352-f191-8554-db251ad18d9d', 'ls_provider': 'openai', 'ls_model_name': 'deepseek-chat', 'ls_model_type': 'chat', 'ls_temperature': 0.0})\n",
      "\n",
      "\n",
      "(AIMessageChunk(content=' -', additional_kwargs={}, response_metadata={}, id='run--ef5b139f-e234-4514-bc46-f4df8bc7e944'), {'langgraph_step': 1, 'langgraph_node': 'agent', 'langgraph_triggers': ('branch:to:agent',), 'langgraph_path': ('__pregel_pull', 'agent'), 'langgraph_checkpoint_ns': 'agent:aadc7394-5352-f191-8554-db251ad18d9d', 'checkpoint_ns': 'agent:aadc7394-5352-f191-8554-db251ad18d9d', 'ls_provider': 'openai', 'ls_model_name': 'deepseek-chat', 'ls_model_type': 'chat', 'ls_temperature': 0.0})\n",
      "\n",
      "(AIMessageChunk(content=' ', additional_kwargs={}, response_metadata={}, id='run--ef5b139f-e234-4514-bc46-f4df8bc7e944'), {'langgraph_step': 1, 'langgraph_node': 'agent', 'langgraph_triggers': ('branch:to:agent',), 'langgraph_path': ('__pregel_pull', 'agent'), 'langgraph_checkpoint_ns': 'agent:aadc7394-5352-f191-8554-db251ad18d9d', 'checkpoint_ns': 'agent:aadc7394-5352-f191-8554-db251ad18d9d', 'ls_provider': 'openai', 'ls_model_name': 'deepseek-chat', 'ls_model_type': 'chat', 'ls_temperature': 0.0})\n",
      "\n",
      "\n",
      "(AIMessageChunk(content='解答', additional_kwargs={}, response_metadata={}, id='run--ef5b139f-e234-4514-bc46-f4df8bc7e944'), {'langgraph_step': 1, 'langgraph_node': 'agent', 'langgraph_triggers': ('branch:to:agent',), 'langgraph_path': ('__pregel_pull', 'agent'), 'langgraph_checkpoint_ns': 'agent:aadc7394-5352-f191-8554-db251ad18d9d', 'checkpoint_ns': 'agent:aadc7394-5352-f191-8554-db251ad18d9d', 'ls_provider': 'openai', 'ls_model_name': 'deepseek-chat', 'ls_model_type': 'chat', 'ls_temperature': 0.0})\n",
      "\n",
      "\n",
      "(AIMessageChunk(content='学习', additional_kwargs={}, response_metadata={}, id='run--ef5b139f-e234-4514-bc46-f4df8bc7e944'), {'langgraph_step': 1, 'langgraph_node': 'agent', 'langgraph_triggers': ('branch:to:agent',), 'langgraph_path': ('__pregel_pull', 'agent'), 'langgraph_checkpoint_ns': 'agent:aadc7394-5352-f191-8554-db251ad18d9d', 'checkpoint_ns': 'agent:aadc7394-5352-f191-8554-db251ad18d9d', 'ls_provider': 'openai', 'ls_model_name': 'deepseek-chat', 'ls_model_type': 'chat', 'ls_temperature': 0.0})\n",
      "\n",
      "\n",
      "(AIMessageChunk(content='问题', additional_kwargs={}, response_metadata={}, id='run--ef5b139f-e234-4514-bc46-f4df8bc7e944'), {'langgraph_step': 1, 'langgraph_node': 'agent', 'langgraph_triggers': ('branch:to:agent',), 'langgraph_path': ('__pregel_pull', 'agent'), 'langgraph_checkpoint_ns': 'agent:aadc7394-5352-f191-8554-db251ad18d9d', 'checkpoint_ns': 'agent:aadc7394-5352-f191-8554-db251ad18d9d', 'ls_provider': 'openai', 'ls_model_name': 'deepseek-chat', 'ls_model_type': 'chat', 'ls_temperature': 0.0})\n",
      "\n",
      "\n",
      "(AIMessageChunk(content='（', additional_kwargs={}, response_metadata={}, id='run--ef5b139f-e234-4514-bc46-f4df8bc7e944'), {'langgraph_step': 1, 'langgraph_node': 'agent', 'langgraph_triggers': ('branch:to:agent',), 'langgraph_path': ('__pregel_pull', 'agent'), 'langgraph_checkpoint_ns': 'agent:aadc7394-5352-f191-8554-db251ad18d9d', 'checkpoint_ns': 'agent:aadc7394-5352-f191-8554-db251ad18d9d', 'ls_provider': 'openai', 'ls_model_name': 'deepseek-chat', 'ls_model_type': 'chat', 'ls_temperature': 0.0})\n",
      "\n",
      "\n",
      "(AIMessageChunk(content='数学', additional_kwargs={}, response_metadata={}, id='run--ef5b139f-e234-4514-bc46-f4df8bc7e944'), {'langgraph_step': 1, 'langgraph_node': 'agent', 'langgraph_triggers': ('branch:to:agent',), 'langgraph_path': ('__pregel_pull', 'agent'), 'langgraph_checkpoint_ns': 'agent:aadc7394-5352-f191-8554-db251ad18d9d', 'checkpoint_ns': 'agent:aadc7394-5352-f191-8554-db251ad18d9d', 'ls_provider': 'openai', 'ls_model_name': 'deepseek-chat', 'ls_model_type': 'chat', 'ls_temperature': 0.0})\n",
      "\n",
      "\n",
      "(AIMessageChunk(content='、', additional_kwargs={}, response_metadata={}, id='run--ef5b139f-e234-4514-bc46-f4df8bc7e944'), {'langgraph_step': 1, 'langgraph_node': 'agent', 'langgraph_triggers': ('branch:to:agent',), 'langgraph_path': ('__pregel_pull', 'agent'), 'langgraph_checkpoint_ns': 'agent:aadc7394-5352-f191-8554-db251ad18d9d', 'checkpoint_ns': 'agent:aadc7394-5352-f191-8554-db251ad18d9d', 'ls_provider': 'openai', 'ls_model_name': 'deepseek-chat', 'ls_model_type': 'chat', 'ls_temperature': 0.0})\n",
      "\n",
      "(AIMessageChunk(content='科学', additional_kwargs={}, response_metadata={}, id='run--ef5b139f-e234-4514-bc46-f4df8bc7e944'), {'langgraph_step': 1, 'langgraph_node': 'agent', 'langgraph_triggers': ('branch:to:agent',), 'langgraph_path': ('__pregel_pull', 'agent'), 'langgraph_checkpoint_ns': 'agent:aadc7394-5352-f191-8554-db251ad18d9d', 'checkpoint_ns': 'agent:aadc7394-5352-f191-8554-db251ad18d9d', 'ls_provider': 'openai', 'ls_model_name': 'deepseek-chat', 'ls_model_type': 'chat', 'ls_temperature': 0.0})\n",
      "\n",
      "\n",
      "(AIMessageChunk(content='、', additional_kwargs={}, response_metadata={}, id='run--ef5b139f-e234-4514-bc46-f4df8bc7e944'), {'langgraph_step': 1, 'langgraph_node': 'agent', 'langgraph_triggers': ('branch:to:agent',), 'langgraph_path': ('__pregel_pull', 'agent'), 'langgraph_checkpoint_ns': 'agent:aadc7394-5352-f191-8554-db251ad18d9d', 'checkpoint_ns': 'agent:aadc7394-5352-f191-8554-db251ad18d9d', 'ls_provider': 'openai', 'ls_model_name': 'deepseek-chat', 'ls_model_type': 'chat', 'ls_temperature': 0.0})\n",
      "\n",
      "\n",
      "(AIMessageChunk(content='语言', additional_kwargs={}, response_metadata={}, id='run--ef5b139f-e234-4514-bc46-f4df8bc7e944'), {'langgraph_step': 1, 'langgraph_node': 'agent', 'langgraph_triggers': ('branch:to:agent',), 'langgraph_path': ('__pregel_pull', 'agent'), 'langgraph_checkpoint_ns': 'agent:aadc7394-5352-f191-8554-db251ad18d9d', 'checkpoint_ns': 'agent:aadc7394-5352-f191-8554-db251ad18d9d', 'ls_provider': 'openai', 'ls_model_name': 'deepseek-chat', 'ls_model_type': 'chat', 'ls_temperature': 0.0})\n",
      "\n",
      "\n",
      "(AIMessageChunk(content='等', additional_kwargs={}, response_metadata={}, id='run--ef5b139f-e234-4514-bc46-f4df8bc7e944'), {'langgraph_step': 1, 'langgraph_node': 'agent', 'langgraph_triggers': ('branch:to:agent',), 'langgraph_path': ('__pregel_pull', 'agent'), 'langgraph_checkpoint_ns': 'agent:aadc7394-5352-f191-8554-db251ad18d9d', 'checkpoint_ns': 'agent:aadc7394-5352-f191-8554-db251ad18d9d', 'ls_provider': 'openai', 'ls_model_name': 'deepseek-chat', 'ls_model_type': 'chat', 'ls_temperature': 0.0})\n",
      "\n",
      "\n",
      "(AIMessageChunk(content='）。\\n', additional_kwargs={}, response_metadata={}, id='run--ef5b139f-e234-4514-bc46-f4df8bc7e944'), {'langgraph_step': 1, 'langgraph_node': 'agent', 'langgraph_triggers': ('branch:to:agent',), 'langgraph_path': ('__pregel_pull', 'agent'), 'langgraph_checkpoint_ns': 'agent:aadc7394-5352-f191-8554-db251ad18d9d', 'checkpoint_ns': 'agent:aadc7394-5352-f191-8554-db251ad18d9d', 'ls_provider': 'openai', 'ls_model_name': 'deepseek-chat', 'ls_model_type': 'chat', 'ls_temperature': 0.0})\n",
      "\n",
      "\n",
      "(AIMessageChunk(content='  ', additional_kwargs={}, response_metadata={}, id='run--ef5b139f-e234-4514-bc46-f4df8bc7e944'), {'langgraph_step': 1, 'langgraph_node': 'agent', 'langgraph_triggers': ('branch:to:agent',), 'langgraph_path': ('__pregel_pull', 'agent'), 'langgraph_checkpoint_ns': 'agent:aadc7394-5352-f191-8554-db251ad18d9d', 'checkpoint_ns': 'agent:aadc7394-5352-f191-8554-db251ad18d9d', 'ls_provider': 'openai', 'ls_model_name': 'deepseek-chat', 'ls_model_type': 'chat', 'ls_temperature': 0.0})\n",
      "\n",
      "\n",
      "(AIMessageChunk(content=' -', additional_kwargs={}, response_metadata={}, id='run--ef5b139f-e234-4514-bc46-f4df8bc7e944'), {'langgraph_step': 1, 'langgraph_node': 'agent', 'langgraph_triggers': ('branch:to:agent',), 'langgraph_path': ('__pregel_pull', 'agent'), 'langgraph_checkpoint_ns': 'agent:aadc7394-5352-f191-8554-db251ad18d9d', 'checkpoint_ns': 'agent:aadc7394-5352-f191-8554-db251ad18d9d', 'ls_provider': 'openai', 'ls_model_name': 'deepseek-chat', 'ls_model_type': 'chat', 'ls_temperature': 0.0})\n",
      "\n",
      "\n",
      "(AIMessageChunk(content=' ', additional_kwargs={}, response_metadata={}, id='run--ef5b139f-e234-4514-bc46-f4df8bc7e944'), {'langgraph_step': 1, 'langgraph_node': 'agent', 'langgraph_triggers': ('branch:to:agent',), 'langgraph_path': ('__pregel_pull', 'agent'), 'langgraph_checkpoint_ns': 'agent:aadc7394-5352-f191-8554-db251ad18d9d', 'checkpoint_ns': 'agent:aadc7394-5352-f191-8554-db251ad18d9d', 'ls_provider': 'openai', 'ls_model_name': 'deepseek-chat', 'ls_model_type': 'chat', 'ls_temperature': 0.0})\n",
      "\n",
      "(AIMessageChunk(content='帮助', additional_kwargs={}, response_metadata={}, id='run--ef5b139f-e234-4514-bc46-f4df8bc7e944'), {'langgraph_step': 1, 'langgraph_node': 'agent', 'langgraph_triggers': ('branch:to:agent',), 'langgraph_path': ('__pregel_pull', 'agent'), 'langgraph_checkpoint_ns': 'agent:aadc7394-5352-f191-8554-db251ad18d9d', 'checkpoint_ns': 'agent:aadc7394-5352-f191-8554-db251ad18d9d', 'ls_provider': 'openai', 'ls_model_name': 'deepseek-chat', 'ls_model_type': 'chat', 'ls_temperature': 0.0})\n",
      "\n",
      "\n",
      "(AIMessageChunk(content='整理', additional_kwargs={}, response_metadata={}, id='run--ef5b139f-e234-4514-bc46-f4df8bc7e944'), {'langgraph_step': 1, 'langgraph_node': 'agent', 'langgraph_triggers': ('branch:to:agent',), 'langgraph_path': ('__pregel_pull', 'agent'), 'langgraph_checkpoint_ns': 'agent:aadc7394-5352-f191-8554-db251ad18d9d', 'checkpoint_ns': 'agent:aadc7394-5352-f191-8554-db251ad18d9d', 'ls_provider': 'openai', 'ls_model_name': 'deepseek-chat', 'ls_model_type': 'chat', 'ls_temperature': 0.0})\n",
      "\n",
      "\n",
      "(AIMessageChunk(content='文档', additional_kwargs={}, response_metadata={}, id='run--ef5b139f-e234-4514-bc46-f4df8bc7e944'), {'langgraph_step': 1, 'langgraph_node': 'agent', 'langgraph_triggers': ('branch:to:agent',), 'langgraph_path': ('__pregel_pull', 'agent'), 'langgraph_checkpoint_ns': 'agent:aadc7394-5352-f191-8554-db251ad18d9d', 'checkpoint_ns': 'agent:aadc7394-5352-f191-8554-db251ad18d9d', 'ls_provider': 'openai', 'ls_model_name': 'deepseek-chat', 'ls_model_type': 'chat', 'ls_temperature': 0.0})\n",
      "\n",
      "\n",
      "(AIMessageChunk(content='、', additional_kwargs={}, response_metadata={}, id='run--ef5b139f-e234-4514-bc46-f4df8bc7e944'), {'langgraph_step': 1, 'langgraph_node': 'agent', 'langgraph_triggers': ('branch:to:agent',), 'langgraph_path': ('__pregel_pull', 'agent'), 'langgraph_checkpoint_ns': 'agent:aadc7394-5352-f191-8554-db251ad18d9d', 'checkpoint_ns': 'agent:aadc7394-5352-f191-8554-db251ad18d9d', 'ls_provider': 'openai', 'ls_model_name': 'deepseek-chat', 'ls_model_type': 'chat', 'ls_temperature': 0.0})\n",
      "\n",
      "\n",
      "(AIMessageChunk(content='生成', additional_kwargs={}, response_metadata={}, id='run--ef5b139f-e234-4514-bc46-f4df8bc7e944'), {'langgraph_step': 1, 'langgraph_node': 'agent', 'langgraph_triggers': ('branch:to:agent',), 'langgraph_path': ('__pregel_pull', 'agent'), 'langgraph_checkpoint_ns': 'agent:aadc7394-5352-f191-8554-db251ad18d9d', 'checkpoint_ns': 'agent:aadc7394-5352-f191-8554-db251ad18d9d', 'ls_provider': 'openai', 'ls_model_name': 'deepseek-chat', 'ls_model_type': 'chat', 'ls_temperature': 0.0})\n",
      "\n",
      "(AIMessageChunk(content='摘要', additional_kwargs={}, response_metadata={}, id='run--ef5b139f-e234-4514-bc46-f4df8bc7e944'), {'langgraph_step': 1, 'langgraph_node': 'agent', 'langgraph_triggers': ('branch:to:agent',), 'langgraph_path': ('__pregel_pull', 'agent'), 'langgraph_checkpoint_ns': 'agent:aadc7394-5352-f191-8554-db251ad18d9d', 'checkpoint_ns': 'agent:aadc7394-5352-f191-8554-db251ad18d9d', 'ls_provider': 'openai', 'ls_model_name': 'deepseek-chat', 'ls_model_type': 'chat', 'ls_temperature': 0.0})\n",
      "\n",
      "\n",
      "(AIMessageChunk(content='或', additional_kwargs={}, response_metadata={}, id='run--ef5b139f-e234-4514-bc46-f4df8bc7e944'), {'langgraph_step': 1, 'langgraph_node': 'agent', 'langgraph_triggers': ('branch:to:agent',), 'langgraph_path': ('__pregel_pull', 'agent'), 'langgraph_checkpoint_ns': 'agent:aadc7394-5352-f191-8554-db251ad18d9d', 'checkpoint_ns': 'agent:aadc7394-5352-f191-8554-db251ad18d9d', 'ls_provider': 'openai', 'ls_model_name': 'deepseek-chat', 'ls_model_type': 'chat', 'ls_temperature': 0.0})\n",
      "\n",
      "\n",
      "(AIMessageChunk(content='翻译', additional_kwargs={}, response_metadata={}, id='run--ef5b139f-e234-4514-bc46-f4df8bc7e944'), {'langgraph_step': 1, 'langgraph_node': 'agent', 'langgraph_triggers': ('branch:to:agent',), 'langgraph_path': ('__pregel_pull', 'agent'), 'langgraph_checkpoint_ns': 'agent:aadc7394-5352-f191-8554-db251ad18d9d', 'checkpoint_ns': 'agent:aadc7394-5352-f191-8554-db251ad18d9d', 'ls_provider': 'openai', 'ls_model_name': 'deepseek-chat', 'ls_model_type': 'chat', 'ls_temperature': 0.0})\n",
      "\n",
      "\n",
      "(AIMessageChunk(content='文本', additional_kwargs={}, response_metadata={}, id='run--ef5b139f-e234-4514-bc46-f4df8bc7e944'), {'langgraph_step': 1, 'langgraph_node': 'agent', 'langgraph_triggers': ('branch:to:agent',), 'langgraph_path': ('__pregel_pull', 'agent'), 'langgraph_checkpoint_ns': 'agent:aadc7394-5352-f191-8554-db251ad18d9d', 'checkpoint_ns': 'agent:aadc7394-5352-f191-8554-db251ad18d9d', 'ls_provider': 'openai', 'ls_model_name': 'deepseek-chat', 'ls_model_type': 'chat', 'ls_temperature': 0.0})\n",
      "\n",
      "(AIMessageChunk(content='。\\n', additional_kwargs={}, response_metadata={}, id='run--ef5b139f-e234-4514-bc46-f4df8bc7e944'), {'langgraph_step': 1, 'langgraph_node': 'agent', 'langgraph_triggers': ('branch:to:agent',), 'langgraph_path': ('__pregel_pull', 'agent'), 'langgraph_checkpoint_ns': 'agent:aadc7394-5352-f191-8554-db251ad18d9d', 'checkpoint_ns': 'agent:aadc7394-5352-f191-8554-db251ad18d9d', 'ls_provider': 'openai', 'ls_model_name': 'deepseek-chat', 'ls_model_type': 'chat', 'ls_temperature': 0.0})\n",
      "\n",
      "\n",
      "(AIMessageChunk(content='  ', additional_kwargs={}, response_metadata={}, id='run--ef5b139f-e234-4514-bc46-f4df8bc7e944'), {'langgraph_step': 1, 'langgraph_node': 'agent', 'langgraph_triggers': ('branch:to:agent',), 'langgraph_path': ('__pregel_pull', 'agent'), 'langgraph_checkpoint_ns': 'agent:aadc7394-5352-f191-8554-db251ad18d9d', 'checkpoint_ns': 'agent:aadc7394-5352-f191-8554-db251ad18d9d', 'ls_provider': 'openai', 'ls_model_name': 'deepseek-chat', 'ls_model_type': 'chat', 'ls_temperature': 0.0})\n",
      "\n",
      "\n",
      "(AIMessageChunk(content=' -', additional_kwargs={}, response_metadata={}, id='run--ef5b139f-e234-4514-bc46-f4df8bc7e944'), {'langgraph_step': 1, 'langgraph_node': 'agent', 'langgraph_triggers': ('branch:to:agent',), 'langgraph_path': ('__pregel_pull', 'agent'), 'langgraph_checkpoint_ns': 'agent:aadc7394-5352-f191-8554-db251ad18d9d', 'checkpoint_ns': 'agent:aadc7394-5352-f191-8554-db251ad18d9d', 'ls_provider': 'openai', 'ls_model_name': 'deepseek-chat', 'ls_model_type': 'chat', 'ls_temperature': 0.0})\n",
      "\n",
      "\n",
      "(AIMessageChunk(content=' ', additional_kwargs={}, response_metadata={}, id='run--ef5b139f-e234-4514-bc46-f4df8bc7e944'), {'langgraph_step': 1, 'langgraph_node': 'agent', 'langgraph_triggers': ('branch:to:agent',), 'langgraph_path': ('__pregel_pull', 'agent'), 'langgraph_checkpoint_ns': 'agent:aadc7394-5352-f191-8554-db251ad18d9d', 'checkpoint_ns': 'agent:aadc7394-5352-f191-8554-db251ad18d9d', 'ls_provider': 'openai', 'ls_model_name': 'deepseek-chat', 'ls_model_type': 'chat', 'ls_temperature': 0.0})\n",
      "\n",
      "\n",
      "(AIMessageChunk(content='提供', additional_kwargs={}, response_metadata={}, id='run--ef5b139f-e234-4514-bc46-f4df8bc7e944'), {'langgraph_step': 1, 'langgraph_node': 'agent', 'langgraph_triggers': ('branch:to:agent',), 'langgraph_path': ('__pregel_pull', 'agent'), 'langgraph_checkpoint_ns': 'agent:aadc7394-5352-f191-8554-db251ad18d9d', 'checkpoint_ns': 'agent:aadc7394-5352-f191-8554-db251ad18d9d', 'ls_provider': 'openai', 'ls_model_name': 'deepseek-chat', 'ls_model_type': 'chat', 'ls_temperature': 0.0})\n",
      "\n",
      "\n",
      "(AIMessageChunk(content='编程', additional_kwargs={}, response_metadata={}, id='run--ef5b139f-e234-4514-bc46-f4df8bc7e944'), {'langgraph_step': 1, 'langgraph_node': 'agent', 'langgraph_triggers': ('branch:to:agent',), 'langgraph_path': ('__pregel_pull', 'agent'), 'langgraph_checkpoint_ns': 'agent:aadc7394-5352-f191-8554-db251ad18d9d', 'checkpoint_ns': 'agent:aadc7394-5352-f191-8554-db251ad18d9d', 'ls_provider': 'openai', 'ls_model_name': 'deepseek-chat', 'ls_model_type': 'chat', 'ls_temperature': 0.0})\n",
      "\n",
      "(AIMessageChunk(content='或', additional_kwargs={}, response_metadata={}, id='run--ef5b139f-e234-4514-bc46-f4df8bc7e944'), {'langgraph_step': 1, 'langgraph_node': 'agent', 'langgraph_triggers': ('branch:to:agent',), 'langgraph_path': ('__pregel_pull', 'agent'), 'langgraph_checkpoint_ns': 'agent:aadc7394-5352-f191-8554-db251ad18d9d', 'checkpoint_ns': 'agent:aadc7394-5352-f191-8554-db251ad18d9d', 'ls_provider': 'openai', 'ls_model_name': 'deepseek-chat', 'ls_model_type': 'chat', 'ls_temperature': 0.0})\n",
      "\n",
      "\n",
      "(AIMessageChunk(content='技术', additional_kwargs={}, response_metadata={}, id='run--ef5b139f-e234-4514-bc46-f4df8bc7e944'), {'langgraph_step': 1, 'langgraph_node': 'agent', 'langgraph_triggers': ('branch:to:agent',), 'langgraph_path': ('__pregel_pull', 'agent'), 'langgraph_checkpoint_ns': 'agent:aadc7394-5352-f191-8554-db251ad18d9d', 'checkpoint_ns': 'agent:aadc7394-5352-f191-8554-db251ad18d9d', 'ls_provider': 'openai', 'ls_model_name': 'deepseek-chat', 'ls_model_type': 'chat', 'ls_temperature': 0.0})\n",
      "\n",
      "\n",
      "(AIMessageChunk(content='问题的', additional_kwargs={}, response_metadata={}, id='run--ef5b139f-e234-4514-bc46-f4df8bc7e944'), {'langgraph_step': 1, 'langgraph_node': 'agent', 'langgraph_triggers': ('branch:to:agent',), 'langgraph_path': ('__pregel_pull', 'agent'), 'langgraph_checkpoint_ns': 'agent:aadc7394-5352-f191-8554-db251ad18d9d', 'checkpoint_ns': 'agent:aadc7394-5352-f191-8554-db251ad18d9d', 'ls_provider': 'openai', 'ls_model_name': 'deepseek-chat', 'ls_model_type': 'chat', 'ls_temperature': 0.0})\n",
      "\n",
      "\n",
      "(AIMessageChunk(content='解答', additional_kwargs={}, response_metadata={}, id='run--ef5b139f-e234-4514-bc46-f4df8bc7e944'), {'langgraph_step': 1, 'langgraph_node': 'agent', 'langgraph_triggers': ('branch:to:agent',), 'langgraph_path': ('__pregel_pull', 'agent'), 'langgraph_checkpoint_ns': 'agent:aadc7394-5352-f191-8554-db251ad18d9d', 'checkpoint_ns': 'agent:aadc7394-5352-f191-8554-db251ad18d9d', 'ls_provider': 'openai', 'ls_model_name': 'deepseek-chat', 'ls_model_type': 'chat', 'ls_temperature': 0.0})\n",
      "\n",
      "\n",
      "(AIMessageChunk(content='。\\n\\n', additional_kwargs={}, response_metadata={}, id='run--ef5b139f-e234-4514-bc46-f4df8bc7e944'), {'langgraph_step': 1, 'langgraph_node': 'agent', 'langgraph_triggers': ('branch:to:agent',), 'langgraph_path': ('__pregel_pull', 'agent'), 'langgraph_checkpoint_ns': 'agent:aadc7394-5352-f191-8554-db251ad18d9d', 'checkpoint_ns': 'agent:aadc7394-5352-f191-8554-db251ad18d9d', 'ls_provider': 'openai', 'ls_model_name': 'deepseek-chat', 'ls_model_type': 'chat', 'ls_temperature': 0.0})\n",
      "\n",
      "\n",
      "(AIMessageChunk(content='3', additional_kwargs={}, response_metadata={}, id='run--ef5b139f-e234-4514-bc46-f4df8bc7e944'), {'langgraph_step': 1, 'langgraph_node': 'agent', 'langgraph_triggers': ('branch:to:agent',), 'langgraph_path': ('__pregel_pull', 'agent'), 'langgraph_checkpoint_ns': 'agent:aadc7394-5352-f191-8554-db251ad18d9d', 'checkpoint_ns': 'agent:aadc7394-5352-f191-8554-db251ad18d9d', 'ls_provider': 'openai', 'ls_model_name': 'deepseek-chat', 'ls_model_type': 'chat', 'ls_temperature': 0.0})\n",
      "\n",
      "\n",
      "(AIMessageChunk(content='.', additional_kwargs={}, response_metadata={}, id='run--ef5b139f-e234-4514-bc46-f4df8bc7e944'), {'langgraph_step': 1, 'langgraph_node': 'agent', 'langgraph_triggers': ('branch:to:agent',), 'langgraph_path': ('__pregel_pull', 'agent'), 'langgraph_checkpoint_ns': 'agent:aadc7394-5352-f191-8554-db251ad18d9d', 'checkpoint_ns': 'agent:aadc7394-5352-f191-8554-db251ad18d9d', 'ls_provider': 'openai', 'ls_model_name': 'deepseek-chat', 'ls_model_type': 'chat', 'ls_temperature': 0.0})\n",
      "\n",
      "\n",
      "(AIMessageChunk(content=' **', additional_kwargs={}, response_metadata={}, id='run--ef5b139f-e234-4514-bc46-f4df8bc7e944'), {'langgraph_step': 1, 'langgraph_node': 'agent', 'langgraph_triggers': ('branch:to:agent',), 'langgraph_path': ('__pregel_pull', 'agent'), 'langgraph_checkpoint_ns': 'agent:aadc7394-5352-f191-8554-db251ad18d9d', 'checkpoint_ns': 'agent:aadc7394-5352-f191-8554-db251ad18d9d', 'ls_provider': 'openai', 'ls_model_name': 'deepseek-chat', 'ls_model_type': 'chat', 'ls_temperature': 0.0})\n",
      "\n",
      "(AIMessageChunk(content='娱乐', additional_kwargs={}, response_metadata={}, id='run--ef5b139f-e234-4514-bc46-f4df8bc7e944'), {'langgraph_step': 1, 'langgraph_node': 'agent', 'langgraph_triggers': ('branch:to:agent',), 'langgraph_path': ('__pregel_pull', 'agent'), 'langgraph_checkpoint_ns': 'agent:aadc7394-5352-f191-8554-db251ad18d9d', 'checkpoint_ns': 'agent:aadc7394-5352-f191-8554-db251ad18d9d', 'ls_provider': 'openai', 'ls_model_name': 'deepseek-chat', 'ls_model_type': 'chat', 'ls_temperature': 0.0})\n",
      "\n",
      "\n",
      "(AIMessageChunk(content='与', additional_kwargs={}, response_metadata={}, id='run--ef5b139f-e234-4514-bc46-f4df8bc7e944'), {'langgraph_step': 1, 'langgraph_node': 'agent', 'langgraph_triggers': ('branch:to:agent',), 'langgraph_path': ('__pregel_pull', 'agent'), 'langgraph_checkpoint_ns': 'agent:aadc7394-5352-f191-8554-db251ad18d9d', 'checkpoint_ns': 'agent:aadc7394-5352-f191-8554-db251ad18d9d', 'ls_provider': 'openai', 'ls_model_name': 'deepseek-chat', 'ls_model_type': 'chat', 'ls_temperature': 0.0})\n",
      "\n",
      "\n",
      "(AIMessageChunk(content='兴趣', additional_kwargs={}, response_metadata={}, id='run--ef5b139f-e234-4514-bc46-f4df8bc7e944'), {'langgraph_step': 1, 'langgraph_node': 'agent', 'langgraph_triggers': ('branch:to:agent',), 'langgraph_path': ('__pregel_pull', 'agent'), 'langgraph_checkpoint_ns': 'agent:aadc7394-5352-f191-8554-db251ad18d9d', 'checkpoint_ns': 'agent:aadc7394-5352-f191-8554-db251ad18d9d', 'ls_provider': 'openai', 'ls_model_name': 'deepseek-chat', 'ls_model_type': 'chat', 'ls_temperature': 0.0})\n",
      "\n",
      "\n",
      "(AIMessageChunk(content='**', additional_kwargs={}, response_metadata={}, id='run--ef5b139f-e234-4514-bc46-f4df8bc7e944'), {'langgraph_step': 1, 'langgraph_node': 'agent', 'langgraph_triggers': ('branch:to:agent',), 'langgraph_path': ('__pregel_pull', 'agent'), 'langgraph_checkpoint_ns': 'agent:aadc7394-5352-f191-8554-db251ad18d9d', 'checkpoint_ns': 'agent:aadc7394-5352-f191-8554-db251ad18d9d', 'ls_provider': 'openai', 'ls_model_name': 'deepseek-chat', 'ls_model_type': 'chat', 'ls_temperature': 0.0})\n",
      "\n",
      "\n",
      "(AIMessageChunk(content='：\\n', additional_kwargs={}, response_metadata={}, id='run--ef5b139f-e234-4514-bc46-f4df8bc7e944'), {'langgraph_step': 1, 'langgraph_node': 'agent', 'langgraph_triggers': ('branch:to:agent',), 'langgraph_path': ('__pregel_pull', 'agent'), 'langgraph_checkpoint_ns': 'agent:aadc7394-5352-f191-8554-db251ad18d9d', 'checkpoint_ns': 'agent:aadc7394-5352-f191-8554-db251ad18d9d', 'ls_provider': 'openai', 'ls_model_name': 'deepseek-chat', 'ls_model_type': 'chat', 'ls_temperature': 0.0})\n",
      "\n",
      "\n",
      "(AIMessageChunk(content='  ', additional_kwargs={}, response_metadata={}, id='run--ef5b139f-e234-4514-bc46-f4df8bc7e944'), {'langgraph_step': 1, 'langgraph_node': 'agent', 'langgraph_triggers': ('branch:to:agent',), 'langgraph_path': ('__pregel_pull', 'agent'), 'langgraph_checkpoint_ns': 'agent:aadc7394-5352-f191-8554-db251ad18d9d', 'checkpoint_ns': 'agent:aadc7394-5352-f191-8554-db251ad18d9d', 'ls_provider': 'openai', 'ls_model_name': 'deepseek-chat', 'ls_model_type': 'chat', 'ls_temperature': 0.0})\n",
      "\n",
      "\n",
      "(AIMessageChunk(content=' -', additional_kwargs={}, response_metadata={}, id='run--ef5b139f-e234-4514-bc46-f4df8bc7e944'), {'langgraph_step': 1, 'langgraph_node': 'agent', 'langgraph_triggers': ('branch:to:agent',), 'langgraph_path': ('__pregel_pull', 'agent'), 'langgraph_checkpoint_ns': 'agent:aadc7394-5352-f191-8554-db251ad18d9d', 'checkpoint_ns': 'agent:aadc7394-5352-f191-8554-db251ad18d9d', 'ls_provider': 'openai', 'ls_model_name': 'deepseek-chat', 'ls_model_type': 'chat', 'ls_temperature': 0.0})\n",
      "\n",
      "(AIMessageChunk(content=' ', additional_kwargs={}, response_metadata={}, id='run--ef5b139f-e234-4514-bc46-f4df8bc7e944'), {'langgraph_step': 1, 'langgraph_node': 'agent', 'langgraph_triggers': ('branch:to:agent',), 'langgraph_path': ('__pregel_pull', 'agent'), 'langgraph_checkpoint_ns': 'agent:aadc7394-5352-f191-8554-db251ad18d9d', 'checkpoint_ns': 'agent:aadc7394-5352-f191-8554-db251ad18d9d', 'ls_provider': 'openai', 'ls_model_name': 'deepseek-chat', 'ls_model_type': 'chat', 'ls_temperature': 0.0})\n",
      "\n",
      "\n",
      "(AIMessageChunk(content='推荐', additional_kwargs={}, response_metadata={}, id='run--ef5b139f-e234-4514-bc46-f4df8bc7e944'), {'langgraph_step': 1, 'langgraph_node': 'agent', 'langgraph_triggers': ('branch:to:agent',), 'langgraph_path': ('__pregel_pull', 'agent'), 'langgraph_checkpoint_ns': 'agent:aadc7394-5352-f191-8554-db251ad18d9d', 'checkpoint_ns': 'agent:aadc7394-5352-f191-8554-db251ad18d9d', 'ls_provider': 'openai', 'ls_model_name': 'deepseek-chat', 'ls_model_type': 'chat', 'ls_temperature': 0.0})\n",
      "\n",
      "\n",
      "(AIMessageChunk(content='书籍', additional_kwargs={}, response_metadata={}, id='run--ef5b139f-e234-4514-bc46-f4df8bc7e944'), {'langgraph_step': 1, 'langgraph_node': 'agent', 'langgraph_triggers': ('branch:to:agent',), 'langgraph_path': ('__pregel_pull', 'agent'), 'langgraph_checkpoint_ns': 'agent:aadc7394-5352-f191-8554-db251ad18d9d', 'checkpoint_ns': 'agent:aadc7394-5352-f191-8554-db251ad18d9d', 'ls_provider': 'openai', 'ls_model_name': 'deepseek-chat', 'ls_model_type': 'chat', 'ls_temperature': 0.0})\n",
      "\n",
      "\n",
      "(AIMessageChunk(content='、', additional_kwargs={}, response_metadata={}, id='run--ef5b139f-e234-4514-bc46-f4df8bc7e944'), {'langgraph_step': 1, 'langgraph_node': 'agent', 'langgraph_triggers': ('branch:to:agent',), 'langgraph_path': ('__pregel_pull', 'agent'), 'langgraph_checkpoint_ns': 'agent:aadc7394-5352-f191-8554-db251ad18d9d', 'checkpoint_ns': 'agent:aadc7394-5352-f191-8554-db251ad18d9d', 'ls_provider': 'openai', 'ls_model_name': 'deepseek-chat', 'ls_model_type': 'chat', 'ls_temperature': 0.0})\n",
      "\n",
      "\n",
      "(AIMessageChunk(content='电影', additional_kwargs={}, response_metadata={}, id='run--ef5b139f-e234-4514-bc46-f4df8bc7e944'), {'langgraph_step': 1, 'langgraph_node': 'agent', 'langgraph_triggers': ('branch:to:agent',), 'langgraph_path': ('__pregel_pull', 'agent'), 'langgraph_checkpoint_ns': 'agent:aadc7394-5352-f191-8554-db251ad18d9d', 'checkpoint_ns': 'agent:aadc7394-5352-f191-8554-db251ad18d9d', 'ls_provider': 'openai', 'ls_model_name': 'deepseek-chat', 'ls_model_type': 'chat', 'ls_temperature': 0.0})\n",
      "\n",
      "(AIMessageChunk(content='、', additional_kwargs={}, response_metadata={}, id='run--ef5b139f-e234-4514-bc46-f4df8bc7e944'), {'langgraph_step': 1, 'langgraph_node': 'agent', 'langgraph_triggers': ('branch:to:agent',), 'langgraph_path': ('__pregel_pull', 'agent'), 'langgraph_checkpoint_ns': 'agent:aadc7394-5352-f191-8554-db251ad18d9d', 'checkpoint_ns': 'agent:aadc7394-5352-f191-8554-db251ad18d9d', 'ls_provider': 'openai', 'ls_model_name': 'deepseek-chat', 'ls_model_type': 'chat', 'ls_temperature': 0.0})\n",
      "\n",
      "\n",
      "(AIMessageChunk(content='音乐', additional_kwargs={}, response_metadata={}, id='run--ef5b139f-e234-4514-bc46-f4df8bc7e944'), {'langgraph_step': 1, 'langgraph_node': 'agent', 'langgraph_triggers': ('branch:to:agent',), 'langgraph_path': ('__pregel_pull', 'agent'), 'langgraph_checkpoint_ns': 'agent:aadc7394-5352-f191-8554-db251ad18d9d', 'checkpoint_ns': 'agent:aadc7394-5352-f191-8554-db251ad18d9d', 'ls_provider': 'openai', 'ls_model_name': 'deepseek-chat', 'ls_model_type': 'chat', 'ls_temperature': 0.0})\n",
      "\n",
      "\n",
      "(AIMessageChunk(content='或', additional_kwargs={}, response_metadata={}, id='run--ef5b139f-e234-4514-bc46-f4df8bc7e944'), {'langgraph_step': 1, 'langgraph_node': 'agent', 'langgraph_triggers': ('branch:to:agent',), 'langgraph_path': ('__pregel_pull', 'agent'), 'langgraph_checkpoint_ns': 'agent:aadc7394-5352-f191-8554-db251ad18d9d', 'checkpoint_ns': 'agent:aadc7394-5352-f191-8554-db251ad18d9d', 'ls_provider': 'openai', 'ls_model_name': 'deepseek-chat', 'ls_model_type': 'chat', 'ls_temperature': 0.0})\n",
      "\n",
      "\n",
      "(AIMessageChunk(content='游戏', additional_kwargs={}, response_metadata={}, id='run--ef5b139f-e234-4514-bc46-f4df8bc7e944'), {'langgraph_step': 1, 'langgraph_node': 'agent', 'langgraph_triggers': ('branch:to:agent',), 'langgraph_path': ('__pregel_pull', 'agent'), 'langgraph_checkpoint_ns': 'agent:aadc7394-5352-f191-8554-db251ad18d9d', 'checkpoint_ns': 'agent:aadc7394-5352-f191-8554-db251ad18d9d', 'ls_provider': 'openai', 'ls_model_name': 'deepseek-chat', 'ls_model_type': 'chat', 'ls_temperature': 0.0})\n",
      "\n",
      "\n",
      "(AIMessageChunk(content='。\\n', additional_kwargs={}, response_metadata={}, id='run--ef5b139f-e234-4514-bc46-f4df8bc7e944'), {'langgraph_step': 1, 'langgraph_node': 'agent', 'langgraph_triggers': ('branch:to:agent',), 'langgraph_path': ('__pregel_pull', 'agent'), 'langgraph_checkpoint_ns': 'agent:aadc7394-5352-f191-8554-db251ad18d9d', 'checkpoint_ns': 'agent:aadc7394-5352-f191-8554-db251ad18d9d', 'ls_provider': 'openai', 'ls_model_name': 'deepseek-chat', 'ls_model_type': 'chat', 'ls_temperature': 0.0})\n",
      "\n",
      "\n",
      "(AIMessageChunk(content='  ', additional_kwargs={}, response_metadata={}, id='run--ef5b139f-e234-4514-bc46-f4df8bc7e944'), {'langgraph_step': 1, 'langgraph_node': 'agent', 'langgraph_triggers': ('branch:to:agent',), 'langgraph_path': ('__pregel_pull', 'agent'), 'langgraph_checkpoint_ns': 'agent:aadc7394-5352-f191-8554-db251ad18d9d', 'checkpoint_ns': 'agent:aadc7394-5352-f191-8554-db251ad18d9d', 'ls_provider': 'openai', 'ls_model_name': 'deepseek-chat', 'ls_model_type': 'chat', 'ls_temperature': 0.0})\n",
      "\n",
      "(AIMessageChunk(content=' -', additional_kwargs={}, response_metadata={}, id='run--ef5b139f-e234-4514-bc46-f4df8bc7e944'), {'langgraph_step': 1, 'langgraph_node': 'agent', 'langgraph_triggers': ('branch:to:agent',), 'langgraph_path': ('__pregel_pull', 'agent'), 'langgraph_checkpoint_ns': 'agent:aadc7394-5352-f191-8554-db251ad18d9d', 'checkpoint_ns': 'agent:aadc7394-5352-f191-8554-db251ad18d9d', 'ls_provider': 'openai', 'ls_model_name': 'deepseek-chat', 'ls_model_type': 'chat', 'ls_temperature': 0.0})\n",
      "\n",
      "\n",
      "(AIMessageChunk(content=' ', additional_kwargs={}, response_metadata={}, id='run--ef5b139f-e234-4514-bc46-f4df8bc7e944'), {'langgraph_step': 1, 'langgraph_node': 'agent', 'langgraph_triggers': ('branch:to:agent',), 'langgraph_path': ('__pregel_pull', 'agent'), 'langgraph_checkpoint_ns': 'agent:aadc7394-5352-f191-8554-db251ad18d9d', 'checkpoint_ns': 'agent:aadc7394-5352-f191-8554-db251ad18d9d', 'ls_provider': 'openai', 'ls_model_name': 'deepseek-chat', 'ls_model_type': 'chat', 'ls_temperature': 0.0})\n",
      "\n",
      "\n",
      "(AIMessageChunk(content='分享', additional_kwargs={}, response_metadata={}, id='run--ef5b139f-e234-4514-bc46-f4df8bc7e944'), {'langgraph_step': 1, 'langgraph_node': 'agent', 'langgraph_triggers': ('branch:to:agent',), 'langgraph_path': ('__pregel_pull', 'agent'), 'langgraph_checkpoint_ns': 'agent:aadc7394-5352-f191-8554-db251ad18d9d', 'checkpoint_ns': 'agent:aadc7394-5352-f191-8554-db251ad18d9d', 'ls_provider': 'openai', 'ls_model_name': 'deepseek-chat', 'ls_model_type': 'chat', 'ls_temperature': 0.0})\n",
      "\n",
      "\n",
      "(AIMessageChunk(content='有趣的', additional_kwargs={}, response_metadata={}, id='run--ef5b139f-e234-4514-bc46-f4df8bc7e944'), {'langgraph_step': 1, 'langgraph_node': 'agent', 'langgraph_triggers': ('branch:to:agent',), 'langgraph_path': ('__pregel_pull', 'agent'), 'langgraph_checkpoint_ns': 'agent:aadc7394-5352-f191-8554-db251ad18d9d', 'checkpoint_ns': 'agent:aadc7394-5352-f191-8554-db251ad18d9d', 'ls_provider': 'openai', 'ls_model_name': 'deepseek-chat', 'ls_model_type': 'chat', 'ls_temperature': 0.0})\n",
      "\n",
      "\n",
      "(AIMessageChunk(content='冷', additional_kwargs={}, response_metadata={}, id='run--ef5b139f-e234-4514-bc46-f4df8bc7e944'), {'langgraph_step': 1, 'langgraph_node': 'agent', 'langgraph_triggers': ('branch:to:agent',), 'langgraph_path': ('__pregel_pull', 'agent'), 'langgraph_checkpoint_ns': 'agent:aadc7394-5352-f191-8554-db251ad18d9d', 'checkpoint_ns': 'agent:aadc7394-5352-f191-8554-db251ad18d9d', 'ls_provider': 'openai', 'ls_model_name': 'deepseek-chat', 'ls_model_type': 'chat', 'ls_temperature': 0.0})\n",
      "\n",
      "\n",
      "(AIMessageChunk(content='知识', additional_kwargs={}, response_metadata={}, id='run--ef5b139f-e234-4514-bc46-f4df8bc7e944'), {'langgraph_step': 1, 'langgraph_node': 'agent', 'langgraph_triggers': ('branch:to:agent',), 'langgraph_path': ('__pregel_pull', 'agent'), 'langgraph_checkpoint_ns': 'agent:aadc7394-5352-f191-8554-db251ad18d9d', 'checkpoint_ns': 'agent:aadc7394-5352-f191-8554-db251ad18d9d', 'ls_provider': 'openai', 'ls_model_name': 'deepseek-chat', 'ls_model_type': 'chat', 'ls_temperature': 0.0})\n",
      "\n",
      "\n",
      "(AIMessageChunk(content='或', additional_kwargs={}, response_metadata={}, id='run--ef5b139f-e234-4514-bc46-f4df8bc7e944'), {'langgraph_step': 1, 'langgraph_node': 'agent', 'langgraph_triggers': ('branch:to:agent',), 'langgraph_path': ('__pregel_pull', 'agent'), 'langgraph_checkpoint_ns': 'agent:aadc7394-5352-f191-8554-db251ad18d9d', 'checkpoint_ns': 'agent:aadc7394-5352-f191-8554-db251ad18d9d', 'ls_provider': 'openai', 'ls_model_name': 'deepseek-chat', 'ls_model_type': 'chat', 'ls_temperature': 0.0})\n",
      "\n",
      "\n",
      "(AIMessageChunk(content='笑话', additional_kwargs={}, response_metadata={}, id='run--ef5b139f-e234-4514-bc46-f4df8bc7e944'), {'langgraph_step': 1, 'langgraph_node': 'agent', 'langgraph_triggers': ('branch:to:agent',), 'langgraph_path': ('__pregel_pull', 'agent'), 'langgraph_checkpoint_ns': 'agent:aadc7394-5352-f191-8554-db251ad18d9d', 'checkpoint_ns': 'agent:aadc7394-5352-f191-8554-db251ad18d9d', 'ls_provider': 'openai', 'ls_model_name': 'deepseek-chat', 'ls_model_type': 'chat', 'ls_temperature': 0.0})\n",
      "\n",
      "(AIMessageChunk(content='。\\n\\n', additional_kwargs={}, response_metadata={}, id='run--ef5b139f-e234-4514-bc46-f4df8bc7e944'), {'langgraph_step': 1, 'langgraph_node': 'agent', 'langgraph_triggers': ('branch:to:agent',), 'langgraph_path': ('__pregel_pull', 'agent'), 'langgraph_checkpoint_ns': 'agent:aadc7394-5352-f191-8554-db251ad18d9d', 'checkpoint_ns': 'agent:aadc7394-5352-f191-8554-db251ad18d9d', 'ls_provider': 'openai', 'ls_model_name': 'deepseek-chat', 'ls_model_type': 'chat', 'ls_temperature': 0.0})\n",
      "\n",
      "\n",
      "(AIMessageChunk(content='4', additional_kwargs={}, response_metadata={}, id='run--ef5b139f-e234-4514-bc46-f4df8bc7e944'), {'langgraph_step': 1, 'langgraph_node': 'agent', 'langgraph_triggers': ('branch:to:agent',), 'langgraph_path': ('__pregel_pull', 'agent'), 'langgraph_checkpoint_ns': 'agent:aadc7394-5352-f191-8554-db251ad18d9d', 'checkpoint_ns': 'agent:aadc7394-5352-f191-8554-db251ad18d9d', 'ls_provider': 'openai', 'ls_model_name': 'deepseek-chat', 'ls_model_type': 'chat', 'ls_temperature': 0.0})\n",
      "\n",
      "\n",
      "(AIMessageChunk(content='.', additional_kwargs={}, response_metadata={}, id='run--ef5b139f-e234-4514-bc46-f4df8bc7e944'), {'langgraph_step': 1, 'langgraph_node': 'agent', 'langgraph_triggers': ('branch:to:agent',), 'langgraph_path': ('__pregel_pull', 'agent'), 'langgraph_checkpoint_ns': 'agent:aadc7394-5352-f191-8554-db251ad18d9d', 'checkpoint_ns': 'agent:aadc7394-5352-f191-8554-db251ad18d9d', 'ls_provider': 'openai', 'ls_model_name': 'deepseek-chat', 'ls_model_type': 'chat', 'ls_temperature': 0.0})\n",
      "\n",
      "\n",
      "(AIMessageChunk(content=' **', additional_kwargs={}, response_metadata={}, id='run--ef5b139f-e234-4514-bc46-f4df8bc7e944'), {'langgraph_step': 1, 'langgraph_node': 'agent', 'langgraph_triggers': ('branch:to:agent',), 'langgraph_path': ('__pregel_pull', 'agent'), 'langgraph_checkpoint_ns': 'agent:aadc7394-5352-f191-8554-db251ad18d9d', 'checkpoint_ns': 'agent:aadc7394-5352-f191-8554-db251ad18d9d', 'ls_provider': 'openai', 'ls_model_name': 'deepseek-chat', 'ls_model_type': 'chat', 'ls_temperature': 0.0})\n",
      "\n",
      "\n",
      "(AIMessageChunk(content='工具', additional_kwargs={}, response_metadata={}, id='run--ef5b139f-e234-4514-bc46-f4df8bc7e944'), {'langgraph_step': 1, 'langgraph_node': 'agent', 'langgraph_triggers': ('branch:to:agent',), 'langgraph_path': ('__pregel_pull', 'agent'), 'langgraph_checkpoint_ns': 'agent:aadc7394-5352-f191-8554-db251ad18d9d', 'checkpoint_ns': 'agent:aadc7394-5352-f191-8554-db251ad18d9d', 'ls_provider': 'openai', 'ls_model_name': 'deepseek-chat', 'ls_model_type': 'chat', 'ls_temperature': 0.0})\n",
      "\n",
      "\n",
      "(AIMessageChunk(content='与', additional_kwargs={}, response_metadata={}, id='run--ef5b139f-e234-4514-bc46-f4df8bc7e944'), {'langgraph_step': 1, 'langgraph_node': 'agent', 'langgraph_triggers': ('branch:to:agent',), 'langgraph_path': ('__pregel_pull', 'agent'), 'langgraph_checkpoint_ns': 'agent:aadc7394-5352-f191-8554-db251ad18d9d', 'checkpoint_ns': 'agent:aadc7394-5352-f191-8554-db251ad18d9d', 'ls_provider': 'openai', 'ls_model_name': 'deepseek-chat', 'ls_model_type': 'chat', 'ls_temperature': 0.0})\n",
      "\n",
      "\n",
      "(AIMessageChunk(content='实用', additional_kwargs={}, response_metadata={}, id='run--ef5b139f-e234-4514-bc46-f4df8bc7e944'), {'langgraph_step': 1, 'langgraph_node': 'agent', 'langgraph_triggers': ('branch:to:agent',), 'langgraph_path': ('__pregel_pull', 'agent'), 'langgraph_checkpoint_ns': 'agent:aadc7394-5352-f191-8554-db251ad18d9d', 'checkpoint_ns': 'agent:aadc7394-5352-f191-8554-db251ad18d9d', 'ls_provider': 'openai', 'ls_model_name': 'deepseek-chat', 'ls_model_type': 'chat', 'ls_temperature': 0.0})\n",
      "\n",
      "\n",
      "(AIMessageChunk(content='功能', additional_kwargs={}, response_metadata={}, id='run--ef5b139f-e234-4514-bc46-f4df8bc7e944'), {'langgraph_step': 1, 'langgraph_node': 'agent', 'langgraph_triggers': ('branch:to:agent',), 'langgraph_path': ('__pregel_pull', 'agent'), 'langgraph_checkpoint_ns': 'agent:aadc7394-5352-f191-8554-db251ad18d9d', 'checkpoint_ns': 'agent:aadc7394-5352-f191-8554-db251ad18d9d', 'ls_provider': 'openai', 'ls_model_name': 'deepseek-chat', 'ls_model_type': 'chat', 'ls_temperature': 0.0})\n",
      "\n",
      "(AIMessageChunk(content='**', additional_kwargs={}, response_metadata={}, id='run--ef5b139f-e234-4514-bc46-f4df8bc7e944'), {'langgraph_step': 1, 'langgraph_node': 'agent', 'langgraph_triggers': ('branch:to:agent',), 'langgraph_path': ('__pregel_pull', 'agent'), 'langgraph_checkpoint_ns': 'agent:aadc7394-5352-f191-8554-db251ad18d9d', 'checkpoint_ns': 'agent:aadc7394-5352-f191-8554-db251ad18d9d', 'ls_provider': 'openai', 'ls_model_name': 'deepseek-chat', 'ls_model_type': 'chat', 'ls_temperature': 0.0})\n",
      "\n",
      "\n",
      "(AIMessageChunk(content='：\\n', additional_kwargs={}, response_metadata={}, id='run--ef5b139f-e234-4514-bc46-f4df8bc7e944'), {'langgraph_step': 1, 'langgraph_node': 'agent', 'langgraph_triggers': ('branch:to:agent',), 'langgraph_path': ('__pregel_pull', 'agent'), 'langgraph_checkpoint_ns': 'agent:aadc7394-5352-f191-8554-db251ad18d9d', 'checkpoint_ns': 'agent:aadc7394-5352-f191-8554-db251ad18d9d', 'ls_provider': 'openai', 'ls_model_name': 'deepseek-chat', 'ls_model_type': 'chat', 'ls_temperature': 0.0})\n",
      "\n",
      "\n",
      "(AIMessageChunk(content='  ', additional_kwargs={}, response_metadata={}, id='run--ef5b139f-e234-4514-bc46-f4df8bc7e944'), {'langgraph_step': 1, 'langgraph_node': 'agent', 'langgraph_triggers': ('branch:to:agent',), 'langgraph_path': ('__pregel_pull', 'agent'), 'langgraph_checkpoint_ns': 'agent:aadc7394-5352-f191-8554-db251ad18d9d', 'checkpoint_ns': 'agent:aadc7394-5352-f191-8554-db251ad18d9d', 'ls_provider': 'openai', 'ls_model_name': 'deepseek-chat', 'ls_model_type': 'chat', 'ls_temperature': 0.0})\n",
      "\n",
      "\n",
      "(AIMessageChunk(content=' -', additional_kwargs={}, response_metadata={}, id='run--ef5b139f-e234-4514-bc46-f4df8bc7e944'), {'langgraph_step': 1, 'langgraph_node': 'agent', 'langgraph_triggers': ('branch:to:agent',), 'langgraph_path': ('__pregel_pull', 'agent'), 'langgraph_checkpoint_ns': 'agent:aadc7394-5352-f191-8554-db251ad18d9d', 'checkpoint_ns': 'agent:aadc7394-5352-f191-8554-db251ad18d9d', 'ls_provider': 'openai', 'ls_model_name': 'deepseek-chat', 'ls_model_type': 'chat', 'ls_temperature': 0.0})\n",
      "\n",
      "\n",
      "(AIMessageChunk(content=' ', additional_kwargs={}, response_metadata={}, id='run--ef5b139f-e234-4514-bc46-f4df8bc7e944'), {'langgraph_step': 1, 'langgraph_node': 'agent', 'langgraph_triggers': ('branch:to:agent',), 'langgraph_path': ('__pregel_pull', 'agent'), 'langgraph_checkpoint_ns': 'agent:aadc7394-5352-f191-8554-db251ad18d9d', 'checkpoint_ns': 'agent:aadc7394-5352-f191-8554-db251ad18d9d', 'ls_provider': 'openai', 'ls_model_name': 'deepseek-chat', 'ls_model_type': 'chat', 'ls_temperature': 0.0})\n",
      "\n",
      "\n",
      "(AIMessageChunk(content='计算', additional_kwargs={}, response_metadata={}, id='run--ef5b139f-e234-4514-bc46-f4df8bc7e944'), {'langgraph_step': 1, 'langgraph_node': 'agent', 'langgraph_triggers': ('branch:to:agent',), 'langgraph_path': ('__pregel_pull', 'agent'), 'langgraph_checkpoint_ns': 'agent:aadc7394-5352-f191-8554-db251ad18d9d', 'checkpoint_ns': 'agent:aadc7394-5352-f191-8554-db251ad18d9d', 'ls_provider': 'openai', 'ls_model_name': 'deepseek-chat', 'ls_model_type': 'chat', 'ls_temperature': 0.0})\n",
      "\n",
      "(AIMessageChunk(content='、', additional_kwargs={}, response_metadata={}, id='run--ef5b139f-e234-4514-bc46-f4df8bc7e944'), {'langgraph_step': 1, 'langgraph_node': 'agent', 'langgraph_triggers': ('branch:to:agent',), 'langgraph_path': ('__pregel_pull', 'agent'), 'langgraph_checkpoint_ns': 'agent:aadc7394-5352-f191-8554-db251ad18d9d', 'checkpoint_ns': 'agent:aadc7394-5352-f191-8554-db251ad18d9d', 'ls_provider': 'openai', 'ls_model_name': 'deepseek-chat', 'ls_model_type': 'chat', 'ls_temperature': 0.0})\n",
      "\n",
      "\n",
      "(AIMessageChunk(content='单位', additional_kwargs={}, response_metadata={}, id='run--ef5b139f-e234-4514-bc46-f4df8bc7e944'), {'langgraph_step': 1, 'langgraph_node': 'agent', 'langgraph_triggers': ('branch:to:agent',), 'langgraph_path': ('__pregel_pull', 'agent'), 'langgraph_checkpoint_ns': 'agent:aadc7394-5352-f191-8554-db251ad18d9d', 'checkpoint_ns': 'agent:aadc7394-5352-f191-8554-db251ad18d9d', 'ls_provider': 'openai', 'ls_model_name': 'deepseek-chat', 'ls_model_type': 'chat', 'ls_temperature': 0.0})\n",
      "\n",
      "\n",
      "(AIMessageChunk(content='换算', additional_kwargs={}, response_metadata={}, id='run--ef5b139f-e234-4514-bc46-f4df8bc7e944'), {'langgraph_step': 1, 'langgraph_node': 'agent', 'langgraph_triggers': ('branch:to:agent',), 'langgraph_path': ('__pregel_pull', 'agent'), 'langgraph_checkpoint_ns': 'agent:aadc7394-5352-f191-8554-db251ad18d9d', 'checkpoint_ns': 'agent:aadc7394-5352-f191-8554-db251ad18d9d', 'ls_provider': 'openai', 'ls_model_name': 'deepseek-chat', 'ls_model_type': 'chat', 'ls_temperature': 0.0})\n",
      "\n",
      "\n",
      "(AIMessageChunk(content='、', additional_kwargs={}, response_metadata={}, id='run--ef5b139f-e234-4514-bc46-f4df8bc7e944'), {'langgraph_step': 1, 'langgraph_node': 'agent', 'langgraph_triggers': ('branch:to:agent',), 'langgraph_path': ('__pregel_pull', 'agent'), 'langgraph_checkpoint_ns': 'agent:aadc7394-5352-f191-8554-db251ad18d9d', 'checkpoint_ns': 'agent:aadc7394-5352-f191-8554-db251ad18d9d', 'ls_provider': 'openai', 'ls_model_name': 'deepseek-chat', 'ls_model_type': 'chat', 'ls_temperature': 0.0})\n",
      "\n",
      "\n",
      "(AIMessageChunk(content='货币', additional_kwargs={}, response_metadata={}, id='run--ef5b139f-e234-4514-bc46-f4df8bc7e944'), {'langgraph_step': 1, 'langgraph_node': 'agent', 'langgraph_triggers': ('branch:to:agent',), 'langgraph_path': ('__pregel_pull', 'agent'), 'langgraph_checkpoint_ns': 'agent:aadc7394-5352-f191-8554-db251ad18d9d', 'checkpoint_ns': 'agent:aadc7394-5352-f191-8554-db251ad18d9d', 'ls_provider': 'openai', 'ls_model_name': 'deepseek-chat', 'ls_model_type': 'chat', 'ls_temperature': 0.0})\n",
      "\n",
      "(AIMessageChunk(content='汇率', additional_kwargs={}, response_metadata={}, id='run--ef5b139f-e234-4514-bc46-f4df8bc7e944'), {'langgraph_step': 1, 'langgraph_node': 'agent', 'langgraph_triggers': ('branch:to:agent',), 'langgraph_path': ('__pregel_pull', 'agent'), 'langgraph_checkpoint_ns': 'agent:aadc7394-5352-f191-8554-db251ad18d9d', 'checkpoint_ns': 'agent:aadc7394-5352-f191-8554-db251ad18d9d', 'ls_provider': 'openai', 'ls_model_name': 'deepseek-chat', 'ls_model_type': 'chat', 'ls_temperature': 0.0})\n",
      "\n",
      "\n",
      "(AIMessageChunk(content='查询', additional_kwargs={}, response_metadata={}, id='run--ef5b139f-e234-4514-bc46-f4df8bc7e944'), {'langgraph_step': 1, 'langgraph_node': 'agent', 'langgraph_triggers': ('branch:to:agent',), 'langgraph_path': ('__pregel_pull', 'agent'), 'langgraph_checkpoint_ns': 'agent:aadc7394-5352-f191-8554-db251ad18d9d', 'checkpoint_ns': 'agent:aadc7394-5352-f191-8554-db251ad18d9d', 'ls_provider': 'openai', 'ls_model_name': 'deepseek-chat', 'ls_model_type': 'chat', 'ls_temperature': 0.0})\n",
      "\n",
      "\n",
      "(AIMessageChunk(content='。\\n', additional_kwargs={}, response_metadata={}, id='run--ef5b139f-e234-4514-bc46-f4df8bc7e944'), {'langgraph_step': 1, 'langgraph_node': 'agent', 'langgraph_triggers': ('branch:to:agent',), 'langgraph_path': ('__pregel_pull', 'agent'), 'langgraph_checkpoint_ns': 'agent:aadc7394-5352-f191-8554-db251ad18d9d', 'checkpoint_ns': 'agent:aadc7394-5352-f191-8554-db251ad18d9d', 'ls_provider': 'openai', 'ls_model_name': 'deepseek-chat', 'ls_model_type': 'chat', 'ls_temperature': 0.0})\n",
      "\n",
      "\n",
      "(AIMessageChunk(content='  ', additional_kwargs={}, response_metadata={}, id='run--ef5b139f-e234-4514-bc46-f4df8bc7e944'), {'langgraph_step': 1, 'langgraph_node': 'agent', 'langgraph_triggers': ('branch:to:agent',), 'langgraph_path': ('__pregel_pull', 'agent'), 'langgraph_checkpoint_ns': 'agent:aadc7394-5352-f191-8554-db251ad18d9d', 'checkpoint_ns': 'agent:aadc7394-5352-f191-8554-db251ad18d9d', 'ls_provider': 'openai', 'ls_model_name': 'deepseek-chat', 'ls_model_type': 'chat', 'ls_temperature': 0.0})\n",
      "\n",
      "\n",
      "(AIMessageChunk(content=' -', additional_kwargs={}, response_metadata={}, id='run--ef5b139f-e234-4514-bc46-f4df8bc7e944'), {'langgraph_step': 1, 'langgraph_node': 'agent', 'langgraph_triggers': ('branch:to:agent',), 'langgraph_path': ('__pregel_pull', 'agent'), 'langgraph_checkpoint_ns': 'agent:aadc7394-5352-f191-8554-db251ad18d9d', 'checkpoint_ns': 'agent:aadc7394-5352-f191-8554-db251ad18d9d', 'ls_provider': 'openai', 'ls_model_name': 'deepseek-chat', 'ls_model_type': 'chat', 'ls_temperature': 0.0})\n",
      "\n",
      "\n",
      "(AIMessageChunk(content=' ', additional_kwargs={}, response_metadata={}, id='run--ef5b139f-e234-4514-bc46-f4df8bc7e944'), {'langgraph_step': 1, 'langgraph_node': 'agent', 'langgraph_triggers': ('branch:to:agent',), 'langgraph_path': ('__pregel_pull', 'agent'), 'langgraph_checkpoint_ns': 'agent:aadc7394-5352-f191-8554-db251ad18d9d', 'checkpoint_ns': 'agent:aadc7394-5352-f191-8554-db251ad18d9d', 'ls_provider': 'openai', 'ls_model_name': 'deepseek-chat', 'ls_model_type': 'chat', 'ls_temperature': 0.0})\n",
      "\n",
      "(AIMessageChunk(content='生成', additional_kwargs={}, response_metadata={}, id='run--ef5b139f-e234-4514-bc46-f4df8bc7e944'), {'langgraph_step': 1, 'langgraph_node': 'agent', 'langgraph_triggers': ('branch:to:agent',), 'langgraph_path': ('__pregel_pull', 'agent'), 'langgraph_checkpoint_ns': 'agent:aadc7394-5352-f191-8554-db251ad18d9d', 'checkpoint_ns': 'agent:aadc7394-5352-f191-8554-db251ad18d9d', 'ls_provider': 'openai', 'ls_model_name': 'deepseek-chat', 'ls_model_type': 'chat', 'ls_temperature': 0.0})\n",
      "\n",
      "\n",
      "(AIMessageChunk(content='待', additional_kwargs={}, response_metadata={}, id='run--ef5b139f-e234-4514-bc46-f4df8bc7e944'), {'langgraph_step': 1, 'langgraph_node': 'agent', 'langgraph_triggers': ('branch:to:agent',), 'langgraph_path': ('__pregel_pull', 'agent'), 'langgraph_checkpoint_ns': 'agent:aadc7394-5352-f191-8554-db251ad18d9d', 'checkpoint_ns': 'agent:aadc7394-5352-f191-8554-db251ad18d9d', 'ls_provider': 'openai', 'ls_model_name': 'deepseek-chat', 'ls_model_type': 'chat', 'ls_temperature': 0.0})\n",
      "\n",
      "\n",
      "(AIMessageChunk(content='办', additional_kwargs={}, response_metadata={}, id='run--ef5b139f-e234-4514-bc46-f4df8bc7e944'), {'langgraph_step': 1, 'langgraph_node': 'agent', 'langgraph_triggers': ('branch:to:agent',), 'langgraph_path': ('__pregel_pull', 'agent'), 'langgraph_checkpoint_ns': 'agent:aadc7394-5352-f191-8554-db251ad18d9d', 'checkpoint_ns': 'agent:aadc7394-5352-f191-8554-db251ad18d9d', 'ls_provider': 'openai', 'ls_model_name': 'deepseek-chat', 'ls_model_type': 'chat', 'ls_temperature': 0.0})\n",
      "\n",
      "\n",
      "(AIMessageChunk(content='事项', additional_kwargs={}, response_metadata={}, id='run--ef5b139f-e234-4514-bc46-f4df8bc7e944'), {'langgraph_step': 1, 'langgraph_node': 'agent', 'langgraph_triggers': ('branch:to:agent',), 'langgraph_path': ('__pregel_pull', 'agent'), 'langgraph_checkpoint_ns': 'agent:aadc7394-5352-f191-8554-db251ad18d9d', 'checkpoint_ns': 'agent:aadc7394-5352-f191-8554-db251ad18d9d', 'ls_provider': 'openai', 'ls_model_name': 'deepseek-chat', 'ls_model_type': 'chat', 'ls_temperature': 0.0})\n",
      "\n",
      "\n",
      "(AIMessageChunk(content='或', additional_kwargs={}, response_metadata={}, id='run--ef5b139f-e234-4514-bc46-f4df8bc7e944'), {'langgraph_step': 1, 'langgraph_node': 'agent', 'langgraph_triggers': ('branch:to:agent',), 'langgraph_path': ('__pregel_pull', 'agent'), 'langgraph_checkpoint_ns': 'agent:aadc7394-5352-f191-8554-db251ad18d9d', 'checkpoint_ns': 'agent:aadc7394-5352-f191-8554-db251ad18d9d', 'ls_provider': 'openai', 'ls_model_name': 'deepseek-chat', 'ls_model_type': 'chat', 'ls_temperature': 0.0})\n",
      "\n",
      "(AIMessageChunk(content='提醒', additional_kwargs={}, response_metadata={}, id='run--ef5b139f-e234-4514-bc46-f4df8bc7e944'), {'langgraph_step': 1, 'langgraph_node': 'agent', 'langgraph_triggers': ('branch:to:agent',), 'langgraph_path': ('__pregel_pull', 'agent'), 'langgraph_checkpoint_ns': 'agent:aadc7394-5352-f191-8554-db251ad18d9d', 'checkpoint_ns': 'agent:aadc7394-5352-f191-8554-db251ad18d9d', 'ls_provider': 'openai', 'ls_model_name': 'deepseek-chat', 'ls_model_type': 'chat', 'ls_temperature': 0.0})\n",
      "\n",
      "\n",
      "(AIMessageChunk(content='。\\n\\n', additional_kwargs={}, response_metadata={}, id='run--ef5b139f-e234-4514-bc46-f4df8bc7e944'), {'langgraph_step': 1, 'langgraph_node': 'agent', 'langgraph_triggers': ('branch:to:agent',), 'langgraph_path': ('__pregel_pull', 'agent'), 'langgraph_checkpoint_ns': 'agent:aadc7394-5352-f191-8554-db251ad18d9d', 'checkpoint_ns': 'agent:aadc7394-5352-f191-8554-db251ad18d9d', 'ls_provider': 'openai', 'ls_model_name': 'deepseek-chat', 'ls_model_type': 'chat', 'ls_temperature': 0.0})\n",
      "\n",
      "\n",
      "(AIMessageChunk(content='5', additional_kwargs={}, response_metadata={}, id='run--ef5b139f-e234-4514-bc46-f4df8bc7e944'), {'langgraph_step': 1, 'langgraph_node': 'agent', 'langgraph_triggers': ('branch:to:agent',), 'langgraph_path': ('__pregel_pull', 'agent'), 'langgraph_checkpoint_ns': 'agent:aadc7394-5352-f191-8554-db251ad18d9d', 'checkpoint_ns': 'agent:aadc7394-5352-f191-8554-db251ad18d9d', 'ls_provider': 'openai', 'ls_model_name': 'deepseek-chat', 'ls_model_type': 'chat', 'ls_temperature': 0.0})\n",
      "\n",
      "\n",
      "(AIMessageChunk(content='.', additional_kwargs={}, response_metadata={}, id='run--ef5b139f-e234-4514-bc46-f4df8bc7e944'), {'langgraph_step': 1, 'langgraph_node': 'agent', 'langgraph_triggers': ('branch:to:agent',), 'langgraph_path': ('__pregel_pull', 'agent'), 'langgraph_checkpoint_ns': 'agent:aadc7394-5352-f191-8554-db251ad18d9d', 'checkpoint_ns': 'agent:aadc7394-5352-f191-8554-db251ad18d9d', 'ls_provider': 'openai', 'ls_model_name': 'deepseek-chat', 'ls_model_type': 'chat', 'ls_temperature': 0.0})\n",
      "\n",
      "\n",
      "(AIMessageChunk(content=' **', additional_kwargs={}, response_metadata={}, id='run--ef5b139f-e234-4514-bc46-f4df8bc7e944'), {'langgraph_step': 1, 'langgraph_node': 'agent', 'langgraph_triggers': ('branch:to:agent',), 'langgraph_path': ('__pregel_pull', 'agent'), 'langgraph_checkpoint_ns': 'agent:aadc7394-5352-f191-8554-db251ad18d9d', 'checkpoint_ns': 'agent:aadc7394-5352-f191-8554-db251ad18d9d', 'ls_provider': 'openai', 'ls_model_name': 'deepseek-chat', 'ls_model_type': 'chat', 'ls_temperature': 0.0})\n",
      "\n",
      "\n",
      "(AIMessageChunk(content='其他', additional_kwargs={}, response_metadata={}, id='run--ef5b139f-e234-4514-bc46-f4df8bc7e944'), {'langgraph_step': 1, 'langgraph_node': 'agent', 'langgraph_triggers': ('branch:to:agent',), 'langgraph_path': ('__pregel_pull', 'agent'), 'langgraph_checkpoint_ns': 'agent:aadc7394-5352-f191-8554-db251ad18d9d', 'checkpoint_ns': 'agent:aadc7394-5352-f191-8554-db251ad18d9d', 'ls_provider': 'openai', 'ls_model_name': 'deepseek-chat', 'ls_model_type': 'chat', 'ls_temperature': 0.0})\n",
      "\n",
      "\n",
      "(AIMessageChunk(content='**', additional_kwargs={}, response_metadata={}, id='run--ef5b139f-e234-4514-bc46-f4df8bc7e944'), {'langgraph_step': 1, 'langgraph_node': 'agent', 'langgraph_triggers': ('branch:to:agent',), 'langgraph_path': ('__pregel_pull', 'agent'), 'langgraph_checkpoint_ns': 'agent:aadc7394-5352-f191-8554-db251ad18d9d', 'checkpoint_ns': 'agent:aadc7394-5352-f191-8554-db251ad18d9d', 'ls_provider': 'openai', 'ls_model_name': 'deepseek-chat', 'ls_model_type': 'chat', 'ls_temperature': 0.0})\n",
      "\n",
      "(AIMessageChunk(content='：\\n', additional_kwargs={}, response_metadata={}, id='run--ef5b139f-e234-4514-bc46-f4df8bc7e944'), {'langgraph_step': 1, 'langgraph_node': 'agent', 'langgraph_triggers': ('branch:to:agent',), 'langgraph_path': ('__pregel_pull', 'agent'), 'langgraph_checkpoint_ns': 'agent:aadc7394-5352-f191-8554-db251ad18d9d', 'checkpoint_ns': 'agent:aadc7394-5352-f191-8554-db251ad18d9d', 'ls_provider': 'openai', 'ls_model_name': 'deepseek-chat', 'ls_model_type': 'chat', 'ls_temperature': 0.0})\n",
      "\n",
      "\n",
      "(AIMessageChunk(content='  ', additional_kwargs={}, response_metadata={}, id='run--ef5b139f-e234-4514-bc46-f4df8bc7e944'), {'langgraph_step': 1, 'langgraph_node': 'agent', 'langgraph_triggers': ('branch:to:agent',), 'langgraph_path': ('__pregel_pull', 'agent'), 'langgraph_checkpoint_ns': 'agent:aadc7394-5352-f191-8554-db251ad18d9d', 'checkpoint_ns': 'agent:aadc7394-5352-f191-8554-db251ad18d9d', 'ls_provider': 'openai', 'ls_model_name': 'deepseek-chat', 'ls_model_type': 'chat', 'ls_temperature': 0.0})\n",
      "\n",
      "\n",
      "(AIMessageChunk(content=' -', additional_kwargs={}, response_metadata={}, id='run--ef5b139f-e234-4514-bc46-f4df8bc7e944'), {'langgraph_step': 1, 'langgraph_node': 'agent', 'langgraph_triggers': ('branch:to:agent',), 'langgraph_path': ('__pregel_pull', 'agent'), 'langgraph_checkpoint_ns': 'agent:aadc7394-5352-f191-8554-db251ad18d9d', 'checkpoint_ns': 'agent:aadc7394-5352-f191-8554-db251ad18d9d', 'ls_provider': 'openai', 'ls_model_name': 'deepseek-chat', 'ls_model_type': 'chat', 'ls_temperature': 0.0})\n",
      "\n",
      "\n",
      "(AIMessageChunk(content=' ', additional_kwargs={}, response_metadata={}, id='run--ef5b139f-e234-4514-bc46-f4df8bc7e944'), {'langgraph_step': 1, 'langgraph_node': 'agent', 'langgraph_triggers': ('branch:to:agent',), 'langgraph_path': ('__pregel_pull', 'agent'), 'langgraph_checkpoint_ns': 'agent:aadc7394-5352-f191-8554-db251ad18d9d', 'checkpoint_ns': 'agent:aadc7394-5352-f191-8554-db251ad18d9d', 'ls_provider': 'openai', 'ls_model_name': 'deepseek-chat', 'ls_model_type': 'chat', 'ls_temperature': 0.0})\n",
      "\n",
      "\n",
      "(AIMessageChunk(content='提供', additional_kwargs={}, response_metadata={}, id='run--ef5b139f-e234-4514-bc46-f4df8bc7e944'), {'langgraph_step': 1, 'langgraph_node': 'agent', 'langgraph_triggers': ('branch:to:agent',), 'langgraph_path': ('__pregel_pull', 'agent'), 'langgraph_checkpoint_ns': 'agent:aadc7394-5352-f191-8554-db251ad18d9d', 'checkpoint_ns': 'agent:aadc7394-5352-f191-8554-db251ad18d9d', 'ls_provider': 'openai', 'ls_model_name': 'deepseek-chat', 'ls_model_type': 'chat', 'ls_temperature': 0.0})\n",
      "\n",
      "\n",
      "(AIMessageChunk(content='旅行', additional_kwargs={}, response_metadata={}, id='run--ef5b139f-e234-4514-bc46-f4df8bc7e944'), {'langgraph_step': 1, 'langgraph_node': 'agent', 'langgraph_triggers': ('branch:to:agent',), 'langgraph_path': ('__pregel_pull', 'agent'), 'langgraph_checkpoint_ns': 'agent:aadc7394-5352-f191-8554-db251ad18d9d', 'checkpoint_ns': 'agent:aadc7394-5352-f191-8554-db251ad18d9d', 'ls_provider': 'openai', 'ls_model_name': 'deepseek-chat', 'ls_model_type': 'chat', 'ls_temperature': 0.0})\n",
      "\n",
      "\n",
      "(AIMessageChunk(content='建议', additional_kwargs={}, response_metadata={}, id='run--ef5b139f-e234-4514-bc46-f4df8bc7e944'), {'langgraph_step': 1, 'langgraph_node': 'agent', 'langgraph_triggers': ('branch:to:agent',), 'langgraph_path': ('__pregel_pull', 'agent'), 'langgraph_checkpoint_ns': 'agent:aadc7394-5352-f191-8554-db251ad18d9d', 'checkpoint_ns': 'agent:aadc7394-5352-f191-8554-db251ad18d9d', 'ls_provider': 'openai', 'ls_model_name': 'deepseek-chat', 'ls_model_type': 'chat', 'ls_temperature': 0.0})\n",
      "\n",
      "(AIMessageChunk(content='或', additional_kwargs={}, response_metadata={}, id='run--ef5b139f-e234-4514-bc46-f4df8bc7e944'), {'langgraph_step': 1, 'langgraph_node': 'agent', 'langgraph_triggers': ('branch:to:agent',), 'langgraph_path': ('__pregel_pull', 'agent'), 'langgraph_checkpoint_ns': 'agent:aadc7394-5352-f191-8554-db251ad18d9d', 'checkpoint_ns': 'agent:aadc7394-5352-f191-8554-db251ad18d9d', 'ls_provider': 'openai', 'ls_model_name': 'deepseek-chat', 'ls_model_type': 'chat', 'ls_temperature': 0.0})\n",
      "\n",
      "\n",
      "(AIMessageChunk(content='路线', additional_kwargs={}, response_metadata={}, id='run--ef5b139f-e234-4514-bc46-f4df8bc7e944'), {'langgraph_step': 1, 'langgraph_node': 'agent', 'langgraph_triggers': ('branch:to:agent',), 'langgraph_path': ('__pregel_pull', 'agent'), 'langgraph_checkpoint_ns': 'agent:aadc7394-5352-f191-8554-db251ad18d9d', 'checkpoint_ns': 'agent:aadc7394-5352-f191-8554-db251ad18d9d', 'ls_provider': 'openai', 'ls_model_name': 'deepseek-chat', 'ls_model_type': 'chat', 'ls_temperature': 0.0})\n",
      "\n",
      "\n",
      "(AIMessageChunk(content='规划', additional_kwargs={}, response_metadata={}, id='run--ef5b139f-e234-4514-bc46-f4df8bc7e944'), {'langgraph_step': 1, 'langgraph_node': 'agent', 'langgraph_triggers': ('branch:to:agent',), 'langgraph_path': ('__pregel_pull', 'agent'), 'langgraph_checkpoint_ns': 'agent:aadc7394-5352-f191-8554-db251ad18d9d', 'checkpoint_ns': 'agent:aadc7394-5352-f191-8554-db251ad18d9d', 'ls_provider': 'openai', 'ls_model_name': 'deepseek-chat', 'ls_model_type': 'chat', 'ls_temperature': 0.0})\n",
      "\n",
      "\n",
      "(AIMessageChunk(content='。\\n', additional_kwargs={}, response_metadata={}, id='run--ef5b139f-e234-4514-bc46-f4df8bc7e944'), {'langgraph_step': 1, 'langgraph_node': 'agent', 'langgraph_triggers': ('branch:to:agent',), 'langgraph_path': ('__pregel_pull', 'agent'), 'langgraph_checkpoint_ns': 'agent:aadc7394-5352-f191-8554-db251ad18d9d', 'checkpoint_ns': 'agent:aadc7394-5352-f191-8554-db251ad18d9d', 'ls_provider': 'openai', 'ls_model_name': 'deepseek-chat', 'ls_model_type': 'chat', 'ls_temperature': 0.0})\n",
      "\n",
      "\n",
      "(AIMessageChunk(content='  ', additional_kwargs={}, response_metadata={}, id='run--ef5b139f-e234-4514-bc46-f4df8bc7e944'), {'langgraph_step': 1, 'langgraph_node': 'agent', 'langgraph_triggers': ('branch:to:agent',), 'langgraph_path': ('__pregel_pull', 'agent'), 'langgraph_checkpoint_ns': 'agent:aadc7394-5352-f191-8554-db251ad18d9d', 'checkpoint_ns': 'agent:aadc7394-5352-f191-8554-db251ad18d9d', 'ls_provider': 'openai', 'ls_model_name': 'deepseek-chat', 'ls_model_type': 'chat', 'ls_temperature': 0.0})\n",
      "\n",
      "\n",
      "(AIMessageChunk(content=' -', additional_kwargs={}, response_metadata={}, id='run--ef5b139f-e234-4514-bc46-f4df8bc7e944'), {'langgraph_step': 1, 'langgraph_node': 'agent', 'langgraph_triggers': ('branch:to:agent',), 'langgraph_path': ('__pregel_pull', 'agent'), 'langgraph_checkpoint_ns': 'agent:aadc7394-5352-f191-8554-db251ad18d9d', 'checkpoint_ns': 'agent:aadc7394-5352-f191-8554-db251ad18d9d', 'ls_provider': 'openai', 'ls_model_name': 'deepseek-chat', 'ls_model_type': 'chat', 'ls_temperature': 0.0})\n",
      "\n",
      "\n",
      "(AIMessageChunk(content=' ', additional_kwargs={}, response_metadata={}, id='run--ef5b139f-e234-4514-bc46-f4df8bc7e944'), {'langgraph_step': 1, 'langgraph_node': 'agent', 'langgraph_triggers': ('branch:to:agent',), 'langgraph_path': ('__pregel_pull', 'agent'), 'langgraph_checkpoint_ns': 'agent:aadc7394-5352-f191-8554-db251ad18d9d', 'checkpoint_ns': 'agent:aadc7394-5352-f191-8554-db251ad18d9d', 'ls_provider': 'openai', 'ls_model_name': 'deepseek-chat', 'ls_model_type': 'chat', 'ls_temperature': 0.0})\n",
      "\n",
      "\n",
      "(AIMessageChunk(content='解答', additional_kwargs={}, response_metadata={}, id='run--ef5b139f-e234-4514-bc46-f4df8bc7e944'), {'langgraph_step': 1, 'langgraph_node': 'agent', 'langgraph_triggers': ('branch:to:agent',), 'langgraph_path': ('__pregel_pull', 'agent'), 'langgraph_checkpoint_ns': 'agent:aadc7394-5352-f191-8554-db251ad18d9d', 'checkpoint_ns': 'agent:aadc7394-5352-f191-8554-db251ad18d9d', 'ls_provider': 'openai', 'ls_model_name': 'deepseek-chat', 'ls_model_type': 'chat', 'ls_temperature': 0.0})\n",
      "\n",
      "(AIMessageChunk(content='你对', additional_kwargs={}, response_metadata={}, id='run--ef5b139f-e234-4514-bc46-f4df8bc7e944'), {'langgraph_step': 1, 'langgraph_node': 'agent', 'langgraph_triggers': ('branch:to:agent',), 'langgraph_path': ('__pregel_pull', 'agent'), 'langgraph_checkpoint_ns': 'agent:aadc7394-5352-f191-8554-db251ad18d9d', 'checkpoint_ns': 'agent:aadc7394-5352-f191-8554-db251ad18d9d', 'ls_provider': 'openai', 'ls_model_name': 'deepseek-chat', 'ls_model_type': 'chat', 'ls_temperature': 0.0})\n",
      "\n",
      "\n",
      "(AIMessageChunk(content='科技', additional_kwargs={}, response_metadata={}, id='run--ef5b139f-e234-4514-bc46-f4df8bc7e944'), {'langgraph_step': 1, 'langgraph_node': 'agent', 'langgraph_triggers': ('branch:to:agent',), 'langgraph_path': ('__pregel_pull', 'agent'), 'langgraph_checkpoint_ns': 'agent:aadc7394-5352-f191-8554-db251ad18d9d', 'checkpoint_ns': 'agent:aadc7394-5352-f191-8554-db251ad18d9d', 'ls_provider': 'openai', 'ls_model_name': 'deepseek-chat', 'ls_model_type': 'chat', 'ls_temperature': 0.0})\n",
      "\n",
      "\n",
      "(AIMessageChunk(content='、', additional_kwargs={}, response_metadata={}, id='run--ef5b139f-e234-4514-bc46-f4df8bc7e944'), {'langgraph_step': 1, 'langgraph_node': 'agent', 'langgraph_triggers': ('branch:to:agent',), 'langgraph_path': ('__pregel_pull', 'agent'), 'langgraph_checkpoint_ns': 'agent:aadc7394-5352-f191-8554-db251ad18d9d', 'checkpoint_ns': 'agent:aadc7394-5352-f191-8554-db251ad18d9d', 'ls_provider': 'openai', 'ls_model_name': 'deepseek-chat', 'ls_model_type': 'chat', 'ls_temperature': 0.0})\n",
      "\n",
      "\n",
      "(AIMessageChunk(content='历史', additional_kwargs={}, response_metadata={}, id='run--ef5b139f-e234-4514-bc46-f4df8bc7e944'), {'langgraph_step': 1, 'langgraph_node': 'agent', 'langgraph_triggers': ('branch:to:agent',), 'langgraph_path': ('__pregel_pull', 'agent'), 'langgraph_checkpoint_ns': 'agent:aadc7394-5352-f191-8554-db251ad18d9d', 'checkpoint_ns': 'agent:aadc7394-5352-f191-8554-db251ad18d9d', 'ls_provider': 'openai', 'ls_model_name': 'deepseek-chat', 'ls_model_type': 'chat', 'ls_temperature': 0.0})\n",
      "\n",
      "(AIMessageChunk(content='、', additional_kwargs={}, response_metadata={}, id='run--ef5b139f-e234-4514-bc46-f4df8bc7e944'), {'langgraph_step': 1, 'langgraph_node': 'agent', 'langgraph_triggers': ('branch:to:agent',), 'langgraph_path': ('__pregel_pull', 'agent'), 'langgraph_checkpoint_ns': 'agent:aadc7394-5352-f191-8554-db251ad18d9d', 'checkpoint_ns': 'agent:aadc7394-5352-f191-8554-db251ad18d9d', 'ls_provider': 'openai', 'ls_model_name': 'deepseek-chat', 'ls_model_type': 'chat', 'ls_temperature': 0.0})\n",
      "\n",
      "\n",
      "(AIMessageChunk(content='文化', additional_kwargs={}, response_metadata={}, id='run--ef5b139f-e234-4514-bc46-f4df8bc7e944'), {'langgraph_step': 1, 'langgraph_node': 'agent', 'langgraph_triggers': ('branch:to:agent',), 'langgraph_path': ('__pregel_pull', 'agent'), 'langgraph_checkpoint_ns': 'agent:aadc7394-5352-f191-8554-db251ad18d9d', 'checkpoint_ns': 'agent:aadc7394-5352-f191-8554-db251ad18d9d', 'ls_provider': 'openai', 'ls_model_name': 'deepseek-chat', 'ls_model_type': 'chat', 'ls_temperature': 0.0})\n",
      "\n",
      "\n",
      "(AIMessageChunk(content='等', additional_kwargs={}, response_metadata={}, id='run--ef5b139f-e234-4514-bc46-f4df8bc7e944'), {'langgraph_step': 1, 'langgraph_node': 'agent', 'langgraph_triggers': ('branch:to:agent',), 'langgraph_path': ('__pregel_pull', 'agent'), 'langgraph_checkpoint_ns': 'agent:aadc7394-5352-f191-8554-db251ad18d9d', 'checkpoint_ns': 'agent:aadc7394-5352-f191-8554-db251ad18d9d', 'ls_provider': 'openai', 'ls_model_name': 'deepseek-chat', 'ls_model_type': 'chat', 'ls_temperature': 0.0})\n",
      "\n",
      "\n",
      "(AIMessageChunk(content='领域的', additional_kwargs={}, response_metadata={}, id='run--ef5b139f-e234-4514-bc46-f4df8bc7e944'), {'langgraph_step': 1, 'langgraph_node': 'agent', 'langgraph_triggers': ('branch:to:agent',), 'langgraph_path': ('__pregel_pull', 'agent'), 'langgraph_checkpoint_ns': 'agent:aadc7394-5352-f191-8554-db251ad18d9d', 'checkpoint_ns': 'agent:aadc7394-5352-f191-8554-db251ad18d9d', 'ls_provider': 'openai', 'ls_model_name': 'deepseek-chat', 'ls_model_type': 'chat', 'ls_temperature': 0.0})\n",
      "\n",
      "\n",
      "(AIMessageChunk(content='疑问', additional_kwargs={}, response_metadata={}, id='run--ef5b139f-e234-4514-bc46-f4df8bc7e944'), {'langgraph_step': 1, 'langgraph_node': 'agent', 'langgraph_triggers': ('branch:to:agent',), 'langgraph_path': ('__pregel_pull', 'agent'), 'langgraph_checkpoint_ns': 'agent:aadc7394-5352-f191-8554-db251ad18d9d', 'checkpoint_ns': 'agent:aadc7394-5352-f191-8554-db251ad18d9d', 'ls_provider': 'openai', 'ls_model_name': 'deepseek-chat', 'ls_model_type': 'chat', 'ls_temperature': 0.0})\n",
      "\n",
      "\n",
      "(AIMessageChunk(content='。\\n\\n', additional_kwargs={}, response_metadata={}, id='run--ef5b139f-e234-4514-bc46-f4df8bc7e944'), {'langgraph_step': 1, 'langgraph_node': 'agent', 'langgraph_triggers': ('branch:to:agent',), 'langgraph_path': ('__pregel_pull', 'agent'), 'langgraph_checkpoint_ns': 'agent:aadc7394-5352-f191-8554-db251ad18d9d', 'checkpoint_ns': 'agent:aadc7394-5352-f191-8554-db251ad18d9d', 'ls_provider': 'openai', 'ls_model_name': 'deepseek-chat', 'ls_model_type': 'chat', 'ls_temperature': 0.0})\n",
      "\n",
      "\n",
      "(AIMessageChunk(content='如果你', additional_kwargs={}, response_metadata={}, id='run--ef5b139f-e234-4514-bc46-f4df8bc7e944'), {'langgraph_step': 1, 'langgraph_node': 'agent', 'langgraph_triggers': ('branch:to:agent',), 'langgraph_path': ('__pregel_pull', 'agent'), 'langgraph_checkpoint_ns': 'agent:aadc7394-5352-f191-8554-db251ad18d9d', 'checkpoint_ns': 'agent:aadc7394-5352-f191-8554-db251ad18d9d', 'ls_provider': 'openai', 'ls_model_name': 'deepseek-chat', 'ls_model_type': 'chat', 'ls_temperature': 0.0})\n",
      "\n",
      "\n",
      "(AIMessageChunk(content='有任何', additional_kwargs={}, response_metadata={}, id='run--ef5b139f-e234-4514-bc46-f4df8bc7e944'), {'langgraph_step': 1, 'langgraph_node': 'agent', 'langgraph_triggers': ('branch:to:agent',), 'langgraph_path': ('__pregel_pull', 'agent'), 'langgraph_checkpoint_ns': 'agent:aadc7394-5352-f191-8554-db251ad18d9d', 'checkpoint_ns': 'agent:aadc7394-5352-f191-8554-db251ad18d9d', 'ls_provider': 'openai', 'ls_model_name': 'deepseek-chat', 'ls_model_type': 'chat', 'ls_temperature': 0.0})\n",
      "\n",
      "(AIMessageChunk(content='具体', additional_kwargs={}, response_metadata={}, id='run--ef5b139f-e234-4514-bc46-f4df8bc7e944'), {'langgraph_step': 1, 'langgraph_node': 'agent', 'langgraph_triggers': ('branch:to:agent',), 'langgraph_path': ('__pregel_pull', 'agent'), 'langgraph_checkpoint_ns': 'agent:aadc7394-5352-f191-8554-db251ad18d9d', 'checkpoint_ns': 'agent:aadc7394-5352-f191-8554-db251ad18d9d', 'ls_provider': 'openai', 'ls_model_name': 'deepseek-chat', 'ls_model_type': 'chat', 'ls_temperature': 0.0})\n",
      "\n",
      "\n",
      "(AIMessageChunk(content='问题', additional_kwargs={}, response_metadata={}, id='run--ef5b139f-e234-4514-bc46-f4df8bc7e944'), {'langgraph_step': 1, 'langgraph_node': 'agent', 'langgraph_triggers': ('branch:to:agent',), 'langgraph_path': ('__pregel_pull', 'agent'), 'langgraph_checkpoint_ns': 'agent:aadc7394-5352-f191-8554-db251ad18d9d', 'checkpoint_ns': 'agent:aadc7394-5352-f191-8554-db251ad18d9d', 'ls_provider': 'openai', 'ls_model_name': 'deepseek-chat', 'ls_model_type': 'chat', 'ls_temperature': 0.0})\n",
      "\n",
      "\n",
      "(AIMessageChunk(content='或', additional_kwargs={}, response_metadata={}, id='run--ef5b139f-e234-4514-bc46-f4df8bc7e944'), {'langgraph_step': 1, 'langgraph_node': 'agent', 'langgraph_triggers': ('branch:to:agent',), 'langgraph_path': ('__pregel_pull', 'agent'), 'langgraph_checkpoint_ns': 'agent:aadc7394-5352-f191-8554-db251ad18d9d', 'checkpoint_ns': 'agent:aadc7394-5352-f191-8554-db251ad18d9d', 'ls_provider': 'openai', 'ls_model_name': 'deepseek-chat', 'ls_model_type': 'chat', 'ls_temperature': 0.0})\n",
      "\n",
      "\n",
      "(AIMessageChunk(content='需求', additional_kwargs={}, response_metadata={}, id='run--ef5b139f-e234-4514-bc46-f4df8bc7e944'), {'langgraph_step': 1, 'langgraph_node': 'agent', 'langgraph_triggers': ('branch:to:agent',), 'langgraph_path': ('__pregel_pull', 'agent'), 'langgraph_checkpoint_ns': 'agent:aadc7394-5352-f191-8554-db251ad18d9d', 'checkpoint_ns': 'agent:aadc7394-5352-f191-8554-db251ad18d9d', 'ls_provider': 'openai', 'ls_model_name': 'deepseek-chat', 'ls_model_type': 'chat', 'ls_temperature': 0.0})\n",
      "\n",
      "\n",
      "(AIMessageChunk(content='，', additional_kwargs={}, response_metadata={}, id='run--ef5b139f-e234-4514-bc46-f4df8bc7e944'), {'langgraph_step': 1, 'langgraph_node': 'agent', 'langgraph_triggers': ('branch:to:agent',), 'langgraph_path': ('__pregel_pull', 'agent'), 'langgraph_checkpoint_ns': 'agent:aadc7394-5352-f191-8554-db251ad18d9d', 'checkpoint_ns': 'agent:aadc7394-5352-f191-8554-db251ad18d9d', 'ls_provider': 'openai', 'ls_model_name': 'deepseek-chat', 'ls_model_type': 'chat', 'ls_temperature': 0.0})\n",
      "\n",
      "\n",
      "(AIMessageChunk(content='随时', additional_kwargs={}, response_metadata={}, id='run--ef5b139f-e234-4514-bc46-f4df8bc7e944'), {'langgraph_step': 1, 'langgraph_node': 'agent', 'langgraph_triggers': ('branch:to:agent',), 'langgraph_path': ('__pregel_pull', 'agent'), 'langgraph_checkpoint_ns': 'agent:aadc7394-5352-f191-8554-db251ad18d9d', 'checkpoint_ns': 'agent:aadc7394-5352-f191-8554-db251ad18d9d', 'ls_provider': 'openai', 'ls_model_name': 'deepseek-chat', 'ls_model_type': 'chat', 'ls_temperature': 0.0})\n",
      "\n",
      "\n",
      "(AIMessageChunk(content='告诉我', additional_kwargs={}, response_metadata={}, id='run--ef5b139f-e234-4514-bc46-f4df8bc7e944'), {'langgraph_step': 1, 'langgraph_node': 'agent', 'langgraph_triggers': ('branch:to:agent',), 'langgraph_path': ('__pregel_pull', 'agent'), 'langgraph_checkpoint_ns': 'agent:aadc7394-5352-f191-8554-db251ad18d9d', 'checkpoint_ns': 'agent:aadc7394-5352-f191-8554-db251ad18d9d', 'ls_provider': 'openai', 'ls_model_name': 'deepseek-chat', 'ls_model_type': 'chat', 'ls_temperature': 0.0})\n",
      "\n",
      "\n",
      "(AIMessageChunk(content='，', additional_kwargs={}, response_metadata={}, id='run--ef5b139f-e234-4514-bc46-f4df8bc7e944'), {'langgraph_step': 1, 'langgraph_node': 'agent', 'langgraph_triggers': ('branch:to:agent',), 'langgraph_path': ('__pregel_pull', 'agent'), 'langgraph_checkpoint_ns': 'agent:aadc7394-5352-f191-8554-db251ad18d9d', 'checkpoint_ns': 'agent:aadc7394-5352-f191-8554-db251ad18d9d', 'ls_provider': 'openai', 'ls_model_name': 'deepseek-chat', 'ls_model_type': 'chat', 'ls_temperature': 0.0})\n",
      "\n",
      "(AIMessageChunk(content='我会', additional_kwargs={}, response_metadata={}, id='run--ef5b139f-e234-4514-bc46-f4df8bc7e944'), {'langgraph_step': 1, 'langgraph_node': 'agent', 'langgraph_triggers': ('branch:to:agent',), 'langgraph_path': ('__pregel_pull', 'agent'), 'langgraph_checkpoint_ns': 'agent:aadc7394-5352-f191-8554-db251ad18d9d', 'checkpoint_ns': 'agent:aadc7394-5352-f191-8554-db251ad18d9d', 'ls_provider': 'openai', 'ls_model_name': 'deepseek-chat', 'ls_model_type': 'chat', 'ls_temperature': 0.0})\n",
      "\n",
      "\n",
      "(AIMessageChunk(content='尽力', additional_kwargs={}, response_metadata={}, id='run--ef5b139f-e234-4514-bc46-f4df8bc7e944'), {'langgraph_step': 1, 'langgraph_node': 'agent', 'langgraph_triggers': ('branch:to:agent',), 'langgraph_path': ('__pregel_pull', 'agent'), 'langgraph_checkpoint_ns': 'agent:aadc7394-5352-f191-8554-db251ad18d9d', 'checkpoint_ns': 'agent:aadc7394-5352-f191-8554-db251ad18d9d', 'ls_provider': 'openai', 'ls_model_name': 'deepseek-chat', 'ls_model_type': 'chat', 'ls_temperature': 0.0})\n",
      "\n",
      "\n",
      "(AIMessageChunk(content='帮你', additional_kwargs={}, response_metadata={}, id='run--ef5b139f-e234-4514-bc46-f4df8bc7e944'), {'langgraph_step': 1, 'langgraph_node': 'agent', 'langgraph_triggers': ('branch:to:agent',), 'langgraph_path': ('__pregel_pull', 'agent'), 'langgraph_checkpoint_ns': 'agent:aadc7394-5352-f191-8554-db251ad18d9d', 'checkpoint_ns': 'agent:aadc7394-5352-f191-8554-db251ad18d9d', 'ls_provider': 'openai', 'ls_model_name': 'deepseek-chat', 'ls_model_type': 'chat', 'ls_temperature': 0.0})\n",
      "\n",
      "\n",
      "(AIMessageChunk(content='！', additional_kwargs={}, response_metadata={}, id='run--ef5b139f-e234-4514-bc46-f4df8bc7e944'), {'langgraph_step': 1, 'langgraph_node': 'agent', 'langgraph_triggers': ('branch:to:agent',), 'langgraph_path': ('__pregel_pull', 'agent'), 'langgraph_checkpoint_ns': 'agent:aadc7394-5352-f191-8554-db251ad18d9d', 'checkpoint_ns': 'agent:aadc7394-5352-f191-8554-db251ad18d9d', 'ls_provider': 'openai', 'ls_model_name': 'deepseek-chat', 'ls_model_type': 'chat', 'ls_temperature': 0.0})\n",
      "\n",
      "\n",
      "(AIMessageChunk(content=' 😊', additional_kwargs={}, response_metadata={}, id='run--ef5b139f-e234-4514-bc46-f4df8bc7e944'), {'langgraph_step': 1, 'langgraph_node': 'agent', 'langgraph_triggers': ('branch:to:agent',), 'langgraph_path': ('__pregel_pull', 'agent'), 'langgraph_checkpoint_ns': 'agent:aadc7394-5352-f191-8554-db251ad18d9d', 'checkpoint_ns': 'agent:aadc7394-5352-f191-8554-db251ad18d9d', 'ls_provider': 'openai', 'ls_model_name': 'deepseek-chat', 'ls_model_type': 'chat', 'ls_temperature': 0.0})\n",
      "\n",
      "\n",
      "(AIMessageChunk(content='', additional_kwargs={}, response_metadata={'finish_reason': 'stop', 'model_name': 'deepseek-chat', 'system_fingerprint': 'fp_8802369eaa_prod0623_fp8_kvcache'}, id='run--ef5b139f-e234-4514-bc46-f4df8bc7e944', usage_metadata={'input_tokens': 107, 'output_tokens': 203, 'total_tokens': 310, 'input_token_details': {'cache_read': 64}, 'output_token_details': {}}), {'langgraph_step': 1, 'langgraph_node': 'agent', 'langgraph_triggers': ('branch:to:agent',), 'langgraph_path': ('__pregel_pull', 'agent'), 'langgraph_checkpoint_ns': 'agent:aadc7394-5352-f191-8554-db251ad18d9d', 'checkpoint_ns': 'agent:aadc7394-5352-f191-8554-db251ad18d9d', 'ls_provider': 'openai', 'ls_model_name': 'deepseek-chat', 'ls_model_type': 'chat', 'ls_temperature': 0.0})\n"
     ]
    }
   ],
   "source": [
    "for chunk in agent.stream(\n",
    "        {\"messages\": [{\"role\": \"user\", \"content\": \"你是谁能帮我解决什么问题？\"}]},\n",
    "        stream_mode = \"messages\"\n",
    "):\n",
    "    print(chunk(0))\n",
    "    print(\"\\n\")"
   ],
   "metadata": {
    "collapsed": false,
    "ExecuteTime": {
     "end_time": "2025-07-17T02:20:56.024174Z",
     "start_time": "2025-07-17T02:20:45.057897Z"
    }
   },
   "id": "cbe26d1c79c8cbbf"
  },
  {
   "cell_type": "markdown",
   "source": [
    "三、增加Tools工具调用\n",
    "\n",
    "Tools工具机制是大语言模型中的一个重要机制，它可以让大模型调用外部工具，从而实现更加复杂的功能。通常，一个完整的工具调用流程需要以下几个步骤：\n",
    "1. 客户端定义工具类，实现工具的功能。\n",
    "2. 客户端请求大语言模型，带上问题以及工具的描述信息。\n",
    "3. 大语言模型综合判断问题，并决定是否调用工具。\n",
    "4. 如果大语言模型判断需要使用工具，就会向客户端返回一个带有tool_calls工具调用信息的AIMessage。\n",
    "5. 客户端根据工具调用信息，调用工具，并将结果返回给大语言模型。\n",
    "6. 大语言模型根据工具调用的结果，生成最终的回答。\n",
    "\n",
    "使用LangChain，我们需要实现完整的流程。而使用LangGraph后，工具成了Agent的标配。只需要定义工具类，Agent中会自行完成工具调用的流程。"
   ],
   "metadata": {
    "collapsed": false
   },
   "id": "b66d1276afc7ee4a"
  },
  {
   "cell_type": "code",
   "execution_count": 21,
   "outputs": [
    {
     "name": "stdout",
     "output_type": "stream",
     "text": [
      "divide_tool\n",
      "\"计算两个整数的除法。\n",
      "    Args:\n",
      "        a (int): 除数\n",
      "        b (int): 被除数\n",
      "{'a': {'title': 'A', 'type': 'integer'}, 'b': {'title': 'B', 'type': 'integer'}}\n"
     ]
    }
   ],
   "source": [
    "from langchain_core.tools import tool\n",
    "from langgraph.prebuilt import ToolNode\n",
    "\n",
    "# 定义工具 return_direct=True 表示直接返回工具的结果 不用再返回给大模型做渲染\n",
    "@tool(\"divide_tool\", return_direct=True)\n",
    "def divide(a: int, b: int) -> float:\n",
    "    \"\"\"\"计算两个整数的除法。\n",
    "    Args:\n",
    "        a (int): 除数\n",
    "        b (int): 被除数\"\"\"\n",
    "    # 自定义错误\n",
    "    if b == 1:\n",
    "        raise ValueError(\"除数不能为1\")\n",
    "    return a / b\n",
    "\n",
    "print(divide.name)\n",
    "print(divide.description)\n",
    "print(divide.args)\n",
    "# 定义工具调用错误处理函数\n",
    "def handle_tool_error(error: Exception) -> str:\n",
    "    \"\"\"\"处理工具调用错误。\n",
    "    Args:\n",
    "        error (Exception): 工具调用错误\"\"\"\n",
    "    if isinstance(error, ValueError):\n",
    "        return \"除数为1没有意义，请重新输入一个除数和被除数。\"\n",
    "    elif isinstance(error, ZeroDivisionError):\n",
    "        return \"除数不能为0，请重新输入一个除数和被除数。\"\n",
    "    return f\"工具调用错误: {error}\"\n",
    "tool_node = ToolNode(\n",
    "    [divide],\n",
    "    handle_tool_errors=handle_tool_error\n",
    ")\n",
    "agent_with_error_handler = create_react_agent(\n",
    "    model=llm,\n",
    "    tools=tool_node\n",
    ")"
   ],
   "metadata": {
    "collapsed": false,
    "ExecuteTime": {
     "end_time": "2025-07-17T02:42:08.537218400Z",
     "start_time": "2025-07-17T02:42:08.514424500Z"
    }
   },
   "id": "9c92af74f284426f"
  },
  {
   "cell_type": "code",
   "execution_count": 22,
   "outputs": [
    {
     "name": "stdout",
     "output_type": "stream",
     "text": [
      "{'messages': [HumanMessage(content='10除以1等于多少', additional_kwargs={}, response_metadata={}, id='634d6c60-afe1-4c86-bef0-326cc91ed4e2'), AIMessage(content='', additional_kwargs={'tool_calls': [{'id': 'call_0_99ce4b12-1a14-450a-b6da-50645d0440ba', 'function': {'arguments': '{\"a\":10,\"b\":1}', 'name': 'divide_tool'}, 'type': 'function', 'index': 0}], 'refusal': None}, response_metadata={'token_usage': {'completion_tokens': 31, 'prompt_tokens': 148, 'total_tokens': 179, 'completion_tokens_details': None, 'prompt_tokens_details': {'audio_tokens': None, 'cached_tokens': 128}, 'prompt_cache_hit_tokens': 128, 'prompt_cache_miss_tokens': 20}, 'model_name': 'deepseek-chat', 'system_fingerprint': 'fp_8802369eaa_prod0623_fp8_kvcache', 'id': '723d090e-ab9f-43f7-a127-f8bfe5824946', 'service_tier': None, 'finish_reason': 'tool_calls', 'logprobs': None}, id='run--babdcbc7-b528-46c2-bedb-152544c069ba-0', tool_calls=[{'name': 'divide_tool', 'args': {'a': 10, 'b': 1}, 'id': 'call_0_99ce4b12-1a14-450a-b6da-50645d0440ba', 'type': 'tool_call'}], usage_metadata={'input_tokens': 148, 'output_tokens': 31, 'total_tokens': 179, 'input_token_details': {'cache_read': 128}, 'output_token_details': {}}), ToolMessage(content='除数为1没有意义，请重新输入一个除数和被除数。', name='divide_tool', id='f1e0d306-32b0-4838-861a-0d1ff3f6a98a', tool_call_id='call_0_99ce4b12-1a14-450a-b6da-50645d0440ba', status='error'), AIMessage(content='10除以1的除法没有意义，因为除数不能为1。请提供另一个除数。', additional_kwargs={'refusal': None}, response_metadata={'token_usage': {'completion_tokens': 19, 'prompt_tokens': 194, 'total_tokens': 213, 'completion_tokens_details': None, 'prompt_tokens_details': {'audio_tokens': None, 'cached_tokens': 128}, 'prompt_cache_hit_tokens': 128, 'prompt_cache_miss_tokens': 66}, 'model_name': 'deepseek-chat', 'system_fingerprint': 'fp_8802369eaa_prod0623_fp8_kvcache', 'id': 'd1575239-f920-4834-88d4-1835b908c9a6', 'service_tier': None, 'finish_reason': 'stop', 'logprobs': None}, id='run--9ae591c3-c969-4de6-a141-644fb75854df-0', usage_metadata={'input_tokens': 194, 'output_tokens': 19, 'total_tokens': 213, 'input_token_details': {'cache_read': 128}, 'output_token_details': {}})]}\n",
      "10除以1的除法没有意义，因为除数不能为1。请提供另一个除数。\n"
     ]
    }
   ],
   "source": [
    "result = agent_with_error_handler.invoke({\"messages\": [{\"role\": \"user\", \"content\": \"10除以1等于多少\"}]})\n",
    "# 打印最后的返回结果\n",
    "print(result)\n",
    "print(result[\"messages\"][-1].content)"
   ],
   "metadata": {
    "collapsed": false,
    "ExecuteTime": {
     "end_time": "2025-07-17T02:42:20.022607400Z",
     "start_time": "2025-07-17T02:42:10.269987500Z"
    }
   },
   "id": "e7badbbbb44b554a"
  },
  {
   "cell_type": "markdown",
   "source": [
    "在LangChain中，我们需要自行定义ChatMessageHistory，并且自行保存每一轮的消息记录，然后在调用大模型时，将其作为参数传入。\n",
    "LangGraph中，实现消息记录的流程，也完整的封装到了Agent当中。\n",
    "LangGraph将消息记忆分为了短期记忆与长期记忆。\n",
    "短期记忆是指Agent内部的记忆，用于当前对话中的历史记忆信息。LangGraph将他封装成Checkpoint。\n",
    "长期记忆是指Agent外部的记忆，用第三方存储长久的保存用户级别或者应用级别的聊天信息。LangGraph将它封装成Store。\n",
    "\n",
    "\n",
    "对于记忆管理，我认为LangGraph的管理方式或许比具体实现更有参考价值。\n",
    "在具体实现时，LangGraph都默认提供了InMemorySaver和InMemoryStore，也同样都可以转移到其他外部存储当中。不过，短期记忆通常是代表那些会话级别的小内存，而长期记忆通常是代表那些用户级别或者应用级别的大内存。短期记忆的内存比较紧张，所以需要更频繁的清理内存，并对已有的消息记录进行总结，从而减少内存占用。而长期记忆的内存比较充足，所以不太需要频繁的清理内存。更需要关注的，是如何对已有的消息进行检索。\n",
    "\n",
    "\n",
    "## 4.1 短期记忆 CheckPoint\n",
    "\n",
    "在LangGraph的Agent中，只需要指定checkpointer属性，就可以实现短期记忆。具体传入的属性需要是BaseCheckpointSaver的子类。\n",
    "\n",
    "LangGraph中默认提供了InMemorySaver，用于将短期记忆信息保存在内存中。当然，也可以采用Redis、SQLite等第三方存储来实现长期记忆。不过当前版本的LangGraph并没有提供具体的实现，需要实现。（如果不会写，交给AI）\n",
    "\n",
    "另外，使用checkpointer时，需要制定一个单独的thread_id来区分不同的对话。"
   ],
   "metadata": {
    "collapsed": false
   },
   "id": "954023e68fc30393"
  },
  {
   "cell_type": "code",
   "execution_count": 23,
   "outputs": [
    {
     "name": "stdout",
     "output_type": "stream",
     "text": [
      "{'messages': [HumanMessage(content='长沙天气怎么样？', additional_kwargs={}, response_metadata={}, id='bf06478f-9659-4e1d-86c3-597f01c279ad'), AIMessage(content='', additional_kwargs={'tool_calls': [{'id': 'call_0_427930ac-a4cf-4c7d-b213-4f7d79a21cae', 'function': {'arguments': '{\"city\":\"长沙\"}', 'name': 'get_weather'}, 'type': 'function', 'index': 0}], 'refusal': None}, response_metadata={'token_usage': {'completion_tokens': 19, 'prompt_tokens': 104, 'total_tokens': 123, 'completion_tokens_details': None, 'prompt_tokens_details': {'audio_tokens': None, 'cached_tokens': 0}, 'prompt_cache_hit_tokens': 0, 'prompt_cache_miss_tokens': 104}, 'model_name': 'deepseek-chat', 'system_fingerprint': 'fp_8802369eaa_prod0623_fp8_kvcache', 'id': '46915694-1ef0-448d-a458-eb144a6f1a29', 'service_tier': None, 'finish_reason': 'tool_calls', 'logprobs': None}, id='run--dc092d74-78ca-4757-ba37-c354beffc956-0', tool_calls=[{'name': 'get_weather', 'args': {'city': '长沙'}, 'id': 'call_0_427930ac-a4cf-4c7d-b213-4f7d79a21cae', 'type': 'tool_call'}], usage_metadata={'input_tokens': 104, 'output_tokens': 19, 'total_tokens': 123, 'input_token_details': {'cache_read': 0}, 'output_token_details': {}}), ToolMessage(content='城市: 长沙, 天气一直都是晴天！', name='get_weather', id='3c76414f-3aa2-498c-81c4-8148b23dfd8d', tool_call_id='call_0_427930ac-a4cf-4c7d-b213-4f7d79a21cae'), AIMessage(content='长沙的天气一直都是晴天！', additional_kwargs={'refusal': None}, response_metadata={'token_usage': {'completion_tokens': 6, 'prompt_tokens': 145, 'total_tokens': 151, 'completion_tokens_details': None, 'prompt_tokens_details': {'audio_tokens': None, 'cached_tokens': 64}, 'prompt_cache_hit_tokens': 64, 'prompt_cache_miss_tokens': 81}, 'model_name': 'deepseek-chat', 'system_fingerprint': 'fp_8802369eaa_prod0623_fp8_kvcache', 'id': 'db1dd563-ebb5-468e-acfa-0ae746681cd3', 'service_tier': None, 'finish_reason': 'stop', 'logprobs': None}, id='run--f1392f5c-ab26-4353-92f7-667ec338275a-0', usage_metadata={'input_tokens': 145, 'output_tokens': 6, 'total_tokens': 151, 'input_token_details': {'cache_read': 64}, 'output_token_details': {}})]}\n"
     ]
    }
   ],
   "source": [
    "from langgraph.prebuilt import create_react_agent\n",
    "from langgraph.checkpoint.memory import InMemorySaver\n",
    "# 存在内存中\n",
    "checkpointer = InMemorySaver()\n",
    "def get_weather(city: str) -> str:\n",
    "    \"\"\"获取某个城市的天气\"\"\"\n",
    "    return f\"城市: {city}, 天气一直都是晴天！\"\n",
    "agent = create_react_agent(\n",
    "    model=llm,\n",
    "    tools=[get_weather],\n",
    "    checkpointer=checkpointer\n",
    ")\n",
    "# Run the agent\n",
    "config = {\n",
    "    \"configurable\": {\n",
    "        \"thread_id\": \"1\"\n",
    "    }\n",
    "}\n",
    "cs_response = agent.invoke(\n",
    "    {\"messages\": [{\"role\": \"user\", \"content\": \"长沙天气怎么样？\"}]},\n",
    "    config\n",
    ")\n",
    "print(cs_response)\n",
    "# Continue the conversation using the same thread_id\n",
    "bj_response = agent.invoke(\n",
    "    {\"messages\": [{\"role\": \"user\", \"content\": \"北京呢？\"}]},\n",
    "    config\n",
    ")\n",
    "print(bj_response)"
   ],
   "metadata": {
    "collapsed": false,
    "ExecuteTime": {
     "end_time": "2025-07-17T03:05:15.768167700Z",
     "start_time": "2025-07-17T03:04:55.144175100Z"
    }
   },
   "id": "47ca4aa40d70f3d5"
  },
  {
   "cell_type": "markdown",
   "source": [
    "从结果可以看到，当前会话当中和大模型的每次交互记录，包括工具调用的信息，都保存在了短期记忆当中。\n",
    "当然，目前的实现是保存在内存中，所以程序结束后就释放了。生产环境中，LangGraph建议是保存到外部存储当中，例如数据库、文件系统等。这样每次启动程序时，都可以从外部存储中加载历史记录。\n",
    "\n",
    "短期记忆通常认为是比较紧张的，所以需要定期做清理，防止历史消息过多。\n",
    "LangGraph的Agent中，提供了一个pre_model_hook属性，可以在每次调用大模型之前触发。通过这个hook，就可以来定期管理短期记忆。\n",
    "\n",
    "LangGraph中管理短期记忆的方法主要有两种：\n",
    "- Summarization 总结：用大模型的方式，对短期记忆进行总结，然后再把总结的结果作为新的短期记忆。\n",
    "- Trimming 删除：直接把短期记忆中最旧的消息删除掉。\n",
    "\n",
    "LangGraph提供了SummarizationNode函数，用于使用大模型的方式对短期记忆进行总结。"
   ],
   "metadata": {
    "collapsed": false
   },
   "id": "666892dccd5f1d78"
  },
  {
   "cell_type": "code",
   "execution_count": null,
   "outputs": [],
   "source": [
    "from langmem.short_term import SummarizationNode\n",
    "from langchain_core.messages.utils import count_tokens_approximately\n",
    "from langgraph.prebuilt import create_react_agent\n",
    "from langgraph.prebuilt.chat_agent_executor import AgentState\n",
    "from langgraph.checkpoint.memory import InMemorySaver\n",
    "from typing import Any\n",
    "\n",
    "# 使用大模型对历史信息进行总结\n",
    "summarization_node = SummarizationNode(\n",
    "    token_counter=count_tokens_approximately,\n",
    "    model=llm,\n",
    "    max_tokens=384,\n",
    "    max_summary_tokens=128,\n",
    "    output_messages_key=\"llm_input_messages\",\n",
    ")\n",
    "\n",
    "class State(AgentState):\n",
    "    # 注意：这个状态管理的作用是为了能够保存上一次总结的结果。这样就可以防止每次调用大模型时，都要重新总结历史信息。\n",
    "    # 这是一个比较常见的优化方式，因为大模型的调用是比较耗时的。\n",
    "    context: dict[str, Any]\n",
    "checkpointer = InMemorySaver()\n",
    "agent = create_react_agent(\n",
    "    model=llm,\n",
    "    tools=[get_weather],\n",
    "    pre_model_hook=summarization_node,\n",
    "    state_schema=State,\n",
    "    checkpointer=checkpointer,\n",
    ")"
   ],
   "metadata": {
    "collapsed": false
   },
   "id": "3ccc109695a9feaa"
  },
  {
   "cell_type": "code",
   "execution_count": null,
   "outputs": [],
   "source": [
    "from langchain_core.messages.utils import (\n",
    "    trim_messages,\n",
    "    count_tokens_approximately\n",
    ")\n",
    "from langgraph.prebuilt import create_react_agent\n",
    "# 另外，还提供了trim_messages函数，用于定期清理短期记忆。\n",
    "# This function will be called every time before the node that calls LLM\n",
    "def pre_model_hook(state):\n",
    "    trimmed_messages = trim_messages(\n",
    "        state[\"messages\"],\n",
    "        strategy=\"last\",\n",
    "        token_counter=count_tokens_approximately,\n",
    "        max_tokens=384,\n",
    "        start_on=\"human\",\n",
    "        end_on=(\"human\", \"tool\"),\n",
    "    )\n",
    "    return {\"llm_input_messages\": trimmed_messages}\n",
    "checkpointer = InMemorySaver()\n",
    "agent = create_react_agent(\n",
    "    model=llm,\n",
    "    tools=[],\n",
    "    pre_model_hook=pre_model_hook,\n",
    "    checkpointer=checkpointer,\n",
    ")"
   ],
   "metadata": {
    "collapsed": false
   },
   "id": "a38176f77170bf56"
  },
  {
   "cell_type": "markdown",
   "source": [
    "# 实现了基础的短期记忆管理后，LangGraph还提供了状态管理机制，用于保存处理过程中的中间结果。而且，这些状态数据，还可以在Tools工具中使用。"
   ],
   "metadata": {
    "collapsed": false
   },
   "id": "6ce48bb52186f5a6"
  },
  {
   "cell_type": "code",
   "execution_count": null,
   "outputs": [],
   "source": [
    "from typing import Annotated\n",
    "from langgraph.prebuilt import InjectedState, create_react_agent\n",
    "from langgraph.prebuilt.chat_agent_executor import AgentState\n",
    "from langchain_core.tools import tool\n",
    "# 定义状态管理，  这个可以在不同的agents 之间传递\n",
    "class CustomState(AgentState):\n",
    "    user_id: str\n",
    "\n",
    "@tool(return_direct=True)\n",
    "def get_user_info(\n",
    "        state: Annotated[CustomState, InjectedState]\n",
    ") -> str:\n",
    "    \"\"\"查询用户信息。\"\"\"\n",
    "    user_id = state[\"user_id\"]\n",
    "    return \"user_123用户的姓名楼兰。\" if user_id == \"user_123\" else \"未知用户\"\n",
    "\n",
    "agent = create_react_agent(\n",
    "    model=llm,\n",
    "    tools=[get_user_info],\n",
    "    state_schema=CustomState,\n",
    ")\n",
    "\n",
    "agent.invoke({\n",
    "    \"messages\": \"查询用户信息\",\n",
    "    \"user_id\": \"user_123\"\n",
    "})"
   ],
   "metadata": {
    "collapsed": false
   },
   "id": "94c0caacf3594f89"
  },
  {
   "cell_type": "markdown",
   "source": [
    "## 4.2 长期记忆\n",
    "长期记忆通常认为是比较充足的记忆空间，因此使用时，可以比短期记忆更加粗犷，不太需要实时关注内存空间大小。\n",
    "至于使用方式，和短期记忆差不太多。主要是通过Agent的store属性指定一个实现类就可以了。\n",
    "与短期记忆最大的区别在于，短期记忆通过thread_id来区分不同的对话，而长期记忆则通过namespace来区分不同的命名空间。"
   ],
   "metadata": {
    "collapsed": false
   },
   "id": "6364adeaec1be216"
  },
  {
   "cell_type": "code",
   "execution_count": 29,
   "outputs": [
    {
     "data": {
      "text/plain": "{'messages': [HumanMessage(content='查找用户信息', additional_kwargs={}, response_metadata={}, id='39d91e50-909f-4c02-b2d5-0fecf528f437'),\n  AIMessage(content='', additional_kwargs={'tool_calls': [{'id': 'call_0_cca41bbb-9e4c-4bfc-8e18-65ecc29268ca', 'function': {'arguments': '{}', 'name': 'get_user_info'}, 'type': 'function', 'index': 0}], 'refusal': None}, response_metadata={'token_usage': {'completion_tokens': 16, 'prompt_tokens': 75, 'total_tokens': 91, 'completion_tokens_details': None, 'prompt_tokens_details': {'audio_tokens': None, 'cached_tokens': 64}, 'prompt_cache_hit_tokens': 64, 'prompt_cache_miss_tokens': 11}, 'model_name': 'deepseek-chat', 'system_fingerprint': 'fp_8802369eaa_prod0623_fp8_kvcache', 'id': '62d55dcd-7376-4206-b9fd-81093d622bcc', 'service_tier': None, 'finish_reason': 'tool_calls', 'logprobs': None}, id='run--b095e982-6588-4865-bac8-a7144ff2393c-0', tool_calls=[{'name': 'get_user_info', 'args': {}, 'id': 'call_0_cca41bbb-9e4c-4bfc-8e18-65ecc29268ca', 'type': 'tool_call'}], usage_metadata={'input_tokens': 75, 'output_tokens': 16, 'total_tokens': 91, 'input_token_details': {'cache_read': 64}, 'output_token_details': {}}),\n  ToolMessage(content=\"{'name': '楼兰', 'age': '33'}\", name='get_user_info', id='be25aa25-9a47-403a-a50d-df26350c1ce3', tool_call_id='call_0_cca41bbb-9e4c-4bfc-8e18-65ecc29268ca')]}"
     },
     "execution_count": 29,
     "metadata": {},
     "output_type": "execute_result"
    }
   ],
   "source": [
    "from langchain_core.runnables import RunnableConfig\n",
    "from langgraph.config import get_store\n",
    "from langgraph.prebuilt import create_react_agent\n",
    "from langgraph.store.memory import InMemoryStore\n",
    "from langchain_core.tools import tool\n",
    "# 定义长期存储\n",
    "store = InMemoryStore()\n",
    "# 添加一些测试数据。users是命名空间，user_123是key，后面的JSON数据是value\n",
    "store.put(\n",
    "    (\"users\", ),\n",
    "    \"user_123\",\n",
    "    {\n",
    "        \"name\": \"楼兰\",\n",
    "        \"age\": \"33\",\n",
    "    }\n",
    ")\n",
    "# 定义工具\n",
    "@tool(return_direct=True)\n",
    "def get_user_info(config: RunnableConfig) -> str:\n",
    "    \"\"\"查找用户信息\"\"\"\n",
    "    # 获取长期存储。获取到了后，这个存储组件可读也可写\n",
    "    store = get_store()\n",
    "    # store.put(\n",
    "    #     (\"users\",),\n",
    "    #     \"user_456\",\n",
    "    #     {\n",
    "    #         \"name\": \"楼兰\",\n",
    "    #         \"age\": \"33\",\n",
    "    #     }\n",
    "    # )\n",
    "    # 获取配置中的用户ID\n",
    "    user_id = config[\"configurable\"].get(\"user_id\")\n",
    "    user_info = store.get((\"users\",), user_id)\n",
    "    return str(user_info.value) if user_info else \"Unknown user\"\n",
    "agent = create_react_agent(\n",
    "    model = llm,\n",
    "    tools = [get_user_info],\n",
    "    store = store,\n",
    ")\n",
    "\n",
    "# Run the agent\n",
    "agent.invoke(\n",
    "    {\"messages\": [{\"role\": \"user\", \"content\": \"查找用户信息\"}]},\n",
    "    config={\"configurable\": {\"user_id\": \"user_123\"}}\n",
    ")"
   ],
   "metadata": {
    "collapsed": false,
    "ExecuteTime": {
     "end_time": "2025-07-17T06:00:08.791616300Z",
     "start_time": "2025-07-17T06:00:01.400716900Z"
    }
   },
   "id": "12ee5fc5912a0908"
  },
  {
   "cell_type": "markdown",
   "source": [
    "# 五、Human-in-the-loop人类监督\n",
    "\n",
    "这也是LangGraph的Agent中非常核心的一个功能。\n",
    "\n",
    "在Agent的工作过程中，有一个问题是非常致命的，就是Agent可以添加Tools工具，但是要不要调用工具，却完全是由Agent自己决定的。这就会导致Agent在面对一些问题时，可能会出现错误的判断。为了解决这个问题，LangGraph提供了Human-in-the-loop的功能。在Agent进行工具调用的过程中，允许用户进行监督。这就需要中断当前的执行任务，等待用户输入后，再重新恢复任务。\n",
    "\n",
    "> A human can review and edit the output from the agent before proceeding. This is particularly critical in applications where the tool calls requested may be sensitive or require human oversight.\n",
    "\n",
    "在实现时，LangGraph提供了interrupt()方法添加人类监督。监督时需要中断当前任务，所以通常是和stream流式方法配合使用。"
   ],
   "metadata": {
    "collapsed": false
   },
   "id": "707b2c5015d8a866"
  },
  {
   "cell_type": "code",
   "execution_count": 30,
   "outputs": [
    {
     "name": "stdout",
     "output_type": "stream",
     "text": [
      "{'agent': {'messages': [AIMessage(content='', additional_kwargs={'tool_calls': [{'id': 'call_0_8b64bc11-4546-4871-9e22-a3434459dd95', 'function': {'arguments': '{\"hotel_name\":\"图灵宾馆\"}', 'name': 'book_hotel'}, 'type': 'function', 'index': 0}], 'refusal': None}, response_metadata={'token_usage': {'completion_tokens': 23, 'prompt_tokens': 110, 'total_tokens': 133, 'completion_tokens_details': None, 'prompt_tokens_details': {'audio_tokens': None, 'cached_tokens': 0}, 'prompt_cache_hit_tokens': 0, 'prompt_cache_miss_tokens': 110}, 'model_name': 'deepseek-chat', 'system_fingerprint': 'fp_8802369eaa_prod0623_fp8_kvcache', 'id': '0680fe5d-bd77-4898-90a8-57c06d5bbe81', 'service_tier': None, 'finish_reason': 'tool_calls', 'logprobs': None}, id='run--8525eec2-c0e4-490f-811c-1ab8743f8632-0', tool_calls=[{'name': 'book_hotel', 'args': {'hotel_name': '图灵宾馆'}, 'id': 'call_0_8b64bc11-4546-4871-9e22-a3434459dd95', 'type': 'tool_call'}], usage_metadata={'input_tokens': 110, 'output_tokens': 23, 'total_tokens': 133, 'input_token_details': {'cache_read': 0}, 'output_token_details': {}})]}}\n",
      "\n",
      "\n",
      "{'__interrupt__': (Interrupt(value=\"正准备执行'book_hotel'工具预定宾馆，相关参数名：{'hotel_name': '图灵宾馆'}。请选择OK表示同意或者选择edit提出补充意见。\", resumable=True, ns=['tools:45187866-7fe0-24ed-61e8-cbfe8d8c5239']),)}\n"
     ]
    }
   ],
   "source": [
    "from langgraph.checkpoint.memory import InMemorySaver\n",
    "from langgraph.types import interrupt\n",
    "from langgraph.prebuilt import create_react_agent\n",
    "from langchain_core.tools import tool\n",
    "\n",
    "@tool(return_direct=True)\n",
    "def book_hotel(hotel_name: str):\n",
    "    \"\"\"预定宾馆\"\"\"\n",
    "    response = interrupt(\n",
    "        f\"正准备执行'book_hotel'工具预定宾馆，相关参数名：{{'hotel_name': '{hotel_name}'}}。\"\n",
    "        \"请选择OK表示同意或者选择edit提出补充意见。\"\n",
    "    )\n",
    "    if response[\"type\"] == \"OK\":\n",
    "        pass\n",
    "    elif response[\"type\"] == \"edit\":\n",
    "        hotel_name = response[\"args\"][\"hotel_name\"]\n",
    "    else:\n",
    "        raise ValueError(f\"Unknown response type: {response['type']}\")\n",
    "    return f\"成功在 {hotel_name} 预定了一个房间。\"\n",
    "\n",
    "checkpointer = InMemorySaver()\n",
    "\n",
    "agent = create_react_agent(\n",
    "    model=llm,\n",
    "    tools=[book_hotel],\n",
    "    checkpointer=checkpointer,\n",
    ")\n",
    "config = {\n",
    "    \"configurable\": {\n",
    "        \"thread_id\": \"1\"\n",
    "    }\n",
    "}\n",
    "\n",
    "for chunk in agent.stream(\n",
    "        {\"messages\": [{\"role\": \"user\", \"content\": \"帮我在图灵宾馆预定一个房间\"}]},\n",
    "        config\n",
    "):\n",
    "    print(chunk)\n",
    "    print(\"\\n\")"
   ],
   "metadata": {
    "collapsed": false,
    "ExecuteTime": {
     "end_time": "2025-07-17T07:45:57.468914100Z",
     "start_time": "2025-07-17T07:45:52.179216Z"
    }
   },
   "id": "7d47aeae65a1e4a0"
  },
  {
   "cell_type": "markdown",
   "source": [
    "执行完成后，会在book_hotel执行过程中，输出一个Interrupt响应，表示当前正在等待用户输入确认。\n",
    "接下来，可以通过Agent提交一个Command请求，来继续完成之前的任务。\n",
    "需要注意的是，在这个示例中，Agent只会一直等待用户输入。如果等待时间过长，后续请求就无法恢复了。"
   ],
   "metadata": {
    "collapsed": false
   },
   "id": "ac3f2e95093f0b1f"
  },
  {
   "cell_type": "code",
   "execution_count": 31,
   "outputs": [
    {
     "name": "stdout",
     "output_type": "stream",
     "text": [
      "{'tools': {'messages': [ToolMessage(content='成功在 三号宾馆 预定了一个房间。', name='book_hotel', id='fcd6a479-3ec8-4bb5-aeec-fae766f8f6fc', tool_call_id='call_0_8b64bc11-4546-4871-9e22-a3434459dd95')]}}\n",
      "成功在 三号宾馆 预定了一个房间。\n"
     ]
    }
   ],
   "source": [
    "from langgraph.types import Command\n",
    "\n",
    "for chunk in agent.stream(\n",
    "        # Command(resume={\"type\": \"OK\"}),\n",
    "        Command(resume={\"type\": \"edit\", \"args\": {\"hotel_name\": \"三号宾馆\"}}),\n",
    "        config\n",
    "):\n",
    "    print(chunk)\n",
    "    print(chunk['tools']['messages'][-1].content)\n",
    "    print(\"\\n\")"
   ],
   "metadata": {
    "collapsed": false,
    "ExecuteTime": {
     "end_time": "2025-07-17T07:47:24.463470100Z",
     "start_time": "2025-07-17T07:47:24.420122300Z"
    }
   },
   "id": "8444caacc296f449"
  },
  {
   "cell_type": "markdown",
   "source": [
    "# 六、LangGraph的Agent总结\n",
    "\n",
    "Agent，这是LangGraph后续构建Graph图的基础。但其实Agent并不是LangGraph框架当中独有的，甚至Agent并不是一种技术，而是我们设想的一种理想的大模型工作模式。那么到底什么是Agent？或者职业心目中理想的Agent应该是什么样子呢？LangGraph实际上给我们提供了一种理解。而这个理解，或许比具体实现更重要。\n",
    "\n",
    "这一章节，我们重点在演练LangGraph中Agent的功能。我们介绍了LangGraph的Agent功能，以及如何使用LangGraph的Agent功能来构建一个简单的应用。对于LangGraph框架来说，由于有了LangChain的支持，Agent智能体或许并不是他的重点。后续，LangGraph使用Graph图的方式协调管理多个Agent，或许是更大的价值所在。\n",
    "\n",
    "- 使用LangGraph构建Agent智能体\n",
    "- Agent智能体增加Tools工具调用机制\n",
    "- Agent智能体消息记忆管理功能\n",
    "- Human-in-Loop人类监督功能\n",
    "\n",
    "但是，LangGraph对于Agent的功能封装却给大模型应用落地提供了非常好的思想指导。通过Agent，我们不再需要关注应用的实现细节，而是可以更专注于应用的功能设计。而Agent，绝对不仅仅是LangGraph需要构建的，即便脱离LangGraph框架，如何构建一个能力强大又听话懂事的Agent，或许是我们后续都需要思考的问题。"
   ],
   "metadata": {
    "collapsed": false
   },
   "id": "90c96162bf722e2e"
  },
  {
   "cell_type": "code",
   "execution_count": null,
   "outputs": [],
   "source": [],
   "metadata": {
    "collapsed": false
   },
   "id": "8c1c00d74095838d"
  },
  {
   "cell_type": "markdown",
   "source": [
    "# 四、深度理解LangGraph核心-Graph\n",
    "\n",
    "- 楼兰\n",
    "\n",
    "在了解了LangGraph中如何构建Agent智能体之后，接下来就要进入LangGraph的重头戏，Graph了。Graph是LangGraph的核心，它以有向无环图的方式组织多个Agent，构建更复杂的Agent大模型应用，形成更复杂的工作流。并且提供了很多产品级的特性，保证这些应用可以更稳定高效的执行。\n",
    "\n",
    "## 一、理解什么是Graph图\n",
    "\n",
    "Graph是LangGraph的基本构建模块，它是一个有向无环图（DAG），用于描述任务之间的依赖关系。\n",
    "\n",
    "主要包含三个基本的元素：\n",
    "\n",
    "- **State**：在整个应用当中共享的一种数据结构。\n",
    "- **Node**：一个处理数据的节点。LangGraph中通常是一个Python的函数，以State为输入，经过一些操作后，返回更新后的State。\n",
    "- **Edge**：表示Node之前的依赖关系。LangGraph中通常也是一个Python函数，根据当前State来决定接下来执行哪个Node。\n",
    "\n",
    "接下来用一个最简单的案例，来看一下Graph的基本用法。"
   ],
   "metadata": {
    "collapsed": false
   },
   "id": "b14a61e0050d0796"
  },
  {
   "cell_type": "code",
   "execution_count": 32,
   "outputs": [
    {
     "name": "stderr",
     "output_type": "stream",
     "text": [
      "C:\\Users\\longyu3\\AppData\\Local\\Temp\\ipykernel_27556\\2251706786.py:32: LangGraphDeprecatedSinceV05: `input` is deprecated and will be removed. Please use `input_schema` instead. Deprecated in LangGraph V0.5 to be removed in V2.0.\n",
      "  builder = StateGraph(OverallState, input=InputState, output=OutputState)\n",
      "C:\\Users\\longyu3\\AppData\\Local\\Temp\\ipykernel_27556\\2251706786.py:32: LangGraphDeprecatedSinceV05: `output` is deprecated and will be removed. Please use `output_schema` instead. Deprecated in LangGraph V0.5 to be removed in V2.0.\n",
      "  builder = StateGraph(OverallState, input=InputState, output=OutputState)\n"
     ]
    },
    {
     "data": {
      "text/plain": "{'graph_output': '图灵>学院>非常>靠谱'}"
     },
     "execution_count": 32,
     "metadata": {},
     "output_type": "execute_result"
    }
   ],
   "source": [
    "from typing import TypedDict\n",
    "from langgraph.constants import END, START\n",
    "from langgraph.graph import StateGraph\n",
    "\n",
    "class InputState(TypedDict):\n",
    "    user_input: str\n",
    "\n",
    "class OutputState(TypedDict):\n",
    "    graph_output: str\n",
    "\n",
    "class OverallState(TypedDict):\n",
    "    foo: str\n",
    "    user_input: str\n",
    "    graph_output: str\n",
    "\n",
    "class PrivateState(TypedDict):\n",
    "    bar: str\n",
    "\n",
    "def node_1(state: InputState) -> OverallState:\n",
    "    # Write to OverallState\n",
    "    return {\"foo\": state[\"user_input\"] + \">学院\"}\n",
    "\n",
    "def node_2(state: OverallState) -> PrivateState:\n",
    "    # Read from OverallState, write to PrivateState\n",
    "    return {\"bar\": state[\"foo\"] + \">非常\"}\n",
    "\n",
    "def node_3(state: PrivateState) -> OutputState:\n",
    "    # Read from PrivateState, write to OutputState\n",
    "    return {\"graph_output\": state[\"bar\"] + \">靠谱\"}\n",
    "\n",
    "# 构建图\n",
    "builder = StateGraph(OverallState, input=InputState, output=OutputState)\n",
    "# 添加Node\n",
    "builder.add_node(\"node_1\", node_1)\n",
    "builder.add_node(\"node_2\", node_2)\n",
    "builder.add_node(\"node_3\", node_3)\n",
    "# 添加Edge\n",
    "builder.add_edge(START, \"node_1\")\n",
    "builder.add_edge(\"node_1\", \"node_2\")\n",
    "builder.add_edge(\"node_2\", \"node_3\")\n",
    "builder.add_edge(\"node_3\", END)\n",
    "# 编译图\n",
    "graph = builder.compile()\n",
    "# 调用图\n",
    "graph.invoke({\"user_input\": \"图灵\"})"
   ],
   "metadata": {
    "collapsed": false,
    "ExecuteTime": {
     "end_time": "2025-07-18T02:56:41.687254800Z",
     "start_time": "2025-07-18T02:56:41.626658100Z"
    }
   },
   "id": "f2c65b3f38342d5c"
  },
  {
   "cell_type": "markdown",
   "source": [
    "这个案例当中，请求的参数从固定的START传入，依次经过三个节点处理，每个节点的处理结果都会被保存到不同的state当中，最后进入到END节点结束。\n",
    "如果你觉得这个流程不够明显，还可以直接用真正的图来看看请求是如何处理的。"
   ],
   "metadata": {
    "collapsed": false
   },
   "id": "21d1ff6b9039f84e"
  },
  {
   "cell_type": "code",
   "execution_count": 33,
   "outputs": [
    {
     "data": {
      "image/png": "[encoded data removed]",
      "text/plain": "<IPython.core.display.Image object>"
     },
     "metadata": {},
     "output_type": "display_data"
    }
   ],
   "source": [
    "from IPython.display import Image, display\n",
    "# draw_mermaid方法可以打印出Graph的mermaid代码。\n",
    "display(Image(graph.get_graph().draw_mermaid_png()))"
   ],
   "metadata": {
    "collapsed": false,
    "ExecuteTime": {
     "end_time": "2025-07-18T03:02:57.452332800Z",
     "start_time": "2025-07-18T03:02:55.921585900Z"
    }
   },
   "id": "7e0134f3979cf9d4"
  },
  {
   "cell_type": "markdown",
   "source": [
    "可以看到，一个Graph中，可以通过对Node和Edge的灵活组合，形成各种复杂的流程。接下来，我们就是要接入Agent，来完成各种复杂的任务。\n",
    "在构建复杂任务之前，我们先来仔细看看Graph中的这三个主要组件。"
   ],
   "metadata": {
    "collapsed": false
   },
   "id": "3c3efc05b9bd06ed"
  },
  {
   "cell_type": "markdown",
   "source": [
    "# 1、State 状态\n",
    "\n",
    "State是所有节点共享的状态，它是一个字典，包含了所有节点的状态。有几个需要注意的地方：\n",
    "\n",
    "- State形式上，可以是TypedDict字典，也可以是Pydantic中的一个BaseModel。例如："
   ],
   "metadata": {
    "collapsed": false
   },
   "id": "719b68d066d0af47"
  },
  {
   "cell_type": "code",
   "execution_count": null,
   "outputs": [],
   "source": [
    "from pydantic import BaseModel\n",
    "def OverallState(BaseModel):\n",
    "    foo: str\n",
    "    user_input: str\n",
    "    graph_output: str\n",
    "    "
   ],
   "metadata": {
    "collapsed": false
   },
   "id": "2b459c5573f77455"
  },
  {
   "cell_type": "markdown",
   "source": [
    "也可以用 Pydantic的BaseModel 进行创建"
   ],
   "metadata": {
    "collapsed": false
   },
   "id": "a28580ca2f42004c"
  },
  {
   "cell_type": "markdown",
   "source": [
    "State中的属性，除了可以修改值之外，也可以定义一些操作。来指定如何更新State中的值。例如"
   ],
   "metadata": {
    "collapsed": false
   },
   "id": "2189f7cdd4a79546"
  },
  {
   "cell_type": "code",
   "execution_count": null,
   "outputs": [],
   "source": [
    "from operator import add\n",
    "from typing import List\n",
    "from langchain_core.messages import AnyMessage\n",
    "from langgraph.graph.message import add_messages\n",
    "\n",
    "class State(TypedDict):\n",
    "    messages: Annotated[List[AnyMessage], add_messages]\n",
    "    list_field: Annotated[List[int], add]\n",
    "    extra_field: int"
   ],
   "metadata": {
    "collapsed": false
   },
   "id": "5813b3292d35d1cc"
  },
  {
   "cell_type": "markdown",
   "source": [
    "此时，如果有一个node，返回了State中更新的值，那么messages和list_field的值就会添加到原有的旧集合中，而extra_field的值则会被替换。"
   ],
   "metadata": {
    "collapsed": false
   },
   "id": "e975943d0dbf09f5"
  },
  {
   "cell_type": "code",
   "execution_count": 35,
   "outputs": [
    {
     "name": "stdout",
     "output_type": "stream",
     "text": [
      "{'messages': [HumanMessage(content='Hi', additional_kwargs={}, response_metadata={}, id='94e96c9c-0fef-4396-9982-f21f50b8b06d'), AIMessage(content='Hello!', additional_kwargs={}, response_metadata={}, id='dff5b35e-9fc4-42b6-92dd-fd7782079be1'), AIMessage(content='LangGraph!', additional_kwargs={}, response_metadata={}, id='3dcf0ee5-dca5-462a-bc56-440192e0968e')], 'list_field': [1, 2, 3, 10, 20], 'extra_field': 20}\n"
     ]
    }
   ],
   "source": [
    "from langchain_core.messages import AnyMessage, AIMessage\n",
    "from langgraph.graph import StateGraph\n",
    "from langgraph.graph.message import add_messages\n",
    "from typing import Annotated, TypedDict\n",
    "from operator import add\n",
    "from typing import List\n",
    "\n",
    "class State(TypedDict):\n",
    "    messages: Annotated[List[AnyMessage], add_messages]\n",
    "    list_field: Annotated[List[int], add]\n",
    "    extra_field: int\n",
    "\n",
    "def node1(state: State):\n",
    "    new_message = AIMessage(\"Hello!\")\n",
    "    return {\"messages\": [new_message], \"list_field\": [10], \"extra_field\": 10}\n",
    "\n",
    "def node2(state: State):\n",
    "    new_message = AIMessage(\"LangGraph!\")\n",
    "    return {\"messages\": [new_message], \"list_field\": [20], \"extra_field\": 20}\n",
    "\n",
    "graph = (StateGraph(State)\n",
    "         .add_node(\"node1\", node1)\n",
    "         .add_node(\"node2\", node2)\n",
    "         .set_entry_point(\"node1\")\n",
    "         .add_edge(\"node1\", \"node2\")\n",
    "         .compile())\n",
    "\n",
    "input_message = {\"role\": \"user\", \"content\": \"Hi\"}\n",
    "\n",
    "result = graph.invoke({\"messages\": [input_message], \"list_field\": [1, 2, 3]})\n",
    "print(result)\n",
    "\n",
    "# for message in result[\"messages\"]:\n",
    "#     message.pretty_print()\n",
    "# print(result[\"extra_field\"])"
   ],
   "metadata": {
    "collapsed": false,
    "ExecuteTime": {
     "end_time": "2025-07-18T03:18:45.364689200Z",
     "start_time": "2025-07-18T03:18:45.228953500Z"
    }
   },
   "id": "ce6fcb50856a01e3"
  },
  {
   "cell_type": "markdown",
   "source": [
    "在LangGraph的应用当中，State通常都会要保存聊天消息。为此，LangGraph中还提供了一个langgraph.graph.MessageState，可以用来快速保存消息。他的声明方式就是这样的：\n",
    "\n"
   ],
   "metadata": {
    "collapsed": false
   },
   "id": "b71f5119b29c464a"
  },
  {
   "cell_type": "code",
   "execution_count": null,
   "outputs": [],
   "source": [
    "class MessagesState(TypedDict):\n",
    "    messages: Annotated[List[AnyMessage], add_messages]"
   ],
   "metadata": {
    "collapsed": false
   },
   "id": "24e2b67ff4eee9f3"
  },
  {
   "cell_type": "markdown",
   "source": [
    "然后，对于Messages，也可以用序列化的方式来声明，例如下面两种方式都是可以的\n",
    "{\"messages\": [HumanMessage(content=\"message\")]}\n",
    "{\"messages\": [{\"type\": \"human\", \"content\": \"message\"}]}"
   ],
   "metadata": {
    "collapsed": false
   },
   "id": "582290db49479f73"
  },
  {
   "cell_type": "markdown",
   "source": [
    "# 2、Node 节点\n",
    "\n",
    "Node是图中的一个处理数据的节点。也有以下几个需要注意的地方：\n",
    "\n",
    "- 在LangGraph中，Node通常是一个Python的函数，它接受一个State对象作为输入，返回一个State对象作为输出。\n",
    "- 每个Node都有一个唯一的名称，通常是一个字符串。如果没有提供名称，LangGraph会自动生成一个和函数名一样的名称。\n",
    "- 在具体实现时，通常包含两个具体的参数，第一个是State，这个是必选的。第二个是一个可选的配置项config。这里面包含了一些节点运行的配置参数。\n",
    "- LangGraph对每个Node提供了缓存机制。只要Node的传入参数相同，LangGraph就会优先从缓存当中获取Node的执行结果。从而提升Node的运行速度。"
   ],
   "metadata": {
    "collapsed": false
   },
   "id": "be723d93babf40c1"
  },
  {
   "cell_type": "code",
   "execution_count": 36,
   "outputs": [
    {
     "name": "stdout",
     "output_type": "stream",
     "text": [
      "[{'node1': {'number': 6, 'user_id': '123'}}]\n",
      "[{'node1': {'number': 6, 'user_id': '123'}, '__metadata__': {'cached': True}}]\n"
     ]
    }
   ],
   "source": [
    "import time\n",
    "from langchain_core.runnables import RunnableConfig\n",
    "from langgraph.constants import START, END\n",
    "from langgraph.graph import StateGraph\n",
    "from langgraph.types import CachePolicy\n",
    "from langgraph.cache.memory import InMemoryCache  # 是langgraph中的，而不是langchain中的。\n",
    "\n",
    "# 配置状态\n",
    "class State(TypedDict):\n",
    "    number: int\n",
    "    user_id: str\n",
    "\n",
    "# 配置信息\n",
    "class ConfigSchema(TypedDict):\n",
    "    user_id: str\n",
    "\n",
    "def node_1(state: State, config: RunnableConfig):\n",
    "    time.sleep(3)\n",
    "    user_id = config[\"configurable\"][\"user_id\"]\n",
    "    return {\"number\": state[\"number\"] + 1, \"user_id\": user_id}\n",
    "\n",
    "builder = StateGraph(State, config_schema=ConfigSchema)\n",
    "# Node缓存5秒\n",
    "builder.add_node(\"node1\", node_1, cache_policy=CachePolicy(ttl=5))\n",
    "\n",
    "builder.add_edge(START, \"node1\")\n",
    "builder.add_edge(\"node1\", END)\n",
    "\n",
    "graph = builder.compile(cache=InMemoryCache())\n",
    "print(graph.invoke({\"number\": 5}, config={\"configurable\": {\"user_id\": \"123\"}}, stream_mode='updates'))\n",
    "# [{'node': {'number': 6, 'user_id': '123'}}]\n",
    "# node入参相同，就会走缓存\n",
    "print(graph.invoke({\"number\": 5}, config={\"configurable\": {\"user_id\": \"456\"}}, stream_mode='updates'))\n",
    "# [{'node': {'number': 6, 'user_id': '123'}, '_metadata_': {'cached': True}}]"
   ],
   "metadata": {
    "collapsed": false,
    "ExecuteTime": {
     "end_time": "2025-07-18T05:41:02.370794300Z",
     "start_time": "2025-07-18T05:40:59.222257100Z"
    }
   },
   "id": "d6360d94fdf7933f"
  },
  {
   "cell_type": "markdown",
   "source": [
    "- 对于Node，LangGraph除了提供缓存机制，还提供了重试机制。\n",
    "  可以针对单个节点指定，例如：\n",
    "\n",
    "from langgraph.types import RetryPolicy\n",
    "builder.add_node(\"node1\", node_1, retry=RetryPolicy(max_attempts=4))\n",
    "\n",
    "另外，也可以针对某一次任务调用指定，例如\n",
    "\n",
    "print(graph.invoke(xxxxxx, config={\"recursion_limit\":25}))"
   ],
   "metadata": {
    "collapsed": false
   },
   "id": "4c45d746d525aeb2"
  },
  {
   "cell_type": "markdown",
   "source": [
    "# 3、Edge 边\n",
    "\n",
    "在Graph图中，通过Edge(边)把Node(节点)连接起来，从而决定State应该如何在Graph中传递。LangGraph中也提供了非常灵活的创建方式。\n",
    "\n",
    "- 普通Edge和EntryPoint\n",
    "  Edge通常是用来把两个Node连接起来，形成逻辑处理路线。例如 `graph.add_edge(\"node_1\",\"node_2\")`。\n",
    "  LangGraph中提供了两个默认的Node，START和END，用来作为Graph的入口和出口。\n",
    " 同时，也可以自行指定EntryPoint。例如\n",
    "builder = StateGraph(State)\n",
    "builder.set_entry_point(\"node1\") 图的入口\n",
    "builder.set_finish_point(\"node2\") 图的出口\n",
    "\n",
    "- 条件Edge和EntryPoint\n",
    "我们也可以添加带有条件判断的Edge和EntryPoint，用来动态构建更复杂的工作流程。\n",
    "具体实现时，可以指定一个函数，函数的返回值就可以是下一个Node的名称。"
   ],
   "metadata": {
    "collapsed": false
   },
   "id": "536cdc508e5a91dc"
  },
  {
   "cell_type": "code",
   "execution_count": null,
   "outputs": [],
   "source": [
    "from langchain_core.runnables import RunnableConfig\n",
    "from langgraph.constants import START, END\n",
    "from langgraph.graph import StateGraph\n",
    "\n",
    "# 配置状态\n",
    "class State(TypedDict):\n",
    "    number: int\n",
    "\n",
    "def node_1(state: State, config: RunnableConfig):\n",
    "    return {\"number\": state[\"number\"] + 1}\n",
    "\n",
    "builder = StateGraph(State)\n",
    "# Node缓存5秒\n",
    "builder.add_node(\"node1\", node_1)\n",
    "\n",
    "def routing_func(state: State) -> str:\n",
    "    if state[\"number\"] > 5:\n",
    "        return \"node1\"\n",
    "    else:\n",
    "        return END\n",
    "\n",
    "builder.add_edge(START, END)\n",
    "builder.add_conditional_edges(START, routing_func)\n",
    "\n",
    "graph = builder.compile()\n",
    "print(graph.invoke({\"number\": 4}))\n",
    "\n"
   ],
   "metadata": {
    "collapsed": false
   },
   "id": "4ff8d824ba697df9"
  },
  {
   "cell_type": "code",
   "execution_count": null,
   "outputs": [],
   "source": [
    "# 补充看一下Graph的结构\n",
    "from IPython.display import Image, display\n",
    "\n",
    "display(Image(graph.get_graph().draw_mermaid_png()))"
   ],
   "metadata": {
    "collapsed": false
   },
   "id": "f7b903d070aacba8"
  },
  {
   "cell_type": "markdown",
   "source": [
    "另外，如果不想在路由函数中写入过多具体的节点名称，也可以在函数中返回一个自定义的结果，然后将这个结果解析到某一个具体的Node上。例如\n"
   ],
   "metadata": {
    "collapsed": false
   },
   "id": "dfb48056c4fddaac"
  },
  {
   "cell_type": "code",
   "execution_count": null,
   "outputs": [],
   "source": [
    "def routing_func (state:State) -> bool:\n",
    "    if state[\"number\"] > 5:\n",
    "        return True\n",
    "    else:\n",
    "        return False\n",
    "\n",
    "builder.add_conditional_edges(START, routing_func,{True: \"node_a\", False: \"node_b\"})"
   ],
   "metadata": {
    "collapsed": false
   },
   "id": "cd15f6e3c8b4f7a3"
  },
  {
   "cell_type": "markdown",
   "source": [
    "- Send动态路由\n",
    "在路由中，如果希望一个Node后同时路由到多个Node，就可以返回Send动态路由的方式实现。\n",
    "Send对象可传入两个参数，第一个是下一个Node的名称，第二个是Node的输入。"
   ],
   "metadata": {
    "collapsed": false
   },
   "id": "12040b09ceedcb0f"
  },
  {
   "cell_type": "code",
   "execution_count": 37,
   "outputs": [
    {
     "name": "stdout",
     "output_type": "stream",
     "text": [
      "{'messages': ['hello', 'world', 'hello', 'graph', 'hello!', 'graph!', 'hello!', 'world!', 'hello!', 'graph!', 'hello!!', 'graph!!']}\n"
     ]
    }
   ],
   "source": [
    "from operator import add\n",
    "from typing import TypedDict, Annotated\n",
    "\n",
    "from langgraph.constants import START, END\n",
    "from langgraph.graph import StateGraph\n",
    "from langgraph.types import Send\n",
    "\n",
    "# 配置状态\n",
    "class State(TypedDict):\n",
    "    messages: Annotated[list[str], add]\n",
    "\n",
    "class PrivateState(TypedDict):\n",
    "    msg: str\n",
    "\n",
    "def node_1(state: PrivateState) -> State:\n",
    "    res = state[\"msg\"] + \"!\"\n",
    "    return {\"messages\": [res]}\n",
    "\n",
    "builder = StateGraph(State)\n",
    "# Node缓存5秒\n",
    "builder.add_node(\"node1\", node_1)\n",
    "\n",
    "def routing_func(state: State):\n",
    "    result = []\n",
    "    for message in state[\"messages\"]:\n",
    "        result.append(Send(\"node1\", {\"msg\": message}))\n",
    "    return result\n",
    "\n",
    "# 通过路由函数，将消息中每个字符串分别传入node1处理。\n",
    "builder.add_conditional_edges(START, routing_func, [\"node1\"])\n",
    "builder.add_edge(\"node1\", END)\n",
    "\n",
    "graph = builder.compile()\n",
    "print(graph.invoke({\"messages\": [\"hello\", \"world\", \"hello\", \"graph\", \"hello!\", \"graph!\"]}))\n",
    "#{'messages': ['hello', 'world', 'hello', 'graph', 'hello!', 'graph!']}\n"
   ],
   "metadata": {
    "collapsed": false,
    "ExecuteTime": {
     "end_time": "2025-07-18T06:32:13.873376700Z",
     "start_time": "2025-07-18T06:32:13.787187300Z"
    }
   },
   "id": "23e4c88d7a7862c7"
  },
  {
   "cell_type": "markdown",
   "source": [
    "# Command命令\n",
    "通常，Graph中一个典型的业务步骤是State进入一个Node处理。在Node中先更新State状态，然后再通过Edges传递给下一个Node。如果希望将这两个步骤合并为一个命令，那么还可以使用Command命令。"
   ],
   "metadata": {
    "collapsed": false
   },
   "id": "226788cab939f039"
  },
  {
   "cell_type": "code",
   "execution_count": null,
   "outputs": [],
   "source": [
    "from operator import add\n",
    "from typing import TypedDict, Annotated\n",
    "\n",
    "from langgraph.constants import START, END\n",
    "from langgraph.graph import StateGraph\n",
    "from langgraph.types import Command\n",
    "\n",
    "# 配置状态\n",
    "class State(TypedDict):\n",
    "    messages: Annotated[list[str], add]\n",
    "\n",
    "def node_1(state: State):\n",
    "    new_message = []\n",
    "    for message in state[\"messages\"]:\n",
    "        new_message.append( message + \"!\")\n",
    "    return Command(\n",
    "        goto=END,\n",
    "        update={\"messages\":new_message}\n",
    "    )\n",
    "\n",
    "builder = StateGraph(State)\n",
    "builder.add_node(\"node1\", node_1)\n",
    "# node1中通过Command同时集成了更新State和指定下个Node\n",
    "builder.add_edge(START, \"node1\")\n",
    "\n",
    "graph = builder.compile()\n",
    "print(graph.invoke({\"messages\": [\"hello\", \"world\", \"hello\", \"graph\", \"hello!\", \"world!\", \"graph!\"]}))\n",
    "# {\"messages\": ['hello', 'world', 'hello', 'graph', 'hello!', 'world!', 'graph!']}\n",
    "\n",
    "\n"
   ],
   "metadata": {
    "collapsed": false
   },
   "id": "2a2a2f384ca26a90"
  },
  {
   "cell_type": "markdown",
   "source": [
    "# 子图\n",
    "在LangGraph中，一个Graph除了可以单独使用，还可以作为一个Node嵌入到另一个Graph中。这种用法就称为子图。通过子图，我们可以更好的重用Graph，构建更复杂的工作流。尤其在构建多Agent时非常有用。在大型项目中，通常都是由一个团队专门开发Agent，再通过其他团队来完整Agent整合。\n",
    "使用子图时，基本和使用Node没有太多的区别。\n",
    "唯一需要注意的是，当触发了SubGraph代表的Node后，实际上是相当于重新调用了一次subgraph.invoke(state)方法。\n",
    "\n"
   ],
   "metadata": {
    "collapsed": false
   },
   "id": "cd620237007eee01"
  },
  {
   "cell_type": "code",
   "execution_count": null,
   "outputs": [],
   "source": [
    "# subgraph与graph使用相同State\n",
    "from operator import add\n",
    "from typing import TypedDict, Annotated\n",
    "\n",
    "from langgraph.constants import END\n",
    "from langgraph.graph import StateGraph, MessagesState, START\n",
    "\n",
    "class State(TypedDict):\n",
    "    messages: Annotated[list[str], add]\n",
    "\n",
    "# Subgraph\n",
    "def sub_node_1(state: State) -> MessagesState:\n",
    "    return {\"messages\": [\"response from subgraph\"]}\n",
    "\n",
    "subgraph_builder = StateGraph(State)\n",
    "subgraph_builder.add_node(\"sub_node_1\", sub_node_1)\n",
    "subgraph_builder.add_edge(START, \"sub_node_1\")\n",
    "subgraph_builder.add_edge(\"sub_node_1\", END)\n",
    "\n",
    "subgraph = subgraph_builder.compile()\n",
    "\n",
    "# Parent graph\n",
    "builder = StateGraph(State)\n",
    "builder.add_node(\"subgraph_node\", subgraph)\n",
    "builder.add_edge(START, \"subgraph_node\")\n",
    "builder.add_edge(\"subgraph_node\", END)\n",
    "graph = builder.compile()\n",
    "\n",
    "print(graph.invoke({\"messages\": [\"hello subgraph\"]}))\n",
    "# 结果hello subgraph会出现两次。这是因为subgraph_node中默认调用了一次subgraph.invoke(state)方法。主图里也调用了一次invoke。这就往state中添加两次语句\n",
    "#{'messages': ['hello subgraph', 'hello subgraph', 'response from subgraph']}"
   ],
   "metadata": {
    "collapsed": false
   },
   "id": "dad51aaab7c87401"
  },
  {
   "cell_type": "markdown",
   "source": [
    "5、图的Stream支持\n",
    "\n",
    "和调用大模型相似，Graph除了可以通过invoke方法进行直接调用外，也支持通过stream()方法进行流式调用。不过大模型的流式调用是依次返回大模型响应的Token。而Graph的流式输出则是依次返回State的数据处理步骤。\n",
    "graph提供了stream()方法进行同步的流式调用，也提供了astream()方法进行异步的流式调用。"
   ],
   "metadata": {
    "collapsed": false
   },
   "id": "411b3779bf8d5ba0"
  },
  {
   "cell_type": "code",
   "execution_count": null,
   "outputs": [],
   "source": [
    "for chunk in graph.stream({\"messages\": [\"hello subgraph\"]}, stream_mode=\"debug\"):\n",
    "    print(chunk)\n",
    "# {'subgraph_node': {'messages': ['hello subgraph', 'response from subgraph']}}"
   ],
   "metadata": {
    "collapsed": false
   },
   "id": "7a21ce0d9434ac13"
  },
  {
   "cell_type": "markdown",
   "source": [
    "LangGraph支持几种不同的stream mode：\n",
    "values: 在图的每一步之后流式传输状态的完整值。\n",
    "updates: 在图的每一步之后，将更新内容流式传输到状态。如果在同一步骤中进行了多次更新（例如，运行了多个节点），这些更新将分别进行流式传输。\n",
    "custom: 从图节点内部流式传输自定义数据。通常用于调试。\n",
    "messages: 从任何调用大语言模型（LLM）的图节点中，流式传输二元组（LLM的Token，元数据）\n",
    "debug: 在图的执行过程中尽可能多地传输信息。用得比较少。\n",
    "values、updates、debug输出模式，使用之前案例验证，就能很快感受到其中的区别。"
   ],
   "metadata": {
    "collapsed": false
   },
   "id": "2e8ea1c9c1e46d2b"
  },
  {
   "cell_type": "code",
   "execution_count": 38,
   "outputs": [
    {
     "name": "stdout",
     "output_type": "stream",
     "text": [
      "{'自定义key': '在节点内返回自定义信息'}\n"
     ]
    }
   ],
   "source": [
    "\n",
    "\n",
    "from typing import TypedDict\n",
    "from langgraph.config import get_stream_writer\n",
    "from langgraph.graph import StateGraph, START\n",
    "\n",
    "class State(TypedDict):\n",
    "    query: str\n",
    "    answer: str\n",
    "\n",
    "def node(state: State):\n",
    "    writer = get_stream_writer()\n",
    "    writer({\"自定义key\": \"在节点内返回自定义信息\"})\n",
    "    return {\"answer\": \"some data\"}\n",
    "\n",
    "graph = (\n",
    "    StateGraph(State)\n",
    "    .add_node(node)\n",
    "    .add_edge(START, \"node\")\n",
    "    .compile()\n",
    ")\n",
    "\n",
    "inputs = {\"query\": \"example\"}\n",
    "\n",
    "# Usage\n",
    "for chunk in graph.stream(inputs, stream_mode=\"custom\"):\n",
    "    print(chunk)"
   ],
   "metadata": {
    "collapsed": false,
    "ExecuteTime": {
     "end_time": "2025-07-18T07:04:35.533743700Z",
     "start_time": "2025-07-18T07:04:35.481626800Z"
    }
   },
   "id": "f3aa24fb848a2cef"
  },
  {
   "cell_type": "markdown",
   "source": [
    "五、总结\n",
    "\n",
    "在这一章节，我们详细演练了LangGraph中的Graph构建以及工作方式。可以看到，Graph图的构建非常灵活，我们可以自由地构建各种复杂的图结构。即使是没有与大模型交互的图，也可以通过LangGraph来构建。这对于处理传统任务也是非常有用的。\n",
    "\n",
    "当然，LangGraph中的图，还是要有大模型的加持，才能更好的体现他们的强大之处。下一章节我们就着重去演练大模型加持下的LangGraph。\n",
    "\n",
    "在这里，不妨回顾一下LangChain中的Chain是如何构建的，并与Graph做一下对比。可以看到，这两个框架都是着眼于将多个独立的功能模块组合进行调度、组合，形成复杂的智能体。只不过，LangChain使用的是Chain的方式，而LangGraph是使用Graph的方式。或许这样能够更好的体会到，为什么LangGraph是LangChain的一个子项目，而不是一个独立的框架了。\n",
    "\n"
   ],
   "metadata": {
    "collapsed": false
   },
   "id": "ca4303b17956c430"
  },
  {
   "cell_type": "markdown",
   "source": [
    "# 五、使用LangGraph构建多智能体工作流\n",
    "\n",
    "\n",
    "上一章节我们在没有大模型的加持下，全面演练了LangGraph的Graph图结构。这一章节，就结合大模型，来深入理解LangGraph如何通过Graph构建复杂的大模型应用。\n",
    "\n",
    "## 一、流式输出大模型调用结果\n",
    "\n",
    "在介绍Graph的流式输出时，我们提到LangGraph的Graph流式输出有几种不同的模式，其中有一种messages模式，是用来监控大语言模型的Token记录的。这里我们就可以来测试一下。"
   ],
   "metadata": {
    "collapsed": false
   },
   "id": "e447adb4b7057c"
  },
  {
   "cell_type": "code",
   "execution_count": null,
   "outputs": [],
   "source": [
    "from langchain_community.chat_models import ChatTongyi\n",
    "llm = LLMFactory.create_llm()\n",
    "# 构建阿里云百炼大模型客户端\n",
    "\n",
    "from langgraph.graph import StateGraph, MessagesState, START\n",
    "from langgraph.checkpoint.memory import InMemorySaver\n",
    "\n",
    "def call_model(state: MessagesState):\n",
    "    response = llm.invoke(state[\"messages\"])\n",
    "    return {\"messages\": response}\n",
    "\n",
    "builder = StateGraph(MessagesState)\n",
    "builder.add_node(call_model)\n",
    "builder.add_edge(START, \"call_model\")\n",
    "\n",
    "graph = builder.compile()\n",
    "\n",
    "for chunk in graph.stream(\n",
    "        {\"messages\": [{\"role\": \"user\", \"content\": \"湖南的省会是哪里？\"}]},\n",
    "        stream_mode=\"messages\",\n",
    "):\n",
    "    print(chunk)"
   ],
   "metadata": {
    "collapsed": false
   },
   "id": "554572d771d4236f"
  },
  {
   "cell_type": "markdown",
   "source": [
    "# 二、大模型消息持久化\n",
    "\n",
    "和之前介绍LangGraph的Agent相似，Graph图也支持构建消息的持久化功能。并且也通常支持通过checkpoint构建短期记忆，以store构建长期记忆。\n",
    "这里短期记忆和长期记忆，都是可以通过内存或者数据库进行持久化保存的。不过短期记忆更倾向于通过对消息的短期存储，实现多轮对话的效果。而长期记忆则倾向于对消息长期存储后支持语义检索。"
   ],
   "metadata": {
    "collapsed": false
   },
   "id": "b723a12723d783ad"
  },
  {
   "cell_type": "code",
   "execution_count": null,
   "outputs": [],
   "source": [
    "from langchain_community.chat_models import ChatTongyi\n",
    "from langgraph.graph import StateGraph, MessagesState, START\n",
    "from langgraph.checkpoint.memory import InMemorySaver\n",
    "\n",
    "def call_model(state: MessagesState):\n",
    "    response = llm.invoke(state[\"messages\"])\n",
    "    return {\"messages\": response}\n",
    "\n",
    "builder = StateGraph(MessagesState)\n",
    "builder.add_node(call_model)\n",
    "builder.add_edge(START, \"call_model\")\n",
    "\n",
    "checkpointer = InMemorySaver()\n",
    "graph = builder.compile(checkpointer=checkpointer)\n",
    "\n",
    "config = {\n",
    "    \"configurable\": {\n",
    "        \"thread_id\": \"1\"\n",
    "    }\n",
    "}\n",
    "\n",
    "for chunk in graph.stream(\n",
    "        input = {\"messages\": [{\"role\": \"user\", \"content\": \"湖南的省会是哪里？\"}]},\n",
    "        config = config,\n",
    "        stream_mode=\"values\",\n",
    "):\n",
    "    chunk[\"messages\"][-1].pretty_print()\n",
    "\n",
    "for chunk in graph.stream(\n",
    "        input = {\"messages\": [{\"role\": \"user\", \"content\": \"湖北呢？\"}]},\n",
    "        config = config,\n",
    "        stream_mode=\"values\",\n",
    "):\n",
    "    chunk[\"messages\"][-1].pretty_print()\n"
   ],
   "metadata": {
    "collapsed": false
   },
   "id": "364987b1dceece7a"
  },
  {
   "cell_type": "markdown",
   "source": [
    "三、Human-In-Loop人类干预\n",
    "\n",
    "在LangGraph中也可以通过中断任务，等待确认的方式，来实现过程干预，这样能够更好的减少大语言模型的结果不稳定给任务带来的影响。\n",
    "\n",
    "在具体实现人类干预时，需要注意一下几点：\n",
    "- 必须指定一个checkpoint短期记忆，否则无法保存任务状态。\n",
    "- 在执行Graph任务时，必须指定一个带有thread_id的配置项，指定线程ID。之后才能通过线程ID，指定恢复线程。\n",
    "- 在任务执行过程中，通过interrupt()方法，中断任务，等待确认。\n",
    "- 在人类确认之后，使用Graph提交一个resume=True的Command指令，恢复任务，并继续进行。\n",
    "\n",
    "这种实现方式，在之前介绍LangGraph构建单取块时已经介绍过，不过，结合Graph的State，在多个Node之间进行复杂控制，这样更能体现出人类监督的价值。\n",
    "\n",
    "例如，下面的案例可以实现这样一种典型的人类确认："
   ],
   "metadata": {
    "collapsed": false
   },
   "id": "998d7ab357505c61"
  },
  {
   "cell_type": "code",
   "execution_count": null,
   "outputs": [],
   "source": [
    "from langchain_core.messages import AnyMessage\n",
    "from langgraph.checkpoint.memory import InMemorySaver\n",
    "from langgraph.constants import START, END\n",
    "from langgraph.graph import StateGraph\n",
    "\n",
    "from langchain_community.chat_models import ChatTongyi\n",
    "# 构建阿里云百炼大模型客户端\n",
    "\n",
    "from typing import Literal, TypedDict, Annotated\n",
    "from langgraph.types import interrupt, Command\n",
    "\n",
    "class State(TypedDict):\n",
    "    messages: Annotated[list[AnyMessage], add]\n",
    "\n",
    "def human_approval(state: State) -> Command[Literal[\"call_llm\", END]]:\n",
    "    is_approved = interrupt(\n",
    "        {\n",
    "            \"question\": \"是否同意调用大语言模型？\"\n",
    "        }\n",
    "    )\n",
    "\n",
    "    if is_approved:\n",
    "        return Command(goto=\"call_llm\")\n",
    "    else:\n",
    "        return Command(goto=END)\n",
    "\n",
    "def call_llm(state: State):\n",
    "    response = llm.invoke(state[\"messages\"])\n",
    "    return {\"messages\": [response]}\n",
    "\n",
    "builder = StateGraph(State)\n",
    "# Add the node to the graph in an appropriate location\n",
    "# and connect it to the relevant nodes.\n",
    "builder.add_node(\"human_approval\", human_approval)\n",
    "builder.add_node(\"call_llm\", call_llm)\n",
    "\n",
    "builder.add_edge(START, \"human_approval\")\n",
    "\n",
    "checkpointer = InMemorySaver()\n",
    "\n",
    "graph = builder.compile(checkpointer=checkpointer)\n"
   ],
   "metadata": {
    "collapsed": false
   },
   "id": "a75806da2b17ae37"
  },
  {
   "cell_type": "code",
   "execution_count": null,
   "outputs": [],
   "source": [
    "from langchain_core.messages import HumanMessage\n",
    "\n",
    "# 提交任务，等待确认\n",
    "thread_config = {\"configurable\": {\"thread_id\": 1}}\n",
    "graph.invoke({\"messages\": [HumanMessage(\"湖南的省会是哪里？\")]}, config=thread_config)\n",
    "# 执行后会中断任务，等待确认"
   ],
   "metadata": {
    "collapsed": false
   },
   "id": "e8cda976061cba1c"
  },
  {
   "cell_type": "code",
   "execution_count": null,
   "outputs": [],
   "source": [
    "# 确认同意，继续执行任务\n",
    "final_result = graph.invoke(Command(resume=True), config=thread_config)\n",
    "print(final_result)\n",
    "# 不同意，终止任务\n",
    "# final_result = graph.invoke(Command(resume=False), config=thread_config)\n",
    "# print(final_result)"
   ],
   "metadata": {
    "collapsed": false
   },
   "id": "65f38bde8ecf6d7e"
  },
  {
   "cell_type": "markdown",
   "source": [
    "注意：\n",
    "- 任务中断和恢复，需要保持相同的thread_id。通常应用当中都会单独生成一个随机的thread_id，保证唯一的同时，防止其他任务干扰。\n",
    "- interrupt()方法中断任务的时间不能过长，过长了之后就无法恢复任务了。\n",
    "- 任务确认时，Command中传递的resume可以是简单的True或False，也可以是一个字典。通过字典可以进行更多的判断。"
   ],
   "metadata": {
    "collapsed": false
   },
   "id": "150d7a7d4c7a7460"
  },
  {
   "cell_type": "markdown",
   "source": [
    "四、Time Travel时间回溯\n",
    "\n",
    "由于大语言模型回答问题的不确定性，基于大语言模型构建的应用，也是充满不确定性的。而对于这种不确定性的系统，就有必要进行更精确的检查。当某一个步骤出现问题时，才能及时发现问题，并将问题的那个步骤进行重演。为此，LangGraph提供了Time Travel时间回溯功能，可以保存Graph的运行过程，并可手动指定从Graph的某一个Node开始进行重演。\n",
    "\n",
    "具体实现时，需要注意以下几点：\n",
    "- 在运行Graph时，需要提供初始的输入消息。\n",
    "- 运行时，指定thread_id线程ID。并且要基于这个线程ID，再指定一个checkpoint检查点。执行后将在每一个Node执行后，生成一个checkpoint_id\n",
    "- 指定thread_id和checkpoint_id，进行任务重演。重演前，可以选择更新state，当然，如果没问题，也可以不指定。"
   ],
   "metadata": {
    "collapsed": false
   },
   "id": "6fac7f964c66c03b"
  },
  {
   "cell_type": "code",
   "execution_count": null,
   "outputs": [],
   "source": [
    "# 构建一个图。图中两个步骤：第一步让大模型推荐一个有名的作家，第二步，让大模型用推荐的作家的风格写一个100字以内的笑话。\n",
    "from typing import TypedDict\n",
    "from typing_extensions import NotRequired\n",
    "from langgraph.checkpoint.memory import InMemorySaver\n",
    "from langgraph.constants import START, END\n",
    "from langgraph.graph import StateGraph\n",
    "from langchain_community.chat_models import ChatTongyi\n",
    "# 构建阿里云百炼大模型客户端\n",
    "\n",
    "class State(TypedDict):\n",
    "    author: NotRequired[str]\n",
    "    joke: NotRequired[str]\n",
    "\n",
    "def author_node(state: State):\n",
    "    prompt = \"帮我推荐一位受人们欢迎的作家。只需要给出作家的名字即可。\"\n",
    "    author = llm.invoke(prompt)\n",
    "    return {\"author\": author}\n",
    "\n",
    "def joke_node(state: State):\n",
    "    prompt = f\"用作家: {state['author']} 的风格写一个100字以内的笑话\"\n",
    "    joke = llm.invoke(prompt)\n",
    "    return {\"joke\": joke}\n",
    "\n",
    "builder = StateGraph(State)\n",
    "builder.add_node(author_node)\n",
    "builder.add_node(joke_node)\n",
    "builder.add_edge(START, \"author_node\")\n",
    "builder.add_edge(\"author_node\", \"joke_node\")\n",
    "builder.add_edge(\"joke_node\", END)\n",
    "\n",
    "checkpointer = InMemorySaver()\n",
    "graph = builder.compile(checkpointer=checkpointer)"
   ],
   "metadata": {
    "collapsed": false
   },
   "id": "6a30371d1840efde"
  },
  {
   "cell_type": "code",
   "execution_count": null,
   "outputs": [],
   "source": [
    "# 正常执行一个图\n",
    "import uuid\n",
    "\n",
    "config = {\n",
    "    \"configurable\": {\n",
    "        \"thread_id\": uuid.uuid4(),\n",
    "    }\n",
    "}\n",
    "state = graph.invoke({}, config)\n",
    "\n",
    "print(state[\"author\"])\n",
    "print()\n",
    "print(state[\"joke\"])"
   ],
   "metadata": {
    "collapsed": false
   },
   "id": "3c16d1ca6124358"
  },
  {
   "cell_type": "code",
   "execution_count": null,
   "outputs": [],
   "source": [
    "# 查看所有checkpoint检查点\n",
    "states = list(graph.get_state_history(config))\n",
    "\n",
    "for state in states:\n",
    "    print(state.next)\n",
    "    print(state.config[\"configurable\"][\"checkpoint_id\"])\n",
    "    print()"
   ],
   "metadata": {
    "collapsed": false
   },
   "id": "271a4c90bf395c07"
  },
  {
   "cell_type": "code",
   "execution_count": null,
   "outputs": [],
   "source": [
    "# 选定某一个检查点。这里选择author_node，让大模型重新推荐作家\n",
    "selected_state = states[1]\n",
    "print(selected_state.next)\n",
    "print(selected_state.values)"
   ],
   "metadata": {
    "collapsed": false
   },
   "id": "604577458d1d8beb"
  },
  {
   "cell_type": "code",
   "execution_count": null,
   "outputs": [],
   "source": [
    "# 为了后面的重演，更新state。可选步骤：\n",
    "new_config = graph.update_state(selected_state.config, values={\"author\": \"郭德纲\"})\n",
    "print(new_config)"
   ],
   "metadata": {
    "collapsed": false
   },
   "id": "9c220b2bdda54ec6"
  },
  {
   "cell_type": "code",
   "execution_count": null,
   "outputs": [],
   "source": [
    "# 接下来，指定thread_id和checkpoint_id，进行重演\n",
    "graph.invoke(None, new_config)"
   ],
   "metadata": {
    "collapsed": false
   },
   "id": "8063d1f63064647d"
  },
  {
   "cell_type": "markdown",
   "source": [
    "五、多智能体架构\n",
    "\n",
    "可以看到，在LangChain体系中，LangChain主要集成了和大语言模型交互的能力，而LangGraph主要实现了复杂的流程调度。将这两个能力结合起来，一个强大的多智能体构建框架就已经成型了。\n",
    "\n",
    "接下来，我们就用LangGraph来实现一个非常典型的多智能体架构，作为一个完整的案例。\n",
    "- 这个机器人可以通过一个supervisor节点，对用户的输入进行分类，然后根据分类结果，选择不同的agent节点进行处理。\n",
    "- 接下来每个agent节点，都可以选择不同的工具进行处理，最后将处理结果汇总，返回给supervisor节点。\n",
    "- supervisor节点再将结果返回给用户。"
   ],
   "metadata": {
    "collapsed": false
   },
   "id": "e2e0b71d0eca1388"
  },
  {
   "cell_type": "code",
   "execution_count": null,
   "outputs": [],
   "source": [],
   "metadata": {
    "collapsed": false
   },
   "id": "5c2fb66e410447c2"
  }
 ],
 "metadata": {
  "kernelspec": {
   "display_name": "Python 3",
   "language": "python",
   "name": "python3"
  },
  "language_info": {
   "codemirror_mode": {
    "name": "ipython",
    "version": 2
   },
   "file_extension": ".py",
   "mimetype": "text/x-python",
   "name": "python",
   "nbconvert_exporter": "python",
   "pygments_lexer": "ipython2",
   "version": "2.7.6"
  }
 },
 "nbformat": 4,
 "nbformat_minor": 5
}
