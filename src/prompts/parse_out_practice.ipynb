{
 "cells": [
  {
   "cell_type": "code",
   "execution_count": 14,
   "id": "initial_id",
   "metadata": {
    "collapsed": true,
    "ExecuteTime": {
     "end_time": "2025-07-14T06:29:47.487375Z",
     "start_time": "2025-07-14T06:29:47.460515Z"
    }
   },
   "outputs": [],
   "source": [
    "from src.llm.llm_factory import LLMFactory\n",
    "\n",
    "model = LLMFactory.create_llm()"
   ]
  },
  {
   "cell_type": "code",
   "execution_count": 27,
   "outputs": [
    {
     "name": "stdout",
     "output_type": "stream",
     "text": [
      "```json\n",
      "{\n",
      "  \"setup\": \"为什么电脑永远不会感冒？\",\n",
      "  \"punchline\": \"因为它有Windows（窗户）！\"\n",
      "}\n",
      "```\n"
     ]
    },
    {
     "data": {
      "text/plain": "Joke(setup='为什么电脑永远不会感冒？', punchline='因为它有Windows（窗户）！')"
     },
     "execution_count": 27,
     "metadata": {},
     "output_type": "execute_result"
    }
   ],
   "source": [
    "# 讲笑话机器人： 希望每次根据指令， 可以输出一个这样的笑话（小明是怎么死的？笨死的）\n",
    "\n",
    "from langchain.output_parsers import PydanticOutputParser\n",
    "from langchain.prompts import PromptTemplate\n",
    "from pydantic import BaseModel, Field, field_validator\n",
    "from typing import List\n",
    "class Joke(BaseModel):\n",
    "    setup: str = Field(description=\"设置笑话的问题\")\n",
    "    punchline: str = Field(description=\"回答笑话的答案\")\n",
    "    \n",
    "    @field_validator(\"setup\")\n",
    "    def question_mark(cls, field):\n",
    "        if not field.endswith(\"？\"):\n",
    "            raise ValueError(\"Setup must end with a question mark.\")\n",
    "        return field\n",
    "# 将joke数据模型传入\n",
    "parser = PydanticOutputParser(pydantic_object=Joke)\n",
    "prompt = PromptTemplate(\n",
    "    template = \"回答用户的输入. \\n{format_instrc}\\n{query}\\n\",\n",
    "    input_variales = [\"query\"],\n",
    "    partial_variables = {\"format_instrc\": parser.get_format_instructions()}\n",
    ")\n",
    "pipline = prompt | model\n",
    "output = pipline.invoke({\"query\": \"给我讲一个笑话\"})\n",
    "print(output.content)\n",
    "parser.parse(output.content)\n"
   ],
   "metadata": {
    "collapsed": false,
    "ExecuteTime": {
     "end_time": "2025-07-14T06:40:47.298106800Z",
     "start_time": "2025-07-14T06:40:42.075418700Z"
    }
   },
   "id": "e1c0ecdc1672734e"
  },
  {
   "cell_type": "code",
   "execution_count": 31,
   "outputs": [
    {
     "name": "stdout",
     "output_type": "stream",
     "text": [
      "['李明', '张伟', '王芳', '李娜', '刘强']\n"
     ]
    }
   ],
   "source": [
    "# LLm的输出格式为Python List 形式 列入 ['a', 'b', 'c']\n",
    "\n",
    "from langchain.output_parsers import CommaSeparatedListOutputParser\n",
    "from langchain.prompts import PromptTemplate\n",
    "\n",
    "parser = CommaSeparatedListOutputParser()\n",
    "\n",
    "prompt = PromptTemplate(\n",
    "    template = \"列出5个{subject}.\\n{format_instruction}\",\n",
    "    input_variables = [\"subject\"],\n",
    "    partial_variables = {\"format_instruction\": parser.get_format_instructions() }\n",
    ")\n",
    "prompt.format(subject = \"常见的中国人名字\")\n",
    "pipline = prompt | model\n",
    "output = pipline.invoke({\"subject\": \"常见的中国人名字\"})\n",
    "\n",
    "print(parser.parse(output.content))\n",
    "\n"
   ],
   "metadata": {
    "collapsed": false,
    "ExecuteTime": {
     "end_time": "2025-07-14T06:54:19.348995800Z",
     "start_time": "2025-07-14T06:54:14.533375700Z"
    }
   },
   "id": "dca08723b38e3cf0"
  }
 ],
 "metadata": {
  "kernelspec": {
   "display_name": "Python 3",
   "language": "python",
   "name": "python3"
  },
  "language_info": {
   "codemirror_mode": {
    "name": "ipython",
    "version": 2
   },
   "file_extension": ".py",
   "mimetype": "text/x-python",
   "name": "python",
   "nbconvert_exporter": "python",
   "pygments_lexer": "ipython2",
   "version": "2.7.6"
  }
 },
 "nbformat": 4,
 "nbformat_minor": 5
}
